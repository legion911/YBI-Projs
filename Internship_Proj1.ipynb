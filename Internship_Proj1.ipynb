{
  "nbformat": 4,
  "nbformat_minor": 0,
  "metadata": {
    "colab": {
      "provenance": [],
      "authorship_tag": "ABX9TyMENrlSwOyMVVYotJxOPKkP",
      "include_colab_link": true
    },
    "kernelspec": {
      "name": "python3",
      "display_name": "Python 3"
    },
    "language_info": {
      "name": "python"
    }
  },
  "cells": [
    {
      "cell_type": "markdown",
      "metadata": {
        "id": "view-in-github",
        "colab_type": "text"
      },
      "source": [
        "<a href=\"https://colab.research.google.com/github/legion911/YBI-Projs/blob/main/Internship_Proj1.ipynb\" target=\"_parent\"><img src=\"https://colab.research.google.com/assets/colab-badge.svg\" alt=\"Open In Colab\"/></a>"
      ]
    },
    {
      "cell_type": "markdown",
      "source": [
        "# **Movie Recommendation System** #\n",
        "\n",
        "**Objective** - To design a recommendation system based on movies which would analyze the past preferences of the user concerned, and then would use this information to try to find similar movies.\n",
        "\n",
        "**Recommendation System** - Recommendation systems are becoming increasingly important in today’s extremely busy world. People are always short on time with the myriad tasks they need to accomplish in the limited 24 hours. Therefore, the recommendation systems are important as they help them make the right choices, without having to expend their cognitive resources.\n",
        "\n",
        "**Purpose** - The purpose of a recommendation system basically is to search for content that would be interesting to an individual. Moreover, it involves a number of factors to create personalised lists of useful and interesting content specific to each user/individual. Recommendation systems are Artificial Intelligence based algorithms that skim through all possible options and create a customized list of items that are interesting and relevant to an individual.\n",
        "\n",
        "A movie based recommender system is a software tool that suggests movies to users based on their personal preferences. It uses algorithms & machine learning to analyze data points, such as a user's previous movie choices & ratings, to generate personalized recommendations.\n",
        "\n"
      ],
      "metadata": {
        "id": "lfvcQiBcLas7"
      }
    },
    {
      "cell_type": "markdown",
      "source": [
        "# **Import libraries**"
      ],
      "metadata": {
        "id": "i_4UsjdgNYio"
      }
    },
    {
      "cell_type": "code",
      "execution_count": 154,
      "metadata": {
        "id": "P-MT0WxaK5xe"
      },
      "outputs": [],
      "source": [
        "import pandas as pd\n",
        "import numpy as np"
      ]
    },
    {
      "cell_type": "markdown",
      "source": [
        "# **Import data**"
      ],
      "metadata": {
        "id": "PnLjsROYNlmT"
      }
    },
    {
      "cell_type": "code",
      "source": [
        "movies = pd.read_csv('https://github.com/YBIFoundation/Dataset/raw/main/Movies%20Recommendation.csv')"
      ],
      "metadata": {
        "id": "A9TO-P30NgJt"
      },
      "execution_count": 155,
      "outputs": []
    },
    {
      "cell_type": "markdown",
      "source": [
        "# **Describe Data**"
      ],
      "metadata": {
        "id": "LPrJA8RtS3Bj"
      }
    },
    {
      "cell_type": "code",
      "source": [
        "movies.head()"
      ],
      "metadata": {
        "colab": {
          "base_uri": "https://localhost:8080/",
          "height": 716
        },
        "id": "eEX7_uOyN5Bx",
        "outputId": "4fd820aa-e364-4100-8c31-d98d987af68d"
      },
      "execution_count": 156,
      "outputs": [
        {
          "output_type": "execute_result",
          "data": {
            "text/plain": [
              "   Movie_ID      Movie_Title                       Movie_Genre Movie_Language  \\\n",
              "0         1       Four Rooms                      Crime Comedy             en   \n",
              "1         2        Star Wars  Adventure Action Science Fiction             en   \n",
              "2         3     Finding Nemo                  Animation Family             en   \n",
              "3         4     Forrest Gump              Comedy Drama Romance             en   \n",
              "4         5  American Beauty                             Drama             en   \n",
              "\n",
              "   Movie_Budget  Movie_Popularity Movie_Release_Date  Movie_Revenue  \\\n",
              "0       4000000         22.876230         09-12-1995        4300000   \n",
              "1      11000000        126.393695         25-05-1977      775398007   \n",
              "2      94000000         85.688789         30-05-2003      940335536   \n",
              "3      55000000        138.133331         06-07-1994      677945399   \n",
              "4      15000000         80.878605         15-09-1999      356296601   \n",
              "\n",
              "   Movie_Runtime  Movie_Vote  ...  \\\n",
              "0           98.0         6.5  ...   \n",
              "1          121.0         8.1  ...   \n",
              "2          100.0         7.6  ...   \n",
              "3          142.0         8.2  ...   \n",
              "4          122.0         7.9  ...   \n",
              "\n",
              "                                      Movie_Homepage  \\\n",
              "0                                                NaN   \n",
              "1  http://www.starwars.com/films/star-wars-episod...   \n",
              "2              http://movies.disney.com/finding-nemo   \n",
              "3                                                NaN   \n",
              "4                      http://www.dreamworks.com/ab/   \n",
              "\n",
              "                                      Movie_Keywords  \\\n",
              "0          hotel new year's eve witch bet hotel room   \n",
              "1        android galaxy hermit death star lightsaber   \n",
              "2  father son relationship harbor underwater fish...   \n",
              "3  vietnam veteran hippie mentally disabled runni...   \n",
              "4  male nudity female nudity adultery midlife cri...   \n",
              "\n",
              "                                      Movie_Overview  \\\n",
              "0  It's Ted the Bellhop's first night on the job....   \n",
              "1  Princess Leia is captured and held hostage by ...   \n",
              "2  Nemo, an adventurous young clownfish, is unexp...   \n",
              "3  A man with a low IQ has accomplished great thi...   \n",
              "4  Lester Burnham, a depressed suburban father in...   \n",
              "\n",
              "                              Movie_Production_House  \\\n",
              "0  [{\"name\": \"Miramax Films\", \"id\": 14}, {\"name\":...   \n",
              "1  [{\"name\": \"Lucasfilm\", \"id\": 1}, {\"name\": \"Twe...   \n",
              "2     [{\"name\": \"Pixar Animation Studios\", \"id\": 3}]   \n",
              "3          [{\"name\": \"Paramount Pictures\", \"id\": 4}]   \n",
              "4  [{\"name\": \"DreamWorks SKG\", \"id\": 27}, {\"name\"...   \n",
              "\n",
              "                            Movie_Production_Country  \\\n",
              "0  [{\"iso_3166_1\": \"US\", \"name\": \"United States o...   \n",
              "1  [{\"iso_3166_1\": \"US\", \"name\": \"United States o...   \n",
              "2  [{\"iso_3166_1\": \"US\", \"name\": \"United States o...   \n",
              "3  [{\"iso_3166_1\": \"US\", \"name\": \"United States o...   \n",
              "4  [{\"iso_3166_1\": \"US\", \"name\": \"United States o...   \n",
              "\n",
              "                      Movie_Spoken_Language  \\\n",
              "0  [{\"iso_639_1\": \"en\", \"name\": \"English\"}]   \n",
              "1  [{\"iso_639_1\": \"en\", \"name\": \"English\"}]   \n",
              "2  [{\"iso_639_1\": \"en\", \"name\": \"English\"}]   \n",
              "3  [{\"iso_639_1\": \"en\", \"name\": \"English\"}]   \n",
              "4  [{\"iso_639_1\": \"en\", \"name\": \"English\"}]   \n",
              "\n",
              "                                       Movie_Tagline  \\\n",
              "0  Twelve outrageous guests. Four scandalous requ...   \n",
              "1       A long time ago in a galaxy far, far away...   \n",
              "2  There are 3.7 trillion fish in the ocean, they...   \n",
              "3  The world will never be the same, once you've ...   \n",
              "4                                       Look closer.   \n",
              "\n",
              "                                          Movie_Cast  \\\n",
              "0  Tim Roth Antonio Banderas Jennifer Beals Madon...   \n",
              "1  Mark Hamill Harrison Ford Carrie Fisher Peter ...   \n",
              "2  Albert Brooks Ellen DeGeneres Alexander Gould ...   \n",
              "3  Tom Hanks Robin Wright Gary Sinise Mykelti Wil...   \n",
              "4  Kevin Spacey Annette Bening Thora Birch Wes Be...   \n",
              "\n",
              "                                          Movie_Crew   Movie_Director  \n",
              "0  [{'name': 'Allison Anders', 'gender': 1, 'depa...   Allison Anders  \n",
              "1  [{'name': 'George Lucas', 'gender': 2, 'depart...     George Lucas  \n",
              "2  [{'name': 'Andrew Stanton', 'gender': 2, 'depa...   Andrew Stanton  \n",
              "3  [{'name': 'Alan Silvestri', 'gender': 2, 'depa...  Robert Zemeckis  \n",
              "4  [{'name': 'Thomas Newman', 'gender': 2, 'depar...       Sam Mendes  \n",
              "\n",
              "[5 rows x 21 columns]"
            ],
            "text/html": [
              "\n",
              "\n",
              "  <div id=\"df-edea50b1-c4d7-4a4a-966d-ff153e63e7c0\">\n",
              "    <div class=\"colab-df-container\">\n",
              "      <div>\n",
              "<style scoped>\n",
              "    .dataframe tbody tr th:only-of-type {\n",
              "        vertical-align: middle;\n",
              "    }\n",
              "\n",
              "    .dataframe tbody tr th {\n",
              "        vertical-align: top;\n",
              "    }\n",
              "\n",
              "    .dataframe thead th {\n",
              "        text-align: right;\n",
              "    }\n",
              "</style>\n",
              "<table border=\"1\" class=\"dataframe\">\n",
              "  <thead>\n",
              "    <tr style=\"text-align: right;\">\n",
              "      <th></th>\n",
              "      <th>Movie_ID</th>\n",
              "      <th>Movie_Title</th>\n",
              "      <th>Movie_Genre</th>\n",
              "      <th>Movie_Language</th>\n",
              "      <th>Movie_Budget</th>\n",
              "      <th>Movie_Popularity</th>\n",
              "      <th>Movie_Release_Date</th>\n",
              "      <th>Movie_Revenue</th>\n",
              "      <th>Movie_Runtime</th>\n",
              "      <th>Movie_Vote</th>\n",
              "      <th>...</th>\n",
              "      <th>Movie_Homepage</th>\n",
              "      <th>Movie_Keywords</th>\n",
              "      <th>Movie_Overview</th>\n",
              "      <th>Movie_Production_House</th>\n",
              "      <th>Movie_Production_Country</th>\n",
              "      <th>Movie_Spoken_Language</th>\n",
              "      <th>Movie_Tagline</th>\n",
              "      <th>Movie_Cast</th>\n",
              "      <th>Movie_Crew</th>\n",
              "      <th>Movie_Director</th>\n",
              "    </tr>\n",
              "  </thead>\n",
              "  <tbody>\n",
              "    <tr>\n",
              "      <th>0</th>\n",
              "      <td>1</td>\n",
              "      <td>Four Rooms</td>\n",
              "      <td>Crime Comedy</td>\n",
              "      <td>en</td>\n",
              "      <td>4000000</td>\n",
              "      <td>22.876230</td>\n",
              "      <td>09-12-1995</td>\n",
              "      <td>4300000</td>\n",
              "      <td>98.0</td>\n",
              "      <td>6.5</td>\n",
              "      <td>...</td>\n",
              "      <td>NaN</td>\n",
              "      <td>hotel new year's eve witch bet hotel room</td>\n",
              "      <td>It's Ted the Bellhop's first night on the job....</td>\n",
              "      <td>[{\"name\": \"Miramax Films\", \"id\": 14}, {\"name\":...</td>\n",
              "      <td>[{\"iso_3166_1\": \"US\", \"name\": \"United States o...</td>\n",
              "      <td>[{\"iso_639_1\": \"en\", \"name\": \"English\"}]</td>\n",
              "      <td>Twelve outrageous guests. Four scandalous requ...</td>\n",
              "      <td>Tim Roth Antonio Banderas Jennifer Beals Madon...</td>\n",
              "      <td>[{'name': 'Allison Anders', 'gender': 1, 'depa...</td>\n",
              "      <td>Allison Anders</td>\n",
              "    </tr>\n",
              "    <tr>\n",
              "      <th>1</th>\n",
              "      <td>2</td>\n",
              "      <td>Star Wars</td>\n",
              "      <td>Adventure Action Science Fiction</td>\n",
              "      <td>en</td>\n",
              "      <td>11000000</td>\n",
              "      <td>126.393695</td>\n",
              "      <td>25-05-1977</td>\n",
              "      <td>775398007</td>\n",
              "      <td>121.0</td>\n",
              "      <td>8.1</td>\n",
              "      <td>...</td>\n",
              "      <td>http://www.starwars.com/films/star-wars-episod...</td>\n",
              "      <td>android galaxy hermit death star lightsaber</td>\n",
              "      <td>Princess Leia is captured and held hostage by ...</td>\n",
              "      <td>[{\"name\": \"Lucasfilm\", \"id\": 1}, {\"name\": \"Twe...</td>\n",
              "      <td>[{\"iso_3166_1\": \"US\", \"name\": \"United States o...</td>\n",
              "      <td>[{\"iso_639_1\": \"en\", \"name\": \"English\"}]</td>\n",
              "      <td>A long time ago in a galaxy far, far away...</td>\n",
              "      <td>Mark Hamill Harrison Ford Carrie Fisher Peter ...</td>\n",
              "      <td>[{'name': 'George Lucas', 'gender': 2, 'depart...</td>\n",
              "      <td>George Lucas</td>\n",
              "    </tr>\n",
              "    <tr>\n",
              "      <th>2</th>\n",
              "      <td>3</td>\n",
              "      <td>Finding Nemo</td>\n",
              "      <td>Animation Family</td>\n",
              "      <td>en</td>\n",
              "      <td>94000000</td>\n",
              "      <td>85.688789</td>\n",
              "      <td>30-05-2003</td>\n",
              "      <td>940335536</td>\n",
              "      <td>100.0</td>\n",
              "      <td>7.6</td>\n",
              "      <td>...</td>\n",
              "      <td>http://movies.disney.com/finding-nemo</td>\n",
              "      <td>father son relationship harbor underwater fish...</td>\n",
              "      <td>Nemo, an adventurous young clownfish, is unexp...</td>\n",
              "      <td>[{\"name\": \"Pixar Animation Studios\", \"id\": 3}]</td>\n",
              "      <td>[{\"iso_3166_1\": \"US\", \"name\": \"United States o...</td>\n",
              "      <td>[{\"iso_639_1\": \"en\", \"name\": \"English\"}]</td>\n",
              "      <td>There are 3.7 trillion fish in the ocean, they...</td>\n",
              "      <td>Albert Brooks Ellen DeGeneres Alexander Gould ...</td>\n",
              "      <td>[{'name': 'Andrew Stanton', 'gender': 2, 'depa...</td>\n",
              "      <td>Andrew Stanton</td>\n",
              "    </tr>\n",
              "    <tr>\n",
              "      <th>3</th>\n",
              "      <td>4</td>\n",
              "      <td>Forrest Gump</td>\n",
              "      <td>Comedy Drama Romance</td>\n",
              "      <td>en</td>\n",
              "      <td>55000000</td>\n",
              "      <td>138.133331</td>\n",
              "      <td>06-07-1994</td>\n",
              "      <td>677945399</td>\n",
              "      <td>142.0</td>\n",
              "      <td>8.2</td>\n",
              "      <td>...</td>\n",
              "      <td>NaN</td>\n",
              "      <td>vietnam veteran hippie mentally disabled runni...</td>\n",
              "      <td>A man with a low IQ has accomplished great thi...</td>\n",
              "      <td>[{\"name\": \"Paramount Pictures\", \"id\": 4}]</td>\n",
              "      <td>[{\"iso_3166_1\": \"US\", \"name\": \"United States o...</td>\n",
              "      <td>[{\"iso_639_1\": \"en\", \"name\": \"English\"}]</td>\n",
              "      <td>The world will never be the same, once you've ...</td>\n",
              "      <td>Tom Hanks Robin Wright Gary Sinise Mykelti Wil...</td>\n",
              "      <td>[{'name': 'Alan Silvestri', 'gender': 2, 'depa...</td>\n",
              "      <td>Robert Zemeckis</td>\n",
              "    </tr>\n",
              "    <tr>\n",
              "      <th>4</th>\n",
              "      <td>5</td>\n",
              "      <td>American Beauty</td>\n",
              "      <td>Drama</td>\n",
              "      <td>en</td>\n",
              "      <td>15000000</td>\n",
              "      <td>80.878605</td>\n",
              "      <td>15-09-1999</td>\n",
              "      <td>356296601</td>\n",
              "      <td>122.0</td>\n",
              "      <td>7.9</td>\n",
              "      <td>...</td>\n",
              "      <td>http://www.dreamworks.com/ab/</td>\n",
              "      <td>male nudity female nudity adultery midlife cri...</td>\n",
              "      <td>Lester Burnham, a depressed suburban father in...</td>\n",
              "      <td>[{\"name\": \"DreamWorks SKG\", \"id\": 27}, {\"name\"...</td>\n",
              "      <td>[{\"iso_3166_1\": \"US\", \"name\": \"United States o...</td>\n",
              "      <td>[{\"iso_639_1\": \"en\", \"name\": \"English\"}]</td>\n",
              "      <td>Look closer.</td>\n",
              "      <td>Kevin Spacey Annette Bening Thora Birch Wes Be...</td>\n",
              "      <td>[{'name': 'Thomas Newman', 'gender': 2, 'depar...</td>\n",
              "      <td>Sam Mendes</td>\n",
              "    </tr>\n",
              "  </tbody>\n",
              "</table>\n",
              "<p>5 rows × 21 columns</p>\n",
              "</div>\n",
              "      <button class=\"colab-df-convert\" onclick=\"convertToInteractive('df-edea50b1-c4d7-4a4a-966d-ff153e63e7c0')\"\n",
              "              title=\"Convert this dataframe to an interactive table.\"\n",
              "              style=\"display:none;\">\n",
              "\n",
              "  <svg xmlns=\"http://www.w3.org/2000/svg\" height=\"24px\"viewBox=\"0 0 24 24\"\n",
              "       width=\"24px\">\n",
              "    <path d=\"M0 0h24v24H0V0z\" fill=\"none\"/>\n",
              "    <path d=\"M18.56 5.44l.94 2.06.94-2.06 2.06-.94-2.06-.94-.94-2.06-.94 2.06-2.06.94zm-11 1L8.5 8.5l.94-2.06 2.06-.94-2.06-.94L8.5 2.5l-.94 2.06-2.06.94zm10 10l.94 2.06.94-2.06 2.06-.94-2.06-.94-.94-2.06-.94 2.06-2.06.94z\"/><path d=\"M17.41 7.96l-1.37-1.37c-.4-.4-.92-.59-1.43-.59-.52 0-1.04.2-1.43.59L10.3 9.45l-7.72 7.72c-.78.78-.78 2.05 0 2.83L4 21.41c.39.39.9.59 1.41.59.51 0 1.02-.2 1.41-.59l7.78-7.78 2.81-2.81c.8-.78.8-2.07 0-2.86zM5.41 20L4 18.59l7.72-7.72 1.47 1.35L5.41 20z\"/>\n",
              "  </svg>\n",
              "      </button>\n",
              "\n",
              "\n",
              "\n",
              "    <div id=\"df-684258aa-fa02-488c-8f88-e0ed7bef2e5e\">\n",
              "      <button class=\"colab-df-quickchart\" onclick=\"quickchart('df-684258aa-fa02-488c-8f88-e0ed7bef2e5e')\"\n",
              "              title=\"Suggest charts.\"\n",
              "              style=\"display:none;\">\n",
              "\n",
              "<svg xmlns=\"http://www.w3.org/2000/svg\" height=\"24px\"viewBox=\"0 0 24 24\"\n",
              "     width=\"24px\">\n",
              "    <g>\n",
              "        <path d=\"M19 3H5c-1.1 0-2 .9-2 2v14c0 1.1.9 2 2 2h14c1.1 0 2-.9 2-2V5c0-1.1-.9-2-2-2zM9 17H7v-7h2v7zm4 0h-2V7h2v10zm4 0h-2v-4h2v4z\"/>\n",
              "    </g>\n",
              "</svg>\n",
              "      </button>\n",
              "    </div>\n",
              "\n",
              "<style>\n",
              "  .colab-df-quickchart {\n",
              "    background-color: #E8F0FE;\n",
              "    border: none;\n",
              "    border-radius: 50%;\n",
              "    cursor: pointer;\n",
              "    display: none;\n",
              "    fill: #1967D2;\n",
              "    height: 32px;\n",
              "    padding: 0 0 0 0;\n",
              "    width: 32px;\n",
              "  }\n",
              "\n",
              "  .colab-df-quickchart:hover {\n",
              "    background-color: #E2EBFA;\n",
              "    box-shadow: 0px 1px 2px rgba(60, 64, 67, 0.3), 0px 1px 3px 1px rgba(60, 64, 67, 0.15);\n",
              "    fill: #174EA6;\n",
              "  }\n",
              "\n",
              "  [theme=dark] .colab-df-quickchart {\n",
              "    background-color: #3B4455;\n",
              "    fill: #D2E3FC;\n",
              "  }\n",
              "\n",
              "  [theme=dark] .colab-df-quickchart:hover {\n",
              "    background-color: #434B5C;\n",
              "    box-shadow: 0px 1px 3px 1px rgba(0, 0, 0, 0.15);\n",
              "    filter: drop-shadow(0px 1px 2px rgba(0, 0, 0, 0.3));\n",
              "    fill: #FFFFFF;\n",
              "  }\n",
              "</style>\n",
              "\n",
              "    <script>\n",
              "      async function quickchart(key) {\n",
              "        const containerElement = document.querySelector('#' + key);\n",
              "        const charts = await google.colab.kernel.invokeFunction(\n",
              "            'suggestCharts', [key], {});\n",
              "      }\n",
              "    </script>\n",
              "\n",
              "      <script>\n",
              "\n",
              "function displayQuickchartButton(domScope) {\n",
              "  let quickchartButtonEl =\n",
              "    domScope.querySelector('#df-684258aa-fa02-488c-8f88-e0ed7bef2e5e button.colab-df-quickchart');\n",
              "  quickchartButtonEl.style.display =\n",
              "    google.colab.kernel.accessAllowed ? 'block' : 'none';\n",
              "}\n",
              "\n",
              "        displayQuickchartButton(document);\n",
              "      </script>\n",
              "      <style>\n",
              "    .colab-df-container {\n",
              "      display:flex;\n",
              "      flex-wrap:wrap;\n",
              "      gap: 12px;\n",
              "    }\n",
              "\n",
              "    .colab-df-convert {\n",
              "      background-color: #E8F0FE;\n",
              "      border: none;\n",
              "      border-radius: 50%;\n",
              "      cursor: pointer;\n",
              "      display: none;\n",
              "      fill: #1967D2;\n",
              "      height: 32px;\n",
              "      padding: 0 0 0 0;\n",
              "      width: 32px;\n",
              "    }\n",
              "\n",
              "    .colab-df-convert:hover {\n",
              "      background-color: #E2EBFA;\n",
              "      box-shadow: 0px 1px 2px rgba(60, 64, 67, 0.3), 0px 1px 3px 1px rgba(60, 64, 67, 0.15);\n",
              "      fill: #174EA6;\n",
              "    }\n",
              "\n",
              "    [theme=dark] .colab-df-convert {\n",
              "      background-color: #3B4455;\n",
              "      fill: #D2E3FC;\n",
              "    }\n",
              "\n",
              "    [theme=dark] .colab-df-convert:hover {\n",
              "      background-color: #434B5C;\n",
              "      box-shadow: 0px 1px 3px 1px rgba(0, 0, 0, 0.15);\n",
              "      filter: drop-shadow(0px 1px 2px rgba(0, 0, 0, 0.3));\n",
              "      fill: #FFFFFF;\n",
              "    }\n",
              "  </style>\n",
              "\n",
              "      <script>\n",
              "        const buttonEl =\n",
              "          document.querySelector('#df-edea50b1-c4d7-4a4a-966d-ff153e63e7c0 button.colab-df-convert');\n",
              "        buttonEl.style.display =\n",
              "          google.colab.kernel.accessAllowed ? 'block' : 'none';\n",
              "\n",
              "        async function convertToInteractive(key) {\n",
              "          const element = document.querySelector('#df-edea50b1-c4d7-4a4a-966d-ff153e63e7c0');\n",
              "          const dataTable =\n",
              "            await google.colab.kernel.invokeFunction('convertToInteractive',\n",
              "                                                     [key], {});\n",
              "          if (!dataTable) return;\n",
              "\n",
              "          const docLinkHtml = 'Like what you see? Visit the ' +\n",
              "            '<a target=\"_blank\" href=https://colab.research.google.com/notebooks/data_table.ipynb>data table notebook</a>'\n",
              "            + ' to learn more about interactive tables.';\n",
              "          element.innerHTML = '';\n",
              "          dataTable['output_type'] = 'display_data';\n",
              "          await google.colab.output.renderOutput(dataTable, element);\n",
              "          const docLink = document.createElement('div');\n",
              "          docLink.innerHTML = docLinkHtml;\n",
              "          element.appendChild(docLink);\n",
              "        }\n",
              "      </script>\n",
              "    </div>\n",
              "  </div>\n"
            ]
          },
          "metadata": {},
          "execution_count": 156
        }
      ]
    },
    {
      "cell_type": "code",
      "source": [
        "movies.info()"
      ],
      "metadata": {
        "colab": {
          "base_uri": "https://localhost:8080/"
        },
        "id": "YNLTHfItOBG9",
        "outputId": "9463e4b2-3294-4c02-d844-6fafe84ceb38"
      },
      "execution_count": 157,
      "outputs": [
        {
          "output_type": "stream",
          "name": "stdout",
          "text": [
            "<class 'pandas.core.frame.DataFrame'>\n",
            "RangeIndex: 4760 entries, 0 to 4759\n",
            "Data columns (total 21 columns):\n",
            " #   Column                    Non-Null Count  Dtype  \n",
            "---  ------                    --------------  -----  \n",
            " 0   Movie_ID                  4760 non-null   int64  \n",
            " 1   Movie_Title               4760 non-null   object \n",
            " 2   Movie_Genre               4760 non-null   object \n",
            " 3   Movie_Language            4760 non-null   object \n",
            " 4   Movie_Budget              4760 non-null   int64  \n",
            " 5   Movie_Popularity          4760 non-null   float64\n",
            " 6   Movie_Release_Date        4760 non-null   object \n",
            " 7   Movie_Revenue             4760 non-null   int64  \n",
            " 8   Movie_Runtime             4758 non-null   float64\n",
            " 9   Movie_Vote                4760 non-null   float64\n",
            " 10  Movie_Vote_Count          4760 non-null   int64  \n",
            " 11  Movie_Homepage            1699 non-null   object \n",
            " 12  Movie_Keywords            4373 non-null   object \n",
            " 13  Movie_Overview            4757 non-null   object \n",
            " 14  Movie_Production_House    4760 non-null   object \n",
            " 15  Movie_Production_Country  4760 non-null   object \n",
            " 16  Movie_Spoken_Language     4760 non-null   object \n",
            " 17  Movie_Tagline             3942 non-null   object \n",
            " 18  Movie_Cast                4733 non-null   object \n",
            " 19  Movie_Crew                4760 non-null   object \n",
            " 20  Movie_Director            4738 non-null   object \n",
            "dtypes: float64(3), int64(4), object(14)\n",
            "memory usage: 781.1+ KB\n"
          ]
        }
      ]
    },
    {
      "cell_type": "code",
      "source": [
        "movies.describe()"
      ],
      "metadata": {
        "colab": {
          "base_uri": "https://localhost:8080/",
          "height": 300
        },
        "id": "tMfi2bchODNv",
        "outputId": "fd72e387-8fdc-43d2-b1e5-aa28ccbd2fba"
      },
      "execution_count": 158,
      "outputs": [
        {
          "output_type": "execute_result",
          "data": {
            "text/plain": [
              "          Movie_ID  Movie_Budget  Movie_Popularity  Movie_Revenue  \\\n",
              "count  4760.000000  4.760000e+03       4760.000000   4.760000e+03   \n",
              "mean   2382.566387  2.920129e+07         21.599510   8.263743e+07   \n",
              "std    1377.270159  4.075620e+07         31.887919   1.630554e+08   \n",
              "min       1.000000  0.000000e+00          0.000372   0.000000e+00   \n",
              "25%    1190.750000  9.257500e+05          4.807074   0.000000e+00   \n",
              "50%    2380.500000  1.500000e+07         13.119058   1.944716e+07   \n",
              "75%    3572.250000  4.000000e+07         28.411929   9.341276e+07   \n",
              "max    4788.000000  3.800000e+08        875.581305   2.787965e+09   \n",
              "\n",
              "       Movie_Runtime   Movie_Vote  Movie_Vote_Count  \n",
              "count    4758.000000  4760.000000       4760.000000  \n",
              "mean      107.184111     6.113866        692.508403  \n",
              "std        21.960332     1.141294       1235.007337  \n",
              "min         0.000000     0.000000          0.000000  \n",
              "25%        94.000000     5.600000         55.000000  \n",
              "50%       104.000000     6.200000        238.000000  \n",
              "75%       118.000000     6.800000        740.250000  \n",
              "max       338.000000    10.000000      13752.000000  "
            ],
            "text/html": [
              "\n",
              "\n",
              "  <div id=\"df-18318448-99a7-4101-9126-bf3f34048930\">\n",
              "    <div class=\"colab-df-container\">\n",
              "      <div>\n",
              "<style scoped>\n",
              "    .dataframe tbody tr th:only-of-type {\n",
              "        vertical-align: middle;\n",
              "    }\n",
              "\n",
              "    .dataframe tbody tr th {\n",
              "        vertical-align: top;\n",
              "    }\n",
              "\n",
              "    .dataframe thead th {\n",
              "        text-align: right;\n",
              "    }\n",
              "</style>\n",
              "<table border=\"1\" class=\"dataframe\">\n",
              "  <thead>\n",
              "    <tr style=\"text-align: right;\">\n",
              "      <th></th>\n",
              "      <th>Movie_ID</th>\n",
              "      <th>Movie_Budget</th>\n",
              "      <th>Movie_Popularity</th>\n",
              "      <th>Movie_Revenue</th>\n",
              "      <th>Movie_Runtime</th>\n",
              "      <th>Movie_Vote</th>\n",
              "      <th>Movie_Vote_Count</th>\n",
              "    </tr>\n",
              "  </thead>\n",
              "  <tbody>\n",
              "    <tr>\n",
              "      <th>count</th>\n",
              "      <td>4760.000000</td>\n",
              "      <td>4.760000e+03</td>\n",
              "      <td>4760.000000</td>\n",
              "      <td>4.760000e+03</td>\n",
              "      <td>4758.000000</td>\n",
              "      <td>4760.000000</td>\n",
              "      <td>4760.000000</td>\n",
              "    </tr>\n",
              "    <tr>\n",
              "      <th>mean</th>\n",
              "      <td>2382.566387</td>\n",
              "      <td>2.920129e+07</td>\n",
              "      <td>21.599510</td>\n",
              "      <td>8.263743e+07</td>\n",
              "      <td>107.184111</td>\n",
              "      <td>6.113866</td>\n",
              "      <td>692.508403</td>\n",
              "    </tr>\n",
              "    <tr>\n",
              "      <th>std</th>\n",
              "      <td>1377.270159</td>\n",
              "      <td>4.075620e+07</td>\n",
              "      <td>31.887919</td>\n",
              "      <td>1.630554e+08</td>\n",
              "      <td>21.960332</td>\n",
              "      <td>1.141294</td>\n",
              "      <td>1235.007337</td>\n",
              "    </tr>\n",
              "    <tr>\n",
              "      <th>min</th>\n",
              "      <td>1.000000</td>\n",
              "      <td>0.000000e+00</td>\n",
              "      <td>0.000372</td>\n",
              "      <td>0.000000e+00</td>\n",
              "      <td>0.000000</td>\n",
              "      <td>0.000000</td>\n",
              "      <td>0.000000</td>\n",
              "    </tr>\n",
              "    <tr>\n",
              "      <th>25%</th>\n",
              "      <td>1190.750000</td>\n",
              "      <td>9.257500e+05</td>\n",
              "      <td>4.807074</td>\n",
              "      <td>0.000000e+00</td>\n",
              "      <td>94.000000</td>\n",
              "      <td>5.600000</td>\n",
              "      <td>55.000000</td>\n",
              "    </tr>\n",
              "    <tr>\n",
              "      <th>50%</th>\n",
              "      <td>2380.500000</td>\n",
              "      <td>1.500000e+07</td>\n",
              "      <td>13.119058</td>\n",
              "      <td>1.944716e+07</td>\n",
              "      <td>104.000000</td>\n",
              "      <td>6.200000</td>\n",
              "      <td>238.000000</td>\n",
              "    </tr>\n",
              "    <tr>\n",
              "      <th>75%</th>\n",
              "      <td>3572.250000</td>\n",
              "      <td>4.000000e+07</td>\n",
              "      <td>28.411929</td>\n",
              "      <td>9.341276e+07</td>\n",
              "      <td>118.000000</td>\n",
              "      <td>6.800000</td>\n",
              "      <td>740.250000</td>\n",
              "    </tr>\n",
              "    <tr>\n",
              "      <th>max</th>\n",
              "      <td>4788.000000</td>\n",
              "      <td>3.800000e+08</td>\n",
              "      <td>875.581305</td>\n",
              "      <td>2.787965e+09</td>\n",
              "      <td>338.000000</td>\n",
              "      <td>10.000000</td>\n",
              "      <td>13752.000000</td>\n",
              "    </tr>\n",
              "  </tbody>\n",
              "</table>\n",
              "</div>\n",
              "      <button class=\"colab-df-convert\" onclick=\"convertToInteractive('df-18318448-99a7-4101-9126-bf3f34048930')\"\n",
              "              title=\"Convert this dataframe to an interactive table.\"\n",
              "              style=\"display:none;\">\n",
              "\n",
              "  <svg xmlns=\"http://www.w3.org/2000/svg\" height=\"24px\"viewBox=\"0 0 24 24\"\n",
              "       width=\"24px\">\n",
              "    <path d=\"M0 0h24v24H0V0z\" fill=\"none\"/>\n",
              "    <path d=\"M18.56 5.44l.94 2.06.94-2.06 2.06-.94-2.06-.94-.94-2.06-.94 2.06-2.06.94zm-11 1L8.5 8.5l.94-2.06 2.06-.94-2.06-.94L8.5 2.5l-.94 2.06-2.06.94zm10 10l.94 2.06.94-2.06 2.06-.94-2.06-.94-.94-2.06-.94 2.06-2.06.94z\"/><path d=\"M17.41 7.96l-1.37-1.37c-.4-.4-.92-.59-1.43-.59-.52 0-1.04.2-1.43.59L10.3 9.45l-7.72 7.72c-.78.78-.78 2.05 0 2.83L4 21.41c.39.39.9.59 1.41.59.51 0 1.02-.2 1.41-.59l7.78-7.78 2.81-2.81c.8-.78.8-2.07 0-2.86zM5.41 20L4 18.59l7.72-7.72 1.47 1.35L5.41 20z\"/>\n",
              "  </svg>\n",
              "      </button>\n",
              "\n",
              "\n",
              "\n",
              "    <div id=\"df-9a239d5d-e0f0-4eb5-ae80-57d214f44ecb\">\n",
              "      <button class=\"colab-df-quickchart\" onclick=\"quickchart('df-9a239d5d-e0f0-4eb5-ae80-57d214f44ecb')\"\n",
              "              title=\"Suggest charts.\"\n",
              "              style=\"display:none;\">\n",
              "\n",
              "<svg xmlns=\"http://www.w3.org/2000/svg\" height=\"24px\"viewBox=\"0 0 24 24\"\n",
              "     width=\"24px\">\n",
              "    <g>\n",
              "        <path d=\"M19 3H5c-1.1 0-2 .9-2 2v14c0 1.1.9 2 2 2h14c1.1 0 2-.9 2-2V5c0-1.1-.9-2-2-2zM9 17H7v-7h2v7zm4 0h-2V7h2v10zm4 0h-2v-4h2v4z\"/>\n",
              "    </g>\n",
              "</svg>\n",
              "      </button>\n",
              "    </div>\n",
              "\n",
              "<style>\n",
              "  .colab-df-quickchart {\n",
              "    background-color: #E8F0FE;\n",
              "    border: none;\n",
              "    border-radius: 50%;\n",
              "    cursor: pointer;\n",
              "    display: none;\n",
              "    fill: #1967D2;\n",
              "    height: 32px;\n",
              "    padding: 0 0 0 0;\n",
              "    width: 32px;\n",
              "  }\n",
              "\n",
              "  .colab-df-quickchart:hover {\n",
              "    background-color: #E2EBFA;\n",
              "    box-shadow: 0px 1px 2px rgba(60, 64, 67, 0.3), 0px 1px 3px 1px rgba(60, 64, 67, 0.15);\n",
              "    fill: #174EA6;\n",
              "  }\n",
              "\n",
              "  [theme=dark] .colab-df-quickchart {\n",
              "    background-color: #3B4455;\n",
              "    fill: #D2E3FC;\n",
              "  }\n",
              "\n",
              "  [theme=dark] .colab-df-quickchart:hover {\n",
              "    background-color: #434B5C;\n",
              "    box-shadow: 0px 1px 3px 1px rgba(0, 0, 0, 0.15);\n",
              "    filter: drop-shadow(0px 1px 2px rgba(0, 0, 0, 0.3));\n",
              "    fill: #FFFFFF;\n",
              "  }\n",
              "</style>\n",
              "\n",
              "    <script>\n",
              "      async function quickchart(key) {\n",
              "        const containerElement = document.querySelector('#' + key);\n",
              "        const charts = await google.colab.kernel.invokeFunction(\n",
              "            'suggestCharts', [key], {});\n",
              "      }\n",
              "    </script>\n",
              "\n",
              "      <script>\n",
              "\n",
              "function displayQuickchartButton(domScope) {\n",
              "  let quickchartButtonEl =\n",
              "    domScope.querySelector('#df-9a239d5d-e0f0-4eb5-ae80-57d214f44ecb button.colab-df-quickchart');\n",
              "  quickchartButtonEl.style.display =\n",
              "    google.colab.kernel.accessAllowed ? 'block' : 'none';\n",
              "}\n",
              "\n",
              "        displayQuickchartButton(document);\n",
              "      </script>\n",
              "      <style>\n",
              "    .colab-df-container {\n",
              "      display:flex;\n",
              "      flex-wrap:wrap;\n",
              "      gap: 12px;\n",
              "    }\n",
              "\n",
              "    .colab-df-convert {\n",
              "      background-color: #E8F0FE;\n",
              "      border: none;\n",
              "      border-radius: 50%;\n",
              "      cursor: pointer;\n",
              "      display: none;\n",
              "      fill: #1967D2;\n",
              "      height: 32px;\n",
              "      padding: 0 0 0 0;\n",
              "      width: 32px;\n",
              "    }\n",
              "\n",
              "    .colab-df-convert:hover {\n",
              "      background-color: #E2EBFA;\n",
              "      box-shadow: 0px 1px 2px rgba(60, 64, 67, 0.3), 0px 1px 3px 1px rgba(60, 64, 67, 0.15);\n",
              "      fill: #174EA6;\n",
              "    }\n",
              "\n",
              "    [theme=dark] .colab-df-convert {\n",
              "      background-color: #3B4455;\n",
              "      fill: #D2E3FC;\n",
              "    }\n",
              "\n",
              "    [theme=dark] .colab-df-convert:hover {\n",
              "      background-color: #434B5C;\n",
              "      box-shadow: 0px 1px 3px 1px rgba(0, 0, 0, 0.15);\n",
              "      filter: drop-shadow(0px 1px 2px rgba(0, 0, 0, 0.3));\n",
              "      fill: #FFFFFF;\n",
              "    }\n",
              "  </style>\n",
              "\n",
              "      <script>\n",
              "        const buttonEl =\n",
              "          document.querySelector('#df-18318448-99a7-4101-9126-bf3f34048930 button.colab-df-convert');\n",
              "        buttonEl.style.display =\n",
              "          google.colab.kernel.accessAllowed ? 'block' : 'none';\n",
              "\n",
              "        async function convertToInteractive(key) {\n",
              "          const element = document.querySelector('#df-18318448-99a7-4101-9126-bf3f34048930');\n",
              "          const dataTable =\n",
              "            await google.colab.kernel.invokeFunction('convertToInteractive',\n",
              "                                                     [key], {});\n",
              "          if (!dataTable) return;\n",
              "\n",
              "          const docLinkHtml = 'Like what you see? Visit the ' +\n",
              "            '<a target=\"_blank\" href=https://colab.research.google.com/notebooks/data_table.ipynb>data table notebook</a>'\n",
              "            + ' to learn more about interactive tables.';\n",
              "          element.innerHTML = '';\n",
              "          dataTable['output_type'] = 'display_data';\n",
              "          await google.colab.output.renderOutput(dataTable, element);\n",
              "          const docLink = document.createElement('div');\n",
              "          docLink.innerHTML = docLinkHtml;\n",
              "          element.appendChild(docLink);\n",
              "        }\n",
              "      </script>\n",
              "    </div>\n",
              "  </div>\n"
            ]
          },
          "metadata": {},
          "execution_count": 158
        }
      ]
    },
    {
      "cell_type": "code",
      "source": [
        "movies.shape"
      ],
      "metadata": {
        "colab": {
          "base_uri": "https://localhost:8080/"
        },
        "id": "ad0tA84zOE0q",
        "outputId": "34a5ff9e-89d0-47b7-945a-8fb19b72079e"
      },
      "execution_count": 159,
      "outputs": [
        {
          "output_type": "execute_result",
          "data": {
            "text/plain": [
              "(4760, 21)"
            ]
          },
          "metadata": {},
          "execution_count": 159
        }
      ]
    },
    {
      "cell_type": "code",
      "source": [
        "movies.columns"
      ],
      "metadata": {
        "colab": {
          "base_uri": "https://localhost:8080/"
        },
        "id": "REBEGPCXOMgM",
        "outputId": "a83afd54-585e-4630-f7ce-89f6887504cd"
      },
      "execution_count": 160,
      "outputs": [
        {
          "output_type": "execute_result",
          "data": {
            "text/plain": [
              "Index(['Movie_ID', 'Movie_Title', 'Movie_Genre', 'Movie_Language',\n",
              "       'Movie_Budget', 'Movie_Popularity', 'Movie_Release_Date',\n",
              "       'Movie_Revenue', 'Movie_Runtime', 'Movie_Vote', 'Movie_Vote_Count',\n",
              "       'Movie_Homepage', 'Movie_Keywords', 'Movie_Overview',\n",
              "       'Movie_Production_House', 'Movie_Production_Country',\n",
              "       'Movie_Spoken_Language', 'Movie_Tagline', 'Movie_Cast', 'Movie_Crew',\n",
              "       'Movie_Director'],\n",
              "      dtype='object')"
            ]
          },
          "metadata": {},
          "execution_count": 160
        }
      ]
    },
    {
      "cell_type": "markdown",
      "source": [
        "# **Feature Selection**"
      ],
      "metadata": {
        "id": "tmVfwWwWQBHO"
      }
    },
    {
      "cell_type": "code",
      "source": [
        "movie_feats = movies[['Movie_Genre', 'Movie_Tagline', 'Movie_Keywords', 'Movie_Cast', 'Movie_Director' ]].fillna('')"
      ],
      "metadata": {
        "id": "PbgFN_kpPzFt"
      },
      "execution_count": 161,
      "outputs": []
    },
    {
      "cell_type": "code",
      "source": [
        "movie_feats.shape"
      ],
      "metadata": {
        "colab": {
          "base_uri": "https://localhost:8080/"
        },
        "id": "x6ERJ_MSQy5o",
        "outputId": "4f03cb06-34bc-4c6b-d087-0535d30097ed"
      },
      "execution_count": 162,
      "outputs": [
        {
          "output_type": "execute_result",
          "data": {
            "text/plain": [
              "(4760, 5)"
            ]
          },
          "metadata": {},
          "execution_count": 162
        }
      ]
    },
    {
      "cell_type": "code",
      "source": [
        "movie_feats"
      ],
      "metadata": {
        "colab": {
          "base_uri": "https://localhost:8080/",
          "height": 467
        },
        "id": "MgakqTC4Q2yE",
        "outputId": "f93a0d9f-eca5-4b83-c9b4-c2f97919528e"
      },
      "execution_count": 163,
      "outputs": [
        {
          "output_type": "execute_result",
          "data": {
            "text/plain": [
              "                           Movie_Genre  \\\n",
              "0                         Crime Comedy   \n",
              "1     Adventure Action Science Fiction   \n",
              "2                     Animation Family   \n",
              "3                 Comedy Drama Romance   \n",
              "4                                Drama   \n",
              "...                                ...   \n",
              "4755                            Horror   \n",
              "4756               Comedy Family Drama   \n",
              "4757                    Thriller Drama   \n",
              "4758                            Family   \n",
              "4759                       Documentary   \n",
              "\n",
              "                                          Movie_Tagline  \\\n",
              "0     Twelve outrageous guests. Four scandalous requ...   \n",
              "1          A long time ago in a galaxy far, far away...   \n",
              "2     There are 3.7 trillion fish in the ocean, they...   \n",
              "3     The world will never be the same, once you've ...   \n",
              "4                                          Look closer.   \n",
              "...                                                 ...   \n",
              "4755                The hot spot where Satan's waitin'.   \n",
              "4756           It’s better to stand out than to fit in.   \n",
              "4757           She never knew it could happen to her...   \n",
              "4758                                                      \n",
              "4759                                                      \n",
              "\n",
              "                                         Movie_Keywords  \\\n",
              "0             hotel new year's eve witch bet hotel room   \n",
              "1           android galaxy hermit death star lightsaber   \n",
              "2     father son relationship harbor underwater fish...   \n",
              "3     vietnam veteran hippie mentally disabled runni...   \n",
              "4     male nudity female nudity adultery midlife cri...   \n",
              "...                                                 ...   \n",
              "4755                                                      \n",
              "4756                                                      \n",
              "4757                     christian film sex trafficking   \n",
              "4758                                                      \n",
              "4759  music actors legendary perfomer classic hollyw...   \n",
              "\n",
              "                                             Movie_Cast     Movie_Director  \n",
              "0     Tim Roth Antonio Banderas Jennifer Beals Madon...     Allison Anders  \n",
              "1     Mark Hamill Harrison Ford Carrie Fisher Peter ...       George Lucas  \n",
              "2     Albert Brooks Ellen DeGeneres Alexander Gould ...     Andrew Stanton  \n",
              "3     Tom Hanks Robin Wright Gary Sinise Mykelti Wil...    Robert Zemeckis  \n",
              "4     Kevin Spacey Annette Bening Thora Birch Wes Be...         Sam Mendes  \n",
              "...                                                 ...                ...  \n",
              "4755  Lisa Hart Carroll Michael Des Barres Paul Drak...         Pece Dingo  \n",
              "4756  Roni Akurati Brighton Sharbino Jason Lee Anjul...       Frank Lotito  \n",
              "4757  Nicole Smolen Kim Baldwin Ariana Stephens Brys...       Jaco Booyens  \n",
              "4758                                                                        \n",
              "4759                                    Tony Oppedisano  Simon Napier-Bell  \n",
              "\n",
              "[4760 rows x 5 columns]"
            ],
            "text/html": [
              "\n",
              "\n",
              "  <div id=\"df-1e7aa059-f048-4f70-a5cb-49334f029b2a\">\n",
              "    <div class=\"colab-df-container\">\n",
              "      <div>\n",
              "<style scoped>\n",
              "    .dataframe tbody tr th:only-of-type {\n",
              "        vertical-align: middle;\n",
              "    }\n",
              "\n",
              "    .dataframe tbody tr th {\n",
              "        vertical-align: top;\n",
              "    }\n",
              "\n",
              "    .dataframe thead th {\n",
              "        text-align: right;\n",
              "    }\n",
              "</style>\n",
              "<table border=\"1\" class=\"dataframe\">\n",
              "  <thead>\n",
              "    <tr style=\"text-align: right;\">\n",
              "      <th></th>\n",
              "      <th>Movie_Genre</th>\n",
              "      <th>Movie_Tagline</th>\n",
              "      <th>Movie_Keywords</th>\n",
              "      <th>Movie_Cast</th>\n",
              "      <th>Movie_Director</th>\n",
              "    </tr>\n",
              "  </thead>\n",
              "  <tbody>\n",
              "    <tr>\n",
              "      <th>0</th>\n",
              "      <td>Crime Comedy</td>\n",
              "      <td>Twelve outrageous guests. Four scandalous requ...</td>\n",
              "      <td>hotel new year's eve witch bet hotel room</td>\n",
              "      <td>Tim Roth Antonio Banderas Jennifer Beals Madon...</td>\n",
              "      <td>Allison Anders</td>\n",
              "    </tr>\n",
              "    <tr>\n",
              "      <th>1</th>\n",
              "      <td>Adventure Action Science Fiction</td>\n",
              "      <td>A long time ago in a galaxy far, far away...</td>\n",
              "      <td>android galaxy hermit death star lightsaber</td>\n",
              "      <td>Mark Hamill Harrison Ford Carrie Fisher Peter ...</td>\n",
              "      <td>George Lucas</td>\n",
              "    </tr>\n",
              "    <tr>\n",
              "      <th>2</th>\n",
              "      <td>Animation Family</td>\n",
              "      <td>There are 3.7 trillion fish in the ocean, they...</td>\n",
              "      <td>father son relationship harbor underwater fish...</td>\n",
              "      <td>Albert Brooks Ellen DeGeneres Alexander Gould ...</td>\n",
              "      <td>Andrew Stanton</td>\n",
              "    </tr>\n",
              "    <tr>\n",
              "      <th>3</th>\n",
              "      <td>Comedy Drama Romance</td>\n",
              "      <td>The world will never be the same, once you've ...</td>\n",
              "      <td>vietnam veteran hippie mentally disabled runni...</td>\n",
              "      <td>Tom Hanks Robin Wright Gary Sinise Mykelti Wil...</td>\n",
              "      <td>Robert Zemeckis</td>\n",
              "    </tr>\n",
              "    <tr>\n",
              "      <th>4</th>\n",
              "      <td>Drama</td>\n",
              "      <td>Look closer.</td>\n",
              "      <td>male nudity female nudity adultery midlife cri...</td>\n",
              "      <td>Kevin Spacey Annette Bening Thora Birch Wes Be...</td>\n",
              "      <td>Sam Mendes</td>\n",
              "    </tr>\n",
              "    <tr>\n",
              "      <th>...</th>\n",
              "      <td>...</td>\n",
              "      <td>...</td>\n",
              "      <td>...</td>\n",
              "      <td>...</td>\n",
              "      <td>...</td>\n",
              "    </tr>\n",
              "    <tr>\n",
              "      <th>4755</th>\n",
              "      <td>Horror</td>\n",
              "      <td>The hot spot where Satan's waitin'.</td>\n",
              "      <td></td>\n",
              "      <td>Lisa Hart Carroll Michael Des Barres Paul Drak...</td>\n",
              "      <td>Pece Dingo</td>\n",
              "    </tr>\n",
              "    <tr>\n",
              "      <th>4756</th>\n",
              "      <td>Comedy Family Drama</td>\n",
              "      <td>It’s better to stand out than to fit in.</td>\n",
              "      <td></td>\n",
              "      <td>Roni Akurati Brighton Sharbino Jason Lee Anjul...</td>\n",
              "      <td>Frank Lotito</td>\n",
              "    </tr>\n",
              "    <tr>\n",
              "      <th>4757</th>\n",
              "      <td>Thriller Drama</td>\n",
              "      <td>She never knew it could happen to her...</td>\n",
              "      <td>christian film sex trafficking</td>\n",
              "      <td>Nicole Smolen Kim Baldwin Ariana Stephens Brys...</td>\n",
              "      <td>Jaco Booyens</td>\n",
              "    </tr>\n",
              "    <tr>\n",
              "      <th>4758</th>\n",
              "      <td>Family</td>\n",
              "      <td></td>\n",
              "      <td></td>\n",
              "      <td></td>\n",
              "      <td></td>\n",
              "    </tr>\n",
              "    <tr>\n",
              "      <th>4759</th>\n",
              "      <td>Documentary</td>\n",
              "      <td></td>\n",
              "      <td>music actors legendary perfomer classic hollyw...</td>\n",
              "      <td>Tony Oppedisano</td>\n",
              "      <td>Simon Napier-Bell</td>\n",
              "    </tr>\n",
              "  </tbody>\n",
              "</table>\n",
              "<p>4760 rows × 5 columns</p>\n",
              "</div>\n",
              "      <button class=\"colab-df-convert\" onclick=\"convertToInteractive('df-1e7aa059-f048-4f70-a5cb-49334f029b2a')\"\n",
              "              title=\"Convert this dataframe to an interactive table.\"\n",
              "              style=\"display:none;\">\n",
              "\n",
              "  <svg xmlns=\"http://www.w3.org/2000/svg\" height=\"24px\"viewBox=\"0 0 24 24\"\n",
              "       width=\"24px\">\n",
              "    <path d=\"M0 0h24v24H0V0z\" fill=\"none\"/>\n",
              "    <path d=\"M18.56 5.44l.94 2.06.94-2.06 2.06-.94-2.06-.94-.94-2.06-.94 2.06-2.06.94zm-11 1L8.5 8.5l.94-2.06 2.06-.94-2.06-.94L8.5 2.5l-.94 2.06-2.06.94zm10 10l.94 2.06.94-2.06 2.06-.94-2.06-.94-.94-2.06-.94 2.06-2.06.94z\"/><path d=\"M17.41 7.96l-1.37-1.37c-.4-.4-.92-.59-1.43-.59-.52 0-1.04.2-1.43.59L10.3 9.45l-7.72 7.72c-.78.78-.78 2.05 0 2.83L4 21.41c.39.39.9.59 1.41.59.51 0 1.02-.2 1.41-.59l7.78-7.78 2.81-2.81c.8-.78.8-2.07 0-2.86zM5.41 20L4 18.59l7.72-7.72 1.47 1.35L5.41 20z\"/>\n",
              "  </svg>\n",
              "      </button>\n",
              "\n",
              "\n",
              "\n",
              "    <div id=\"df-a5faf700-3e08-44b7-a534-a8c021bab4c3\">\n",
              "      <button class=\"colab-df-quickchart\" onclick=\"quickchart('df-a5faf700-3e08-44b7-a534-a8c021bab4c3')\"\n",
              "              title=\"Suggest charts.\"\n",
              "              style=\"display:none;\">\n",
              "\n",
              "<svg xmlns=\"http://www.w3.org/2000/svg\" height=\"24px\"viewBox=\"0 0 24 24\"\n",
              "     width=\"24px\">\n",
              "    <g>\n",
              "        <path d=\"M19 3H5c-1.1 0-2 .9-2 2v14c0 1.1.9 2 2 2h14c1.1 0 2-.9 2-2V5c0-1.1-.9-2-2-2zM9 17H7v-7h2v7zm4 0h-2V7h2v10zm4 0h-2v-4h2v4z\"/>\n",
              "    </g>\n",
              "</svg>\n",
              "      </button>\n",
              "    </div>\n",
              "\n",
              "<style>\n",
              "  .colab-df-quickchart {\n",
              "    background-color: #E8F0FE;\n",
              "    border: none;\n",
              "    border-radius: 50%;\n",
              "    cursor: pointer;\n",
              "    display: none;\n",
              "    fill: #1967D2;\n",
              "    height: 32px;\n",
              "    padding: 0 0 0 0;\n",
              "    width: 32px;\n",
              "  }\n",
              "\n",
              "  .colab-df-quickchart:hover {\n",
              "    background-color: #E2EBFA;\n",
              "    box-shadow: 0px 1px 2px rgba(60, 64, 67, 0.3), 0px 1px 3px 1px rgba(60, 64, 67, 0.15);\n",
              "    fill: #174EA6;\n",
              "  }\n",
              "\n",
              "  [theme=dark] .colab-df-quickchart {\n",
              "    background-color: #3B4455;\n",
              "    fill: #D2E3FC;\n",
              "  }\n",
              "\n",
              "  [theme=dark] .colab-df-quickchart:hover {\n",
              "    background-color: #434B5C;\n",
              "    box-shadow: 0px 1px 3px 1px rgba(0, 0, 0, 0.15);\n",
              "    filter: drop-shadow(0px 1px 2px rgba(0, 0, 0, 0.3));\n",
              "    fill: #FFFFFF;\n",
              "  }\n",
              "</style>\n",
              "\n",
              "    <script>\n",
              "      async function quickchart(key) {\n",
              "        const containerElement = document.querySelector('#' + key);\n",
              "        const charts = await google.colab.kernel.invokeFunction(\n",
              "            'suggestCharts', [key], {});\n",
              "      }\n",
              "    </script>\n",
              "\n",
              "      <script>\n",
              "\n",
              "function displayQuickchartButton(domScope) {\n",
              "  let quickchartButtonEl =\n",
              "    domScope.querySelector('#df-a5faf700-3e08-44b7-a534-a8c021bab4c3 button.colab-df-quickchart');\n",
              "  quickchartButtonEl.style.display =\n",
              "    google.colab.kernel.accessAllowed ? 'block' : 'none';\n",
              "}\n",
              "\n",
              "        displayQuickchartButton(document);\n",
              "      </script>\n",
              "      <style>\n",
              "    .colab-df-container {\n",
              "      display:flex;\n",
              "      flex-wrap:wrap;\n",
              "      gap: 12px;\n",
              "    }\n",
              "\n",
              "    .colab-df-convert {\n",
              "      background-color: #E8F0FE;\n",
              "      border: none;\n",
              "      border-radius: 50%;\n",
              "      cursor: pointer;\n",
              "      display: none;\n",
              "      fill: #1967D2;\n",
              "      height: 32px;\n",
              "      padding: 0 0 0 0;\n",
              "      width: 32px;\n",
              "    }\n",
              "\n",
              "    .colab-df-convert:hover {\n",
              "      background-color: #E2EBFA;\n",
              "      box-shadow: 0px 1px 2px rgba(60, 64, 67, 0.3), 0px 1px 3px 1px rgba(60, 64, 67, 0.15);\n",
              "      fill: #174EA6;\n",
              "    }\n",
              "\n",
              "    [theme=dark] .colab-df-convert {\n",
              "      background-color: #3B4455;\n",
              "      fill: #D2E3FC;\n",
              "    }\n",
              "\n",
              "    [theme=dark] .colab-df-convert:hover {\n",
              "      background-color: #434B5C;\n",
              "      box-shadow: 0px 1px 3px 1px rgba(0, 0, 0, 0.15);\n",
              "      filter: drop-shadow(0px 1px 2px rgba(0, 0, 0, 0.3));\n",
              "      fill: #FFFFFF;\n",
              "    }\n",
              "  </style>\n",
              "\n",
              "      <script>\n",
              "        const buttonEl =\n",
              "          document.querySelector('#df-1e7aa059-f048-4f70-a5cb-49334f029b2a button.colab-df-convert');\n",
              "        buttonEl.style.display =\n",
              "          google.colab.kernel.accessAllowed ? 'block' : 'none';\n",
              "\n",
              "        async function convertToInteractive(key) {\n",
              "          const element = document.querySelector('#df-1e7aa059-f048-4f70-a5cb-49334f029b2a');\n",
              "          const dataTable =\n",
              "            await google.colab.kernel.invokeFunction('convertToInteractive',\n",
              "                                                     [key], {});\n",
              "          if (!dataTable) return;\n",
              "\n",
              "          const docLinkHtml = 'Like what you see? Visit the ' +\n",
              "            '<a target=\"_blank\" href=https://colab.research.google.com/notebooks/data_table.ipynb>data table notebook</a>'\n",
              "            + ' to learn more about interactive tables.';\n",
              "          element.innerHTML = '';\n",
              "          dataTable['output_type'] = 'display_data';\n",
              "          await google.colab.output.renderOutput(dataTable, element);\n",
              "          const docLink = document.createElement('div');\n",
              "          docLink.innerHTML = docLinkHtml;\n",
              "          element.appendChild(docLink);\n",
              "        }\n",
              "      </script>\n",
              "    </div>\n",
              "  </div>\n"
            ]
          },
          "metadata": {},
          "execution_count": 163
        }
      ]
    },
    {
      "cell_type": "code",
      "source": [
        "X = movie_feats['Movie_Genre'] + ' ' + str(movie_feats['Movie_Tagline']) + ' ' +movie_feats['Movie_Keywords'] + ' ' +movie_feats['Movie_Cast'] + ' ' +movie_feats['Movie_Director']"
      ],
      "metadata": {
        "id": "ROYW_LzXQ5NZ"
      },
      "execution_count": 164,
      "outputs": []
    },
    {
      "cell_type": "code",
      "source": [
        "X"
      ],
      "metadata": {
        "colab": {
          "base_uri": "https://localhost:8080/"
        },
        "id": "kqUBsBMeRo1t",
        "outputId": "82dd5104-f1ca-452a-8605-70cda5230f99"
      },
      "execution_count": 165,
      "outputs": [
        {
          "output_type": "execute_result",
          "data": {
            "text/plain": [
              "0       Crime Comedy 0       Twelve outrageous guests....\n",
              "1       Adventure Action Science Fiction 0       Twelv...\n",
              "2       Animation Family 0       Twelve outrageous gue...\n",
              "3       Comedy Drama Romance 0       Twelve outrageous...\n",
              "4       Drama 0       Twelve outrageous guests. Four s...\n",
              "                              ...                        \n",
              "4755    Horror 0       Twelve outrageous guests. Four ...\n",
              "4756    Comedy Family Drama 0       Twelve outrageous ...\n",
              "4757    Thriller Drama 0       Twelve outrageous guest...\n",
              "4758    Family 0       Twelve outrageous guests. Four ...\n",
              "4759    Documentary 0       Twelve outrageous guests. ...\n",
              "Length: 4760, dtype: object"
            ]
          },
          "metadata": {},
          "execution_count": 165
        }
      ]
    },
    {
      "cell_type": "code",
      "source": [
        "X.head()"
      ],
      "metadata": {
        "colab": {
          "base_uri": "https://localhost:8080/"
        },
        "id": "0AE6N0E6Slcu",
        "outputId": "dba96b3b-8cc6-455d-a216-1dab4c525080"
      },
      "execution_count": 166,
      "outputs": [
        {
          "output_type": "execute_result",
          "data": {
            "text/plain": [
              "0    Crime Comedy 0       Twelve outrageous guests....\n",
              "1    Adventure Action Science Fiction 0       Twelv...\n",
              "2    Animation Family 0       Twelve outrageous gue...\n",
              "3    Comedy Drama Romance 0       Twelve outrageous...\n",
              "4    Drama 0       Twelve outrageous guests. Four s...\n",
              "dtype: object"
            ]
          },
          "metadata": {},
          "execution_count": 166
        }
      ]
    },
    {
      "cell_type": "code",
      "source": [
        "X.shape"
      ],
      "metadata": {
        "colab": {
          "base_uri": "https://localhost:8080/"
        },
        "id": "ITLpS-BtSpK6",
        "outputId": "3572c330-e181-4874-b0c2-49fbad9e400a"
      },
      "execution_count": 167,
      "outputs": [
        {
          "output_type": "execute_result",
          "data": {
            "text/plain": [
              "(4760,)"
            ]
          },
          "metadata": {},
          "execution_count": 167
        }
      ]
    },
    {
      "cell_type": "markdown",
      "source": [
        "# **Feature text conversion to tokens**"
      ],
      "metadata": {
        "id": "bBN3Q4dnlFf_"
      }
    },
    {
      "cell_type": "code",
      "source": [
        "from sklearn.feature_extraction.text import TfidfVectorizer"
      ],
      "metadata": {
        "id": "_65OndqmSr7f"
      },
      "execution_count": 168,
      "outputs": []
    },
    {
      "cell_type": "code",
      "source": [
        "tf = TfidfVectorizer()"
      ],
      "metadata": {
        "id": "qqCAQX0TTU4j"
      },
      "execution_count": 169,
      "outputs": []
    },
    {
      "cell_type": "code",
      "source": [
        "X = tf.fit_transform(X)"
      ],
      "metadata": {
        "id": "UCu_4guwTa8F"
      },
      "execution_count": 170,
      "outputs": []
    },
    {
      "cell_type": "code",
      "source": [
        "X.shape"
      ],
      "metadata": {
        "colab": {
          "base_uri": "https://localhost:8080/"
        },
        "id": "UMPwUOp3TmR4",
        "outputId": "bd5d3a0e-c614-44ce-9c81-f40f0ec1ad3a"
      },
      "execution_count": 171,
      "outputs": [
        {
          "output_type": "execute_result",
          "data": {
            "text/plain": [
              "(4760, 14832)"
            ]
          },
          "metadata": {},
          "execution_count": 171
        }
      ]
    },
    {
      "cell_type": "code",
      "source": [
        "print(X)"
      ],
      "metadata": {
        "colab": {
          "base_uri": "https://localhost:8080/"
        },
        "id": "c3B38cwmTp-3",
        "outputId": "e8853ebf-b5f6-44b2-9833-cfe0ec515b71"
      },
      "execution_count": 172,
      "outputs": [
        {
          "output_type": "stream",
          "name": "stdout",
          "text": [
            "  (0, 458)\t0.239174652358247\n",
            "  (0, 347)\t0.20977306799696718\n",
            "  (0, 13256)\t0.21459549830379018\n",
            "  (0, 8339)\t0.2083108548523269\n",
            "  (0, 8139)\t0.24304905222434814\n",
            "  (0, 1150)\t0.24744148452006562\n",
            "  (0, 6631)\t0.14349408351086315\n",
            "  (0, 985)\t0.2030364828808493\n",
            "  (0, 558)\t0.19643554488246756\n",
            "  (0, 11314)\t0.21130331504266794\n",
            "  (0, 13206)\t0.15369643740668812\n",
            "  (0, 11276)\t0.22237136046404027\n",
            "  (0, 1323)\t0.239174652358247\n",
            "  (0, 14478)\t0.18697242163406907\n",
            "  (0, 4303)\t0.21825419654820674\n",
            "  (0, 14639)\t0.2357088835785399\n",
            "  (0, 9447)\t0.13920148248884823\n",
            "  (0, 6107)\t0.3696055504292888\n",
            "  (0, 9652)\t0.03289437943681605\n",
            "  (0, 3852)\t0.03289437943681605\n",
            "  (0, 25)\t0.03289437943681605\n",
            "  (0, 7672)\t0.03289437943681605\n",
            "  (0, 9172)\t0.03289437943681605\n",
            "  (0, 9317)\t0.03289437943681605\n",
            "  (0, 24)\t0.03289437943681605\n",
            "  :\t:\n",
            "  (4759, 11516)\t0.03514594190945058\n",
            "  (4759, 1146)\t0.03514594190945058\n",
            "  (4759, 9445)\t0.07029188381890115\n",
            "  (4759, 14417)\t0.03514594190945058\n",
            "  (4759, 14544)\t0.03514594190945058\n",
            "  (4759, 13130)\t0.03514594190945058\n",
            "  (4759, 9659)\t0.03514594190945058\n",
            "  (4759, 13108)\t0.1405837676378023\n",
            "  (4759, 4630)\t0.03514594190945058\n",
            "  (4759, 13410)\t0.03514594190945058\n",
            "  (4759, 620)\t0.03514594190945058\n",
            "  (4759, 13124)\t0.03514594190945058\n",
            "  (4759, 850)\t0.03514594190945058\n",
            "  (4759, 4440)\t0.07029188381890115\n",
            "  (4759, 4936)\t0.03514594190945058\n",
            "  (4759, 6306)\t0.10543782572835173\n",
            "  (4759, 186)\t0.03514594190945058\n",
            "  (4759, 13208)\t0.03514594190945058\n",
            "  (4759, 7910)\t0.03514594190945058\n",
            "  (4759, 10997)\t0.03514594190945058\n",
            "  (4759, 11657)\t0.03514594190945058\n",
            "  (4759, 4753)\t0.03514594190945058\n",
            "  (4759, 5448)\t0.03514594190945058\n",
            "  (4759, 9838)\t0.03514594190945058\n",
            "  (4759, 13497)\t0.03514594190945058\n"
          ]
        }
      ]
    },
    {
      "cell_type": "markdown",
      "source": [
        "# **Compute Similarity score** #\n",
        "\n",
        "There exist various types of similarity scores , some of which include -\n",
        "\n",
        "*  **Jacard Similarity** -  measures the similarity between two sets of data to see which members are shared and distinct. The Jaccard similarity is calculated by dividing the number of observations in both sets by the number of observations in either set.\n",
        "\n",
        "*   **Cosine Similarity** - The similarity can take values between -1 and +1. Smaller angles between vectors produce larger cosine values, indicating greater cosine similarity. For example: When two vectors have the same orientation, the angle between them is 0, and the cosine similarity is 1.\n",
        "\n",
        "*  **Dice Similarity** - The Dice score, also known as the Dice Similarity Coefficient, is a measure of the similarity between two sets of data, usually represented as binary arrays. The Dice score ranges from 0, indicating no overlap, to 1, indicating perfect overlap.\n",
        "\n",
        "\n",
        "\n",
        "\n"
      ],
      "metadata": {
        "id": "D1VdB21HT037"
      }
    },
    {
      "cell_type": "code",
      "source": [
        "from sklearn.metrics.pairwise import cosine_similarity"
      ],
      "metadata": {
        "id": "eRimWZyHTs4w"
      },
      "execution_count": 173,
      "outputs": []
    },
    {
      "cell_type": "code",
      "source": [
        "sim_score = cosine_similarity(X)"
      ],
      "metadata": {
        "id": "FAnu4MIQUtDF"
      },
      "execution_count": 174,
      "outputs": []
    },
    {
      "cell_type": "code",
      "source": [
        "sim_score"
      ],
      "metadata": {
        "colab": {
          "base_uri": "https://localhost:8080/"
        },
        "id": "QHQh9Q1MVxQy",
        "outputId": "a1326cf4-5f7a-4d3a-9589-0d2d1563a8f5"
      },
      "execution_count": 175,
      "outputs": [
        {
          "output_type": "execute_result",
          "data": {
            "text/plain": [
              "array([[1.        , 0.1122403 , 0.09999394, ..., 0.11336434, 0.31111658,\n",
              "        0.11329819],\n",
              "       [0.1122403 , 1.        , 0.10582998, ..., 0.11999298, 0.32930817,\n",
              "        0.11992295],\n",
              "       [0.09999394, 0.10582998, 1.        , ..., 0.10690073, 0.32112036,\n",
              "        0.10683835],\n",
              "       ...,\n",
              "       [0.11336434, 0.11999298, 0.10690073, ..., 1.        , 0.33260605,\n",
              "        0.12112393],\n",
              "       [0.31111658, 0.32930817, 0.32112036, ..., 0.33260605, 1.        ,\n",
              "        0.33241196],\n",
              "       [0.11329819, 0.11992295, 0.10683835, ..., 0.12112393, 0.33241196,\n",
              "        1.        ]])"
            ]
          },
          "metadata": {},
          "execution_count": 175
        }
      ]
    },
    {
      "cell_type": "code",
      "source": [
        "sim_score.shape"
      ],
      "metadata": {
        "colab": {
          "base_uri": "https://localhost:8080/"
        },
        "id": "ceA4czwUV3u2",
        "outputId": "c55ba028-3992-4b99-8b4d-9ddcbe80a1b8"
      },
      "execution_count": 176,
      "outputs": [
        {
          "output_type": "execute_result",
          "data": {
            "text/plain": [
              "(4760, 4760)"
            ]
          },
          "metadata": {},
          "execution_count": 176
        }
      ]
    },
    {
      "cell_type": "markdown",
      "source": [
        "# **Get movie as input from user**"
      ],
      "metadata": {
        "id": "5O1c1-k4WAB9"
      }
    },
    {
      "cell_type": "code",
      "source": [
        "fav_movie = input(\"Enter name of your favourite movie : \")"
      ],
      "metadata": {
        "colab": {
          "base_uri": "https://localhost:8080/"
        },
        "id": "5DG4pTiHV7Xs",
        "outputId": "b51c7c1d-3887-47ed-aefd-5513d8209b03"
      },
      "execution_count": 193,
      "outputs": [
        {
          "name": "stdout",
          "output_type": "stream",
          "text": [
            "Enter name of your favourite movie : Star wars\n"
          ]
        }
      ]
    },
    {
      "cell_type": "code",
      "source": [
        "all_movie_title_list = movies['Movie_Title'].tolist()"
      ],
      "metadata": {
        "id": "rzkbQtP_WYFI"
      },
      "execution_count": 194,
      "outputs": []
    },
    {
      "cell_type": "code",
      "source": [
        "import difflib"
      ],
      "metadata": {
        "id": "rGuL-cBnWfnr"
      },
      "execution_count": 195,
      "outputs": []
    },
    {
      "cell_type": "code",
      "source": [
        "movie_recommend = difflib.get_close_matches(fav_movie, all_movie_title_list)\n",
        "print(movie_recommend)"
      ],
      "metadata": {
        "colab": {
          "base_uri": "https://localhost:8080/"
        },
        "id": "1mHaVgz1WpgF",
        "outputId": "3e5cb755-a9c0-4d30-85c5-72d7da8bccaf"
      },
      "execution_count": 196,
      "outputs": [
        {
          "output_type": "stream",
          "name": "stdout",
          "text": [
            "['Star Wars', 'Star Trek', 'State Fair']\n"
          ]
        }
      ]
    },
    {
      "cell_type": "code",
      "source": [
        "close_match = movie_recommend[0]\n",
        "print(close_match)"
      ],
      "metadata": {
        "colab": {
          "base_uri": "https://localhost:8080/"
        },
        "id": "KnBNKWwmW6Fa",
        "outputId": "17200511-2399-4920-b04f-ac9c898d25ee"
      },
      "execution_count": 197,
      "outputs": [
        {
          "output_type": "stream",
          "name": "stdout",
          "text": [
            "Star Wars\n"
          ]
        }
      ]
    },
    {
      "cell_type": "code",
      "source": [
        "index_of_close_match_movie = movies[movies.Movie_Title == close_match]['Movie_ID'].values[0]\n",
        "print(index_of_close_match_movie)"
      ],
      "metadata": {
        "colab": {
          "base_uri": "https://localhost:8080/"
        },
        "id": "nnX9uRHLXHIi",
        "outputId": "6b765081-9a0a-494a-ab20-c425d9da367e"
      },
      "execution_count": 198,
      "outputs": [
        {
          "output_type": "stream",
          "name": "stdout",
          "text": [
            "2\n"
          ]
        }
      ]
    },
    {
      "cell_type": "code",
      "source": [
        "recommendation_score = list(enumerate(sim_score[index_of_close_match_movie]))\n",
        "print(recommendation_score)"
      ],
      "metadata": {
        "colab": {
          "base_uri": "https://localhost:8080/"
        },
        "id": "geJ5sCJ7Xm7X",
        "outputId": "2dcad384-52c5-4ccd-edb0-1e993015ff43"
      },
      "execution_count": 199,
      "outputs": [
        {
          "output_type": "stream",
          "name": "stdout",
          "text": [
            "[(0, 0.09999393917691975), (1, 0.10582998154552298), (2, 0.9999999999999998), (3, 0.10131389133625814), (4, 0.10154566134459504), (5, 0.0981707845105687), (6, 0.10660212289526855), (7, 0.07990187907966527), (8, 0.09674652904408271), (9, 0.09224377849623314), (10, 0.10026467708887653), (11, 0.09884376477964117), (12, 0.09980148090648282), (13, 0.09397445634014562), (14, 0.18014704850964897), (15, 0.10443699476613362), (16, 0.078989379781162), (17, 0.09859663435862161), (18, 0.10217166697203055), (19, 0.09471103758608211), (20, 0.10245067057504353), (21, 0.10429009670418087), (22, 0.146898252847146), (23, 0.09976057462382848), (24, 0.09444181220869595), (25, 0.09175657225818647), (26, 0.14392433674420038), (27, 0.1003333734664311), (28, 0.10592404481028252), (29, 0.09508299038378157), (30, 0.10027134989082818), (31, 0.09847466135755066), (32, 0.08575427797730564), (33, 0.09123086960860767), (34, 0.09968039376257132), (35, 0.11001329940951989), (36, 0.0919630876425344), (37, 0.10465565214489048), (38, 0.10734493336710646), (39, 0.11807473053470245), (40, 0.09948027498895909), (41, 0.10453181419917736), (42, 0.10207618200227161), (43, 0.1017826350734447), (44, 0.09048303666901168), (45, 0.1142167551626461), (46, 0.09259666864010925), (47, 0.11606126400614752), (48, 0.10359117447219923), (49, 0.1368900467719461), (50, 0.10369639082713697), (51, 0.10162903814754752), (52, 0.09135531954190566), (53, 0.17756900035962464), (54, 0.10004578621234013), (55, 0.09933913708047891), (56, 0.10022885332797914), (57, 0.09770699664516451), (58, 0.1191906558841116), (59, 0.10355241289319399), (60, 0.09014614952584858), (61, 0.1108455735794258), (62, 0.10756625284910688), (63, 0.0846911995011757), (64, 0.0986176885063133), (65, 0.09534916093415641), (66, 0.09645968789536412), (67, 0.09448552211208615), (68, 0.10378133659004521), (69, 0.10632724266215084), (70, 0.1305310212969061), (71, 0.0990173496374999), (72, 0.11785545812503893), (73, 0.1091881393569013), (74, 0.10478905068007985), (75, 0.09568831751367288), (76, 0.09064910717122088), (77, 0.09424917623200674), (78, 0.08549109895599463), (79, 0.10408150456484627), (80, 0.09370764567026313), (81, 0.09796990673830358), (82, 0.09000016702815873), (83, 0.09835564366728368), (84, 0.09940928405737645), (85, 0.09632202896406172), (86, 0.10394803904709435), (87, 0.11241800032207354), (88, 0.08766146199210331), (89, 0.11253515398516654), (90, 0.09177170187946324), (91, 0.11210010818842348), (92, 0.0934124689730557), (93, 0.0923317888864805), (94, 0.09006714393283279), (95, 0.1019843899231744), (96, 0.09928680977495197), (97, 0.09132407439000675), (98, 0.10779593642199256), (99, 0.08765118301642884), (100, 0.111454502029643), (101, 0.11058077598204355), (102, 0.1114903159557736), (103, 0.0805936253212768), (104, 0.10183660897572695), (105, 0.09995593041547209), (106, 0.09208356924153253), (107, 0.10766123337552118), (108, 0.09216664193943283), (109, 0.11817826282949505), (110, 0.10091301882277831), (111, 0.10148904629178383), (112, 0.0950911664199463), (113, 0.09094575927831834), (114, 0.101322958958452), (115, 0.10006453330267202), (116, 0.08966560410959105), (117, 0.10105347207162423), (118, 0.10667159372172634), (119, 0.09515513765794714), (120, 0.10158267868616029), (121, 0.1450987164051411), (122, 0.10061323497560977), (123, 0.10672240384873208), (124, 0.1076748398536021), (125, 0.10322239245218669), (126, 0.10195781788403993), (127, 0.09417194958956615), (128, 0.10519130086163021), (129, 0.0916661842502767), (130, 0.0906646788509024), (131, 0.10357994579857573), (132, 0.09572921387638858), (133, 0.09188900906007773), (134, 0.09145187731748754), (135, 0.10138757470902687), (136, 0.11265935358149164), (137, 0.13575981834977482), (138, 0.09505725799592389), (139, 0.10032756742735317), (140, 0.1388478713936381), (141, 0.1043136520194768), (142, 0.10508330168177248), (143, 0.10211303649612163), (144, 0.1827300572692522), (145, 0.10764151495892313), (146, 0.1672406932988475), (147, 0.09336963374988907), (148, 0.10430169876353519), (149, 0.08868257958139009), (150, 0.10067429023705196), (151, 0.09924653606707436), (152, 0.09703467925211497), (153, 0.1274225056011849), (154, 0.11794497152985368), (155, 0.09328067542414564), (156, 0.08861331921833965), (157, 0.08668271349962897), (158, 0.09460463198543477), (159, 0.08310461976310303), (160, 0.14103854873803656), (161, 0.10439579538562575), (162, 0.10963631895275013), (163, 0.09515280434412114), (164, 0.11799499470742654), (165, 0.0874921898981253), (166, 0.17961817198824237), (167, 0.1280954455909787), (168, 0.08168427399314085), (169, 0.10984816322735769), (170, 0.10237297765871395), (171, 0.1000032810804024), (172, 0.09442012854027058), (173, 0.1640507656227184), (174, 0.08921602063622669), (175, 0.09674129769980301), (176, 0.1062082690348815), (177, 0.1125217090666389), (178, 0.18299137350561231), (179, 0.15208360322048525), (180, 0.10289020386180185), (181, 0.09818811225596845), (182, 0.18569073936129385), (183, 0.10491972127819087), (184, 0.10126284513230871), (185, 0.13902675612470203), (186, 0.08686723317337547), (187, 0.11684768868347016), (188, 0.12918539081034017), (189, 0.10110508064055702), (190, 0.08439302334471872), (191, 0.09087487978904978), (192, 0.10254109922657324), (193, 0.11295073438888681), (194, 0.08772123248610575), (195, 0.08827330159734745), (196, 0.13362733318297232), (197, 0.08579470774537054), (198, 0.16929009059310526), (199, 0.09950106462482147), (200, 0.09111692407801371), (201, 0.11773707971751024), (202, 0.0869317400688953), (203, 0.10461171002587771), (204, 0.1076296231332024), (205, 0.10532749755398424), (206, 0.10205211677875035), (207, 0.1092433305754497), (208, 0.11993849644430095), (209, 0.10140819527905812), (210, 0.09710239951218992), (211, 0.09704307711333869), (212, 0.10192201311079772), (213, 0.09370928265596928), (214, 0.10220666952816465), (215, 0.10547558791208433), (216, 0.10451090620805496), (217, 0.10522508822873508), (218, 0.10529803356753399), (219, 0.13782502064648555), (220, 0.10484757005559418), (221, 0.09688129226104496), (222, 0.10422617004613036), (223, 0.10309910871632204), (224, 0.07430158132105948), (225, 0.10745605846573801), (226, 0.10111046697852573), (227, 0.09795217591523808), (228, 0.10121582368196273), (229, 0.1170948099054395), (230, 0.17871965775862386), (231, 0.09901269484157535), (232, 0.09974720886289518), (233, 0.1369688624283076), (234, 0.0926395932225809), (235, 0.11327364729661973), (236, 0.10098652738608364), (237, 0.09969413184450791), (238, 0.10221979617516676), (239, 0.10397223404347726), (240, 0.09607580838495408), (241, 0.0930003946007613), (242, 0.09710362841350076), (243, 0.08317460115046896), (244, 0.09558961067924103), (245, 0.1352440582554499), (246, 0.11206971328634761), (247, 0.2163596198194584), (248, 0.08994701849818333), (249, 0.10787749422040481), (250, 0.10612534915511053), (251, 0.0914682762326332), (252, 0.08035400570469828), (253, 0.10129074084019511), (254, 0.1109240573892703), (255, 0.1054238043041017), (256, 0.08545967407781038), (257, 0.11139105678271237), (258, 0.10582088535418818), (259, 0.10054776763977273), (260, 0.09413690479072381), (261, 0.1015268016325264), (262, 0.09794890927556063), (263, 0.09970996420314447), (264, 0.10492209054947015), (265, 0.09276891397761752), (266, 0.0995852686173466), (267, 0.0890898110063419), (268, 0.09041124101086435), (269, 0.0960290299046601), (270, 0.10221537021838278), (271, 0.099483909373138), (272, 0.09643302865610408), (273, 0.09183375454330014), (274, 0.10640217597337925), (275, 0.1363096205577665), (276, 0.09621674140933026), (277, 0.11073485150145443), (278, 0.10848858513796539), (279, 0.11839390963471431), (280, 0.09544622652439955), (281, 0.13598514812229326), (282, 0.1008073992019111), (283, 0.1058457078529931), (284, 0.10281603901832001), (285, 0.09629619764141818), (286, 0.1403740583013831), (287, 0.0977818469007192), (288, 0.09316859736600061), (289, 0.08032084232199077), (290, 0.087973529287815), (291, 0.09696759740282447), (292, 0.1073390600680586), (293, 0.07726071167311056), (294, 0.09035798586257851), (295, 0.09256671707944479), (296, 0.07566297934585463), (297, 0.11959961455388876), (298, 0.11825559706977459), (299, 0.11216023738076261), (300, 0.10614858701275594), (301, 0.11739544433043693), (302, 0.10681318502232207), (303, 0.10116660176637077), (304, 0.10587722465354955), (305, 0.101921610376654), (306, 0.09740539127491014), (307, 0.10416661344308516), (308, 0.10973372854903564), (309, 0.10169230058631305), (310, 0.09924269937566729), (311, 0.0941683171712886), (312, 0.11038479856762663), (313, 0.10109124055051834), (314, 0.08703347926006648), (315, 0.10181228434190216), (316, 0.0888684965467063), (317, 0.10518290933990973), (318, 0.10275197135059767), (319, 0.0936781889735462), (320, 0.10830420877258994), (321, 0.09366092314551125), (322, 0.09804123517859199), (323, 0.09497544889640565), (324, 0.11116402372734212), (325, 0.0940414537529495), (326, 0.10833819574627689), (327, 0.09831452662960483), (328, 0.09711124181943265), (329, 0.09372868153661733), (330, 0.09562103204455216), (331, 0.09661335137936587), (332, 0.10106178501711402), (333, 0.09190535802194888), (334, 0.1167400075911346), (335, 0.11832287333277403), (336, 0.08287333533256044), (337, 0.11962929000669013), (338, 0.09216638726911158), (339, 0.10308392496013027), (340, 0.11353582546989179), (341, 0.15865557280630455), (342, 0.10938617815164618), (343, 0.09536870397132069), (344, 0.10881097230015795), (345, 0.11567907942865088), (346, 0.1352549915559684), (347, 0.12674690041188794), (348, 0.10120134857729536), (349, 0.10257338410969889), (350, 0.13184637537995175), (351, 0.12449728446437129), (352, 0.10460358309134848), (353, 0.18189569710539397), (354, 0.10003514060292758), (355, 0.12917235885798867), (356, 0.10026318886857809), (357, 0.08980749305596904), (358, 0.09679058060459815), (359, 0.089763837658217), (360, 0.1342378576386008), (361, 0.16204168671459293), (362, 0.1682420294305679), (363, 0.13366688790297399), (364, 0.09295877241017216), (365, 0.13399164389314996), (366, 0.09665903174770593), (367, 0.10582001734915793), (368, 0.11683916331694617), (369, 0.11920846673222804), (370, 0.12821875247116624), (371, 0.10796720376591266), (372, 0.0936680815927646), (373, 0.10071366496212222), (374, 0.10069571284165264), (375, 0.09927166932018039), (376, 0.09384366516892707), (377, 0.09813540244513659), (378, 0.09572722799851179), (379, 0.12274422576665049), (380, 0.10602932462812277), (381, 0.0987894478368675), (382, 0.09266805724269642), (383, 0.10421930933796442), (384, 0.10744034705274201), (385, 0.1107221415218762), (386, 0.09937050744405758), (387, 0.08873555985259178), (388, 0.10515054959678069), (389, 0.10020613450813183), (390, 0.09824671280342069), (391, 0.14003841733978892), (392, 0.12659926399304366), (393, 0.09313883760767554), (394, 0.09329682782241037), (395, 0.11807491169308425), (396, 0.09459238497582756), (397, 0.09473366506295298), (398, 0.09840492746274793), (399, 0.10010524313937945), (400, 0.09495471219281922), (401, 0.12309568630262444), (402, 0.10716537821825528), (403, 0.08752177285018298), (404, 0.11861526743798248), (405, 0.1104759850665351), (406, 0.1238877224042376), (407, 0.10879186981470709), (408, 0.09256756374306335), (409, 0.11963913471761618), (410, 0.11430168186513522), (411, 0.0922260850320265), (412, 0.09465687798889058), (413, 0.11433213443902723), (414, 0.0896229914932685), (415, 0.10379771080034483), (416, 0.08832215039091898), (417, 0.08731604766395255), (418, 0.10760509337335848), (419, 0.10239882626604206), (420, 0.10323603581127758), (421, 0.15794260738850924), (422, 0.10076139954104671), (423, 0.12312787117573509), (424, 0.10836153198355213), (425, 0.11062361522178449), (426, 0.10612007889883388), (427, 0.15819954405420356), (428, 0.11534870352963049), (429, 0.13753712820508907), (430, 0.1086066566919822), (431, 0.10503094259671557), (432, 0.10699282925381716), (433, 0.0975551886556332), (434, 0.11038069730925124), (435, 0.09036059102757275), (436, 0.11247848751068759), (437, 0.09457927367550056), (438, 0.08923519296190079), (439, 0.09910787498725117), (440, 0.10028722191940734), (441, 0.10152602775031111), (442, 0.08738545500773812), (443, 0.1129907464037622), (444, 0.10555071558240645), (445, 0.10799048073741094), (446, 0.14074278909713375), (447, 0.1087009128588077), (448, 0.11096409433088315), (449, 0.09171986268102272), (450, 0.10494425260561017), (451, 0.12205570530897382), (452, 0.08412796021699631), (453, 0.0724194595745602), (454, 0.11956670458047178), (455, 0.11017827065862978), (456, 0.11374048957143977), (457, 0.12336566301027459), (458, 0.11559507374833292), (459, 0.1759046341735821), (460, 0.11220123788438029), (461, 0.14731513109179095), (462, 0.11392815841151553), (463, 0.1713049361480596), (464, 0.0940590094363977), (465, 0.10503150663441392), (466, 0.09866375785954158), (467, 0.09601530021958499), (468, 0.0952339889508558), (469, 0.09020320299055032), (470, 0.11086237084159209), (471, 0.09173932362195371), (472, 0.13289814095044097), (473, 0.093629859248478), (474, 0.17631302103266183), (475, 0.08373880865007186), (476, 0.09995879593942171), (477, 0.09750895659437024), (478, 0.10126367185943112), (479, 0.09669042619169575), (480, 0.08859897488915702), (481, 0.11457924892209506), (482, 0.09404569553982957), (483, 0.10191980818111168), (484, 0.12410763635185859), (485, 0.1087663785044168), (486, 0.09840295666288151), (487, 0.08704769326945133), (488, 0.14218667200131757), (489, 0.12117859976311655), (490, 0.11881329379413261), (491, 0.11002771219853223), (492, 0.09593207638745896), (493, 0.10246380760787101), (494, 0.10533072988119914), (495, 0.09165251353966455), (496, 0.09814043989791998), (497, 0.10196066017250047), (498, 0.10536980965662684), (499, 0.11098934012996188), (500, 0.1441184587096186), (501, 0.10663048278702245), (502, 0.10521981660012956), (503, 0.09261920507146765), (504, 0.09631107311298487), (505, 0.08664720138862272), (506, 0.09388153279645556), (507, 0.11365175569677692), (508, 0.10743069095426203), (509, 0.10249344900820677), (510, 0.09196346135634942), (511, 0.10207814091179451), (512, 0.1196683067587729), (513, 0.11332828171832961), (514, 0.10242570374678626), (515, 0.08986180639700315), (516, 0.10943728618627448), (517, 0.1320823124457895), (518, 0.10441727432606868), (519, 0.09499737505916475), (520, 0.10512403061696703), (521, 0.10337685498750175), (522, 0.11565809212703883), (523, 0.10961531329113189), (524, 0.11549509585583378), (525, 0.0982072874867196), (526, 0.11084811200646015), (527, 0.09436246439505641), (528, 0.1056556976315789), (529, 0.1049543799142464), (530, 0.11067126360770514), (531, 0.11471721050920372), (532, 0.1038279916827312), (533, 0.10091220136386024), (534, 0.09718762849454407), (535, 0.09833831655730807), (536, 0.09958506661822064), (537, 0.10480180345825278), (538, 0.09344978136345884), (539, 0.09468907939886968), (540, 0.17894581112056904), (541, 0.10559825289935477), (542, 0.09766388494542941), (543, 0.10282435341694617), (544, 0.10554144597356428), (545, 0.09990949233626563), (546, 0.10791582098100967), (547, 0.08768605950553862), (548, 0.15559432438717413), (549, 0.11721437702642562), (550, 0.1092566526876059), (551, 0.09999609583517324), (552, 0.10045941874015794), (553, 0.10184812607881898), (554, 0.09899287242376244), (555, 0.09355435267468173), (556, 0.09403148522581233), (557, 0.09548729178674147), (558, 0.09482959184765144), (559, 0.09032668634774126), (560, 0.10944692588605896), (561, 0.09968494044193482), (562, 0.0941005217581814), (563, 0.11223237242955933), (564, 0.09430624231576172), (565, 0.09267599582023162), (566, 0.08995614054012314), (567, 0.09921507285485733), (568, 0.09329260021416083), (569, 0.13620801655524112), (570, 0.1316323892761377), (571, 0.09442902373420943), (572, 0.10335312898931545), (573, 0.09667501760597132), (574, 0.10337484839914508), (575, 0.08246279730494567), (576, 0.11029565116242289), (577, 0.10067160844193045), (578, 0.14093323497969867), (579, 0.09914845329464257), (580, 0.10450886588953237), (581, 0.11159905613327444), (582, 0.1172558605791089), (583, 0.10053551537400617), (584, 0.13407368943673068), (585, 0.11092182053994219), (586, 0.10528262570673194), (587, 0.10605171192046578), (588, 0.10054237950578357), (589, 0.10308032861837182), (590, 0.10158718014349946), (591, 0.10312939780100239), (592, 0.10096292889139571), (593, 0.09200793341409776), (594, 0.11883823283127762), (595, 0.09818145394142709), (596, 0.14046823738087258), (597, 0.10523217278840806), (598, 0.0899002970087763), (599, 0.09850935642864661), (600, 0.11142762857568628), (601, 0.11098049630717137), (602, 0.10534357283467753), (603, 0.1025260147304734), (604, 0.08949100861038642), (605, 0.10612413484341904), (606, 0.10628751906781812), (607, 0.10504888455483592), (608, 0.0915029572476985), (609, 0.09254542539658014), (610, 0.09536001055017054), (611, 0.09135408469175509), (612, 0.11382456902159387), (613, 0.10218442071635743), (614, 0.11218455777768345), (615, 0.14795671954064613), (616, 0.09451379998499249), (617, 0.09218019356038946), (618, 0.09198207796670879), (619, 0.1771399111736675), (620, 0.1328355700035178), (621, 0.10250398695704428), (622, 0.11101516458947043), (623, 0.10900558358110522), (624, 0.16276771765874654), (625, 0.0972514763461238), (626, 0.10445062908075413), (627, 0.11444486625283265), (628, 0.10872304123749502), (629, 0.11002550353956514), (630, 0.10846583483082886), (631, 0.10050197356982542), (632, 0.08963790358493447), (633, 0.1021558968243277), (634, 0.09982482786208059), (635, 0.10560373312558483), (636, 0.09785226344171233), (637, 0.10381975428955786), (638, 0.10105132009736809), (639, 0.09261129180436191), (640, 0.17492175287677827), (641, 0.09392958377648546), (642, 0.09849550352921403), (643, 0.1838827525176169), (644, 0.08844226950337751), (645, 0.08121262332680806), (646, 0.11399042979857371), (647, 0.08896229205187031), (648, 0.08906903239638032), (649, 0.09625807641897689), (650, 0.09446400831253815), (651, 0.12086158976812988), (652, 0.09754506947409927), (653, 0.0971706215131687), (654, 0.10231099345327124), (655, 0.09882469930945334), (656, 0.10499058124366377), (657, 0.10758795643293785), (658, 0.10667760153587144), (659, 0.1003619627828744), (660, 0.10516345890851045), (661, 0.09262340061010577), (662, 0.13368018376383503), (663, 0.10470147851382156), (664, 0.0996635428301606), (665, 0.10080703298074187), (666, 0.10756875368056844), (667, 0.09393903691457249), (668, 0.08894514169054249), (669, 0.09656398166221215), (670, 0.12243011354603064), (671, 0.10058654743427135), (672, 0.08885878381392648), (673, 0.10894734827398363), (674, 0.1091434469823194), (675, 0.10604290885053992), (676, 0.10872357217466387), (677, 0.10686246987739077), (678, 0.12415230880917054), (679, 0.11429778576702226), (680, 0.09938940864581725), (681, 0.11583839299919793), (682, 0.10921650281019331), (683, 0.1097150906522703), (684, 0.09667690450597752), (685, 0.10318488997678726), (686, 0.11592363595382493), (687, 0.12099071268917098), (688, 0.10578016300501945), (689, 0.11327838548397581), (690, 0.12156278398504936), (691, 0.16823427246676198), (692, 0.09537481592479766), (693, 0.10065483359329246), (694, 0.0983556810027094), (695, 0.15259961238756675), (696, 0.10415801425294012), (697, 0.09862989128657497), (698, 0.1754807739111388), (699, 0.10457351725974713), (700, 0.12109458536131158), (701, 0.10677253333049805), (702, 0.10344933224315601), (703, 0.10264878134573363), (704, 0.10008351904009088), (705, 0.16293439473156734), (706, 0.11411228521378826), (707, 0.08389487813705956), (708, 0.11425749561323878), (709, 0.10811908338843791), (710, 0.08820914727738773), (711, 0.12189992264495735), (712, 0.10613802581186012), (713, 0.1076807982139435), (714, 0.11321972162189535), (715, 0.11168534147652281), (716, 0.10863695039710725), (717, 0.1059891560859593), (718, 0.09535644085519172), (719, 0.09757163555844581), (720, 0.09567710596123899), (721, 0.10178444672946706), (722, 0.08558221497290389), (723, 0.09692174334697091), (724, 0.14104758394456335), (725, 0.10366157010998309), (726, 0.10267243908628333), (727, 0.10507364776666706), (728, 0.10924177717717316), (729, 0.11157514389006533), (730, 0.15720642554866177), (731, 0.11108788862438143), (732, 0.10531217331035175), (733, 0.09218229139472903), (734, 0.09294298247655527), (735, 0.1195139048628283), (736, 0.11709601897469399), (737, 0.1061824601734787), (738, 0.10772582886894418), (739, 0.10851033225742909), (740, 0.09780156782904163), (741, 0.1023918369787607), (742, 0.10377128491404945), (743, 0.14276206449259904), (744, 0.09869581928683242), (745, 0.10378718258673586), (746, 0.09333749358766417), (747, 0.10673696306935451), (748, 0.10538053852459305), (749, 0.10343611926292208), (750, 0.10319965682386384), (751, 0.11902667218112166), (752, 0.19690489612888762), (753, 0.15452729220933897), (754, 0.1085851254559418), (755, 0.1329127740089924), (756, 0.09867042378507439), (757, 0.10144000545178614), (758, 0.10468216234849946), (759, 0.09280729641718001), (760, 0.10819674156211398), (761, 0.09041864791912506), (762, 0.09711662769364023), (763, 0.09271059878666629), (764, 0.1263332873362685), (765, 0.10017236208482583), (766, 0.08703526500114148), (767, 0.09551287921497242), (768, 0.1402668304194142), (769, 0.11288329476956768), (770, 0.08835034989201651), (771, 0.10687398146307252), (772, 0.1028175735879021), (773, 0.11992788718432504), (774, 0.10803783174867569), (775, 0.09017647728129095), (776, 0.0956433556138983), (777, 0.10602579033894344), (778, 0.1336061114316049), (779, 0.08849123037862018), (780, 0.100889408810466), (781, 0.1290050808440847), (782, 0.10171077021884488), (783, 0.09587622271086436), (784, 0.09301579124694183), (785, 0.10039970652767688), (786, 0.09223219679110257), (787, 0.12436568572491508), (788, 0.10648959808158853), (789, 0.09285507389235118), (790, 0.09458242927561566), (791, 0.11591319870038219), (792, 0.1043199762897168), (793, 0.11124309105534085), (794, 0.15298687105393563), (795, 0.11523531900784598), (796, 0.08877979888819547), (797, 0.1221794848510413), (798, 0.0972268805690912), (799, 0.09449107490824236), (800, 0.09692313856386281), (801, 0.09476837131902423), (802, 0.12665734617162072), (803, 0.09868798682516104), (804, 0.10248713436233017), (805, 0.09808670827342032), (806, 0.11130315217906042), (807, 0.10569749133417627), (808, 0.10696186980946805), (809, 0.09852789389739795), (810, 0.10398302701338362), (811, 0.09935669899653465), (812, 0.09219879622784356), (813, 0.11032739037455346), (814, 0.10056725897317977), (815, 0.09601461215445789), (816, 0.08165646346446512), (817, 0.11633435222040192), (818, 0.09527524187595102), (819, 0.11374138027693413), (820, 0.1000428278190613), (821, 0.10307525509726195), (822, 0.10478381198135212), (823, 0.10395907497486868), (824, 0.09431478779277883), (825, 0.10805838964467773), (826, 0.09597413551300459), (827, 0.09182255084574575), (828, 0.0889734501047923), (829, 0.09576033373830137), (830, 0.11175206362105945), (831, 0.0923991210330226), (832, 0.1036656338017479), (833, 0.10392481405910062), (834, 0.10852311694321404), (835, 0.10142754378785093), (836, 0.10124885169956034), (837, 0.09428981700252576), (838, 0.0859307701762011), (839, 0.1168849665025998), (840, 0.10443608556709373), (841, 0.10829403747638373), (842, 0.11326547676296665), (843, 0.10674330917847766), (844, 0.10385200528027115), (845, 0.11401299351320043), (846, 0.10974732715405248), (847, 0.12553688619289113), (848, 0.100366345067583), (849, 0.11709450316969872), (850, 0.1560325597439181), (851, 0.09284768485580182), (852, 0.14578644958852444), (853, 0.12824837980522574), (854, 0.14977819417689814), (855, 0.10635830144820921), (856, 0.11866436098716159), (857, 0.1045673483837234), (858, 0.09797694159990225), (859, 0.11652550515175628), (860, 0.1026198987348161), (861, 0.08731333582016976), (862, 0.0900751018616841), (863, 0.11643665937745097), (864, 0.09755590154982492), (865, 0.10594481723873779), (866, 0.09094282397894461), (867, 0.10294697518096033), (868, 0.1010604740745496), (869, 0.10549471984870962), (870, 0.09996046347950237), (871, 0.09719444420244229), (872, 0.11923509814299252), (873, 0.09998600630867875), (874, 0.09531287476219549), (875, 0.1140575227851051), (876, 0.10219399895086026), (877, 0.09595850497379531), (878, 0.10671639370735671), (879, 0.1368553851929606), (880, 0.13172860622597415), (881, 0.1006204618436832), (882, 0.09788685626190795), (883, 0.09709155046777193), (884, 0.12489506178462047), (885, 0.09743500509401705), (886, 0.09203361385578257), (887, 0.1610870649900695), (888, 0.10828489433872569), (889, 0.11221913939056649), (890, 0.10197668008257031), (891, 0.10894694788187186), (892, 0.09675259450188806), (893, 0.09167608332444209), (894, 0.09786548735254935), (895, 0.10218707638582587), (896, 0.10801915511461006), (897, 0.09878221469035006), (898, 0.09838093854042194), (899, 0.1221209866503254), (900, 0.1150056171489521), (901, 0.11816437884558596), (902, 0.0974978430922327), (903, 0.08524523794851412), (904, 0.1093178076063211), (905, 0.11384837014227421), (906, 0.09401852587363177), (907, 0.08970401603490971), (908, 0.09935286770133268), (909, 0.12208602553911549), (910, 0.10757377562651455), (911, 0.11179002456124709), (912, 0.1166596253911722), (913, 0.10076942712857302), (914, 0.10929360796596112), (915, 0.13371861378003136), (916, 0.1006714739883101), (917, 0.08172397062453327), (918, 0.10593018054552207), (919, 0.10084896979929472), (920, 0.11206692345561842), (921, 0.09105844655755699), (922, 0.09988892106913667), (923, 0.09791682309725697), (924, 0.08538402364251033), (925, 0.10293876678781436), (926, 0.13883099475637378), (927, 0.09675965538278711), (928, 0.12175462005018915), (929, 0.06996118159925283), (930, 0.10953716953666653), (931, 0.09830474935165519), (932, 0.16543102607722182), (933, 0.09252635961748347), (934, 0.10400961234726297), (935, 0.11171196010076856), (936, 0.09882802562691916), (937, 0.10386584783016875), (938, 0.10476108381869859), (939, 0.11514075146731655), (940, 0.09920431908222016), (941, 0.08547734124485863), (942, 0.08681386968528648), (943, 0.0906518227073442), (944, 0.09216503896851086), (945, 0.10107159537074109), (946, 0.11922397506773613), (947, 0.11812817624707096), (948, 0.15737307210260393), (949, 0.10988548727709675), (950, 0.10998313556256965), (951, 0.08184009710630523), (952, 0.12134841280748758), (953, 0.0932752726753425), (954, 0.12250106929726087), (955, 0.11255718813952034), (956, 0.10206565447707823), (957, 0.10468037690176613), (958, 0.09298534884647587), (959, 0.10477154798539687), (960, 0.1031515644099118), (961, 0.1274746961010144), (962, 0.10197202287784124), (963, 0.09567358848158913), (964, 0.08564744937529559), (965, 0.1004468689354244), (966, 0.09665908493379727), (967, 0.1234720283161564), (968, 0.08667185109900889), (969, 0.10726255969090784), (970, 0.08770040319676543), (971, 0.11673256754355008), (972, 0.09766819590869646), (973, 0.10137418726209287), (974, 0.0919468445696617), (975, 0.0936766935760898), (976, 0.1279509461621471), (977, 0.11246763300199303), (978, 0.10745136219984833), (979, 0.08601902785552892), (980, 0.0997891885352559), (981, 0.1033420174658063), (982, 0.11805323226086888), (983, 0.09510941940517918), (984, 0.09937523069272026), (985, 0.11274174502321274), (986, 0.0904240499372936), (987, 0.10461047795033968), (988, 0.1705835753394385), (989, 0.15250184765644836), (990, 0.10907064633822704), (991, 0.10635292252750769), (992, 0.10414628438002671), (993, 0.10067397701260272), (994, 0.10452041523516432), (995, 0.09841458774498386), (996, 0.12287509297804539), (997, 0.0957286972418729), (998, 0.11449241321814979), (999, 0.1011465338315797), (1000, 0.09536423636687887), (1001, 0.0994713837630691), (1002, 0.13517893942295092), (1003, 0.09828560374034917), (1004, 0.10562501649915221), (1005, 0.08071846823479555), (1006, 0.11087886654470344), (1007, 0.10604268600890601), (1008, 0.11313614135612426), (1009, 0.1088053076564325), (1010, 0.09761173855829361), (1011, 0.14705730687426616), (1012, 0.09533057437010527), (1013, 0.11273798363423684), (1014, 0.12455106401585093), (1015, 0.11112338101148676), (1016, 0.12521600001991803), (1017, 0.10206672878732002), (1018, 0.09731344935879666), (1019, 0.08585050714260697), (1020, 0.0867075888122338), (1021, 0.12375402689579454), (1022, 0.0974512257004361), (1023, 0.11663174329515226), (1024, 0.10306816233405816), (1025, 0.11382407915764196), (1026, 0.10335340345957457), (1027, 0.10064485742414132), (1028, 0.10069500346326125), (1029, 0.10381718890522314), (1030, 0.09451202622555982), (1031, 0.10176785020251264), (1032, 0.090486925346984), (1033, 0.0967785904820167), (1034, 0.09346800385825724), (1035, 0.09220019021282358), (1036, 0.10037091486577929), (1037, 0.07719769308301468), (1038, 0.15957693742895052), (1039, 0.1005493714486441), (1040, 0.08141755648734308), (1041, 0.15385551645845397), (1042, 0.08298636892656087), (1043, 0.10912456302528775), (1044, 0.09668436815577727), (1045, 0.09534508562325547), (1046, 0.11892749946664674), (1047, 0.11033479622984119), (1048, 0.10096609199936599), (1049, 0.11946444842309054), (1050, 0.12826743641268906), (1051, 0.10840649519418512), (1052, 0.09922117208800972), (1053, 0.10466329729481921), (1054, 0.1012628315104738), (1055, 0.08890528477451246), (1056, 0.10338343190374365), (1057, 0.1338846605682721), (1058, 0.11289195797656318), (1059, 0.10674807723454997), (1060, 0.09780591191659677), (1061, 0.1058815479907968), (1062, 0.10390408639783386), (1063, 0.09838370224043154), (1064, 0.10755258501636819), (1065, 0.08334849766647312), (1066, 0.09505918639750896), (1067, 0.1631160750054753), (1068, 0.09227823824536079), (1069, 0.10684838244206432), (1070, 0.0782611742680979), (1071, 0.11421348465111793), (1072, 0.17137276883271807), (1073, 0.10520835267729332), (1074, 0.10116681596600752), (1075, 0.0968445227640402), (1076, 0.1606592609348803), (1077, 0.10725206419545753), (1078, 0.08161644802207861), (1079, 0.13204222842887697), (1080, 0.09846078418196678), (1081, 0.08834437976787309), (1082, 0.09822197691594294), (1083, 0.09284258530769302), (1084, 0.11242148641063729), (1085, 0.12830439610209116), (1086, 0.08955791263133756), (1087, 0.10207797114721988), (1088, 0.12381670035070431), (1089, 0.10053723966474334), (1090, 0.10154971077341127), (1091, 0.10173225700176634), (1092, 0.15868358029030316), (1093, 0.09315577248251053), (1094, 0.14427332751647598), (1095, 0.12047145846596706), (1096, 0.09889005799583056), (1097, 0.10801652598299206), (1098, 0.08553050876906408), (1099, 0.10419313092075771), (1100, 0.1093130237157647), (1101, 0.10355391400883), (1102, 0.10291663325119177), (1103, 0.12005223088305346), (1104, 0.1160508547584156), (1105, 0.1015442741932678), (1106, 0.10564093416159107), (1107, 0.1590503492247803), (1108, 0.09884273123549149), (1109, 0.11119508527821234), (1110, 0.11198477939903367), (1111, 0.1089170386890034), (1112, 0.11992802680525418), (1113, 0.09742582969689571), (1114, 0.11884356782089829), (1115, 0.08990809608745436), (1116, 0.10828343028337419), (1117, 0.09621469720922832), (1118, 0.10064503215996501), (1119, 0.10107931731634195), (1120, 0.09791687827428215), (1121, 0.1096743743709961), (1122, 0.10206317442680111), (1123, 0.0924288271049151), (1124, 0.10125613579991864), (1125, 0.09586173165453787), (1126, 0.10099576601438473), (1127, 0.10100829057112734), (1128, 0.09584392648558086), (1129, 0.1057989554204344), (1130, 0.11126867410390497), (1131, 0.10337472512751816), (1132, 0.11857874630259085), (1133, 0.10484899216784355), (1134, 0.10183632231606687), (1135, 0.08870953054455019), (1136, 0.09006192610019022), (1137, 0.09682577564773485), (1138, 0.11080120448513366), (1139, 0.09960100595950874), (1140, 0.10518026688981386), (1141, 0.11457696247126013), (1142, 0.14174933015812302), (1143, 0.10653567110040131), (1144, 0.09098611004177598), (1145, 0.12076689116411689), (1146, 0.09539475948021219), (1147, 0.0939311601751065), (1148, 0.10125718406073432), (1149, 0.09363769469291247), (1150, 0.10317055912019402), (1151, 0.09934523849881548), (1152, 0.09934284965339457), (1153, 0.08468304362458105), (1154, 0.10355469878264552), (1155, 0.1120225762987583), (1156, 0.0929392031825158), (1157, 0.10189811255256062), (1158, 0.10020668629732121), (1159, 0.09716702111538479), (1160, 0.08766321282207858), (1161, 0.0957548792733242), (1162, 0.12452836490292192), (1163, 0.12075440516384221), (1164, 0.07937250749993777), (1165, 0.1350827197990975), (1166, 0.12729222990092715), (1167, 0.10622719429593905), (1168, 0.14130153300323345), (1169, 0.11179307070448602), (1170, 0.10191801695914862), (1171, 0.09943571325099533), (1172, 0.10544661950725925), (1173, 0.09784925169432239), (1174, 0.0998648297140944), (1175, 0.10569065588133693), (1176, 0.19916825287098086), (1177, 0.08919113643624899), (1178, 0.11230696302553869), (1179, 0.1017676674562481), (1180, 0.10002177750037591), (1181, 0.08925442097763725), (1182, 0.19807624440829133), (1183, 0.0907360763067757), (1184, 0.10557625488542126), (1185, 0.0996658555411979), (1186, 0.09118522572648795), (1187, 0.10442902736091286), (1188, 0.10067894487985643), (1189, 0.1342554579279909), (1190, 0.09117684215765756), (1191, 0.10894078353257236), (1192, 0.11023636394003511), (1193, 0.10245501125521886), (1194, 0.08579120571273147), (1195, 0.14861800108918014), (1196, 0.11760747189983162), (1197, 0.09435171499180028), (1198, 0.11699142757373178), (1199, 0.09596695583060305), (1200, 0.08944176346075593), (1201, 0.10616751620936739), (1202, 0.09677356289624468), (1203, 0.09572099897355221), (1204, 0.1132613514691021), (1205, 0.10105609599087233), (1206, 0.10998409360353728), (1207, 0.09584964334554548), (1208, 0.11778093613250604), (1209, 0.08393279646790287), (1210, 0.09158868609838496), (1211, 0.09097780053460813), (1212, 0.0965211118011752), (1213, 0.08847494154865655), (1214, 0.09514219530374571), (1215, 0.09174604731113516), (1216, 0.10088917233994961), (1217, 0.10905261558339602), (1218, 0.09699694481023226), (1219, 0.10233336778134043), (1220, 0.10245711630335806), (1221, 0.09078552740954376), (1222, 0.11315796341598904), (1223, 0.12603776449498919), (1224, 0.1087696087209682), (1225, 0.10275038024345418), (1226, 0.09828875325322498), (1227, 0.10628632476475151), (1228, 0.10789477561402097), (1229, 0.11054004034322888), (1230, 0.09943040407800571), (1231, 0.11347230888007677), (1232, 0.09945843350181217), (1233, 0.10674836304162948), (1234, 0.10313763362599164), (1235, 0.11216116975066252), (1236, 0.09857011846873588), (1237, 0.09819014365353608), (1238, 0.09690762775423242), (1239, 0.09724336299276341), (1240, 0.09935288034910021), (1241, 0.12414055376514962), (1242, 0.09801200695007267), (1243, 0.11016959516251365), (1244, 0.10092944819219299), (1245, 0.09695133986669963), (1246, 0.12739937589460917), (1247, 0.10391579598093155), (1248, 0.10457668716687157), (1249, 0.09259977364858303), (1250, 0.10245831252272178), (1251, 0.20609302637935914), (1252, 0.10260997894341475), (1253, 0.1010320605636779), (1254, 0.10903168568895145), (1255, 0.12988155789292213), (1256, 0.10114413058851755), (1257, 0.1839405661449306), (1258, 0.11558078914916908), (1259, 0.09080670736346351), (1260, 0.10590909898430546), (1261, 0.10072677962954252), (1262, 0.10099483513609112), (1263, 0.10351082147573115), (1264, 0.10843944134693431), (1265, 0.10228693376953671), (1266, 0.0972949201950859), (1267, 0.10594730036080137), (1268, 0.09652936624198413), (1269, 0.10037996782567307), (1270, 0.09666563609729745), (1271, 0.11017887263036992), (1272, 0.10151921571919176), (1273, 0.08909611107016649), (1274, 0.09518566495990219), (1275, 0.10654907501077518), (1276, 0.1297884232068153), (1277, 0.07564879695120727), (1278, 0.10147775252686998), (1279, 0.10634167358992494), (1280, 0.10273123285780761), (1281, 0.09692283976024053), (1282, 0.09854101881500185), (1283, 0.09094946085935209), (1284, 0.17831013997325146), (1285, 0.12058315491313384), (1286, 0.10631325006404779), (1287, 0.0935182463821321), (1288, 0.09819973733454977), (1289, 0.08298604205119721), (1290, 0.09568551145794994), (1291, 0.12555963696428155), (1292, 0.11959538765925033), (1293, 0.09261602649644156), (1294, 0.10035878773953752), (1295, 0.11211810692866984), (1296, 0.10241079896578618), (1297, 0.09764261646472336), (1298, 0.10852805624384222), (1299, 0.09674221531918434), (1300, 0.10799528874714585), (1301, 0.10344501084194542), (1302, 0.10245595090942126), (1303, 0.0933589349841749), (1304, 0.10161618115785588), (1305, 0.09836507728958958), (1306, 0.09807987378523082), (1307, 0.1183699150944356), (1308, 0.10426690404289746), (1309, 0.12114648461311049), (1310, 0.10412799121993058), (1311, 0.14526653951624718), (1312, 0.08653183096565191), (1313, 0.09605796627544722), (1314, 0.10071215549104588), (1315, 0.09665488000256171), (1316, 0.08678721872858343), (1317, 0.09311354459613032), (1318, 0.10469342183965961), (1319, 0.1632622986843625), (1320, 0.07936020451871807), (1321, 0.11440307898645397), (1322, 0.10820715053194853), (1323, 0.09430972740584341), (1324, 0.09983946805618951), (1325, 0.11182890071259323), (1326, 0.10277784613479125), (1327, 0.1968533940261039), (1328, 0.11597817032856386), (1329, 0.10556818998040368), (1330, 0.1009319562002414), (1331, 0.08938699421093219), (1332, 0.1051608821094603), (1333, 0.12903576798552271), (1334, 0.10610269648358663), (1335, 0.11386439892196601), (1336, 0.13114835570297473), (1337, 0.10328594702660668), (1338, 0.13659136341715034), (1339, 0.1327856908114486), (1340, 0.09028578144154759), (1341, 0.09913458197323707), (1342, 0.09463035748078812), (1343, 0.11306953976925699), (1344, 0.10563302360936866), (1345, 0.11438395482903851), (1346, 0.09507577885994462), (1347, 0.09781156113347109), (1348, 0.11230763909827089), (1349, 0.10726479739259535), (1350, 0.08836624868017018), (1351, 0.13442768338664723), (1352, 0.10143365318452667), (1353, 0.09476503356431491), (1354, 0.09745625081485122), (1355, 0.0991446302497111), (1356, 0.12842030560604353), (1357, 0.10643324173086621), (1358, 0.10702803468968827), (1359, 0.1024947215274503), (1360, 0.09173741669198811), (1361, 0.10643089760343408), (1362, 0.10067111026643731), (1363, 0.11180013348245833), (1364, 0.1461902778551476), (1365, 0.11004664098120885), (1366, 0.10576010993487817), (1367, 0.09229863566456277), (1368, 0.11002532225349429), (1369, 0.08687376754319767), (1370, 0.09681278582081182), (1371, 0.13145288480445036), (1372, 0.09476372169277886), (1373, 0.12218672968201262), (1374, 0.10015292945867754), (1375, 0.10109397456896771), (1376, 0.12538303215846408), (1377, 0.0822645182860193), (1378, 0.09763459019438496), (1379, 0.10266112167027297), (1380, 0.1032356064091419), (1381, 0.10741469388571216), (1382, 0.1037845300848379), (1383, 0.13465007939892437), (1384, 0.09840340957701126), (1385, 0.09974714806543414), (1386, 0.10046520495563066), (1387, 0.1119083262711855), (1388, 0.09446836804819439), (1389, 0.14103735053574137), (1390, 0.10625600821598942), (1391, 0.10392721053249532), (1392, 0.09645889539492083), (1393, 0.11045357697479304), (1394, 0.10455682291920819), (1395, 0.08212102565467626), (1396, 0.1030694642618594), (1397, 0.09185801546787016), (1398, 0.1138460848798551), (1399, 0.09603179810575428), (1400, 0.10051899906519261), (1401, 0.10440405587262339), (1402, 0.10188223737015448), (1403, 0.12674117619229075), (1404, 0.10325479091420998), (1405, 0.17909948743220033), (1406, 0.11308905171327385), (1407, 0.10219866758978474), (1408, 0.093936207100513), (1409, 0.17094102714532), (1410, 0.10069679651475484), (1411, 0.09561506084318629), (1412, 0.10528744245917676), (1413, 0.09916579754544767), (1414, 0.0875181671336521), (1415, 0.07542373940870514), (1416, 0.10487673327460276), (1417, 0.09450054638204025), (1418, 0.08109479747728952), (1419, 0.10556246572513167), (1420, 0.10148933778028207), (1421, 0.10766333135375816), (1422, 0.09516790923638381), (1423, 0.10308502729243237), (1424, 0.1021869326970573), (1425, 0.11172374978154184), (1426, 0.1036401551990112), (1427, 0.11213344682499873), (1428, 0.09948789851328177), (1429, 0.10692909100075276), (1430, 0.09678544406314078), (1431, 0.10090684105769067), (1432, 0.10348995735506852), (1433, 0.160179708049076), (1434, 0.08348750228369473), (1435, 0.10652672014077724), (1436, 0.10927972844448697), (1437, 0.12006308156811399), (1438, 0.09951370626832706), (1439, 0.0998256964861543), (1440, 0.09986196602095737), (1441, 0.10271031952701055), (1442, 0.10937801499605748), (1443, 0.10910686260312917), (1444, 0.08962878786385531), (1445, 0.10621182778310126), (1446, 0.0963467437223674), (1447, 0.11463663956136236), (1448, 0.08964063450575387), (1449, 0.09476656530348812), (1450, 0.10936235836936392), (1451, 0.10784799502551375), (1452, 0.10142514000572399), (1453, 0.09636822975774843), (1454, 0.11718749561419758), (1455, 0.09816275356355471), (1456, 0.11139302527763621), (1457, 0.09481165239714372), (1458, 0.10656792464740544), (1459, 0.10358339867730154), (1460, 0.1690341845771138), (1461, 0.12053918442462659), (1462, 0.09219907555233578), (1463, 0.1048299312911238), (1464, 0.1064696238157433), (1465, 0.13224640191558157), (1466, 0.12222846187448233), (1467, 0.09644293080748362), (1468, 0.09699615555562381), (1469, 0.10455741498638524), (1470, 0.09838319290194883), (1471, 0.08780243453436617), (1472, 0.10738821844433977), (1473, 0.13560274724670487), (1474, 0.13114957297534793), (1475, 0.09901665016869768), (1476, 0.09970280242285579), (1477, 0.11820786503678507), (1478, 0.10511782020841337), (1479, 0.11349409396328593), (1480, 0.10144114047052355), (1481, 0.13264650789866825), (1482, 0.12307276576796602), (1483, 0.10301259565158924), (1484, 0.1360997457605169), (1485, 0.11403336566473979), (1486, 0.11160855629359435), (1487, 0.10151413876717223), (1488, 0.11160666920743385), (1489, 0.1133145781547322), (1490, 0.10012663488951819), (1491, 0.09960772035714029), (1492, 0.10124425932378313), (1493, 0.08993054776659455), (1494, 0.10402663966121695), (1495, 0.12414215297827322), (1496, 0.14194276517320525), (1497, 0.10120079058483467), (1498, 0.10814538879806086), (1499, 0.1004811646842616), (1500, 0.10248755809887843), (1501, 0.10094308102560785), (1502, 0.09862449289396948), (1503, 0.10642093368646695), (1504, 0.10040859256238088), (1505, 0.16733679112597383), (1506, 0.10003322273448545), (1507, 0.10839869429871204), (1508, 0.09841764186365917), (1509, 0.10604096769171494), (1510, 0.10651092281908223), (1511, 0.10188987041236931), (1512, 0.09755562199581107), (1513, 0.10260270767132289), (1514, 0.08979793394137987), (1515, 0.10080904565052971), (1516, 0.10752706267616818), (1517, 0.10536617420265686), (1518, 0.1139618316018079), (1519, 0.09218108601394892), (1520, 0.11574744324580105), (1521, 0.12383127113346604), (1522, 0.10657480707324611), (1523, 0.15828452870309775), (1524, 0.13669312277652923), (1525, 0.11663504212055223), (1526, 0.09529358942862992), (1527, 0.10300855425052134), (1528, 0.09555740072499394), (1529, 0.1360737364908112), (1530, 0.09897697069364239), (1531, 0.11523111477857798), (1532, 0.11076957450494648), (1533, 0.11502009331909165), (1534, 0.1052023304593446), (1535, 0.0805993889712871), (1536, 0.10128761678040067), (1537, 0.12101919451072884), (1538, 0.11637403868879101), (1539, 0.0975805937826401), (1540, 0.11209161023750057), (1541, 0.10897029724246078), (1542, 0.10923046348153517), (1543, 0.10092144960606332), (1544, 0.10672054026413125), (1545, 0.0950342077838382), (1546, 0.09067021357522473), (1547, 0.10386690069866814), (1548, 0.11994089821732752), (1549, 0.09823767244214945), (1550, 0.09985980199374224), (1551, 0.09846797179019869), (1552, 0.129119179122882), (1553, 0.09253359640387014), (1554, 0.10641215581311005), (1555, 0.14259078413853116), (1556, 0.09288964948529263), (1557, 0.20250203234810993), (1558, 0.09003405617719389), (1559, 0.08930504985306506), (1560, 0.1010874854854337), (1561, 0.11174418777485418), (1562, 0.10090178857226982), (1563, 0.10654419398810563), (1564, 0.12305178504878478), (1565, 0.08461063246850478), (1566, 0.10078630998845109), (1567, 0.09327113806678848), (1568, 0.09776617912578589), (1569, 0.10613633968304344), (1570, 0.1258181793336038), (1571, 0.0934210261368136), (1572, 0.0977868118648963), (1573, 0.09758484809840726), (1574, 0.12979884740796838), (1575, 0.10181418473350667), (1576, 0.09657844747606073), (1577, 0.10415675017515319), (1578, 0.14423212181551875), (1579, 0.09915857374807337), (1580, 0.10531976278085367), (1581, 0.1038309029014139), (1582, 0.10010058830818816), (1583, 0.10528223246907478), (1584, 0.10683099683420472), (1585, 0.09876230906672237), (1586, 0.15786670148949702), (1587, 0.09628478191504151), (1588, 0.10772163335065049), (1589, 0.1002271545272452), (1590, 0.09957343089404112), (1591, 0.10135879461896267), (1592, 0.10109715503766252), (1593, 0.1071469342028643), (1594, 0.12990858562325777), (1595, 0.09032963932309954), (1596, 0.10309506342619199), (1597, 0.1027946467774465), (1598, 0.10415567418348376), (1599, 0.10539514243031152), (1600, 0.1316672423520323), (1601, 0.145251758224787), (1602, 0.1553989253463051), (1603, 0.10032487056633789), (1604, 0.10561174711204593), (1605, 0.08813294847012096), (1606, 0.13382254053896084), (1607, 0.1237779938661985), (1608, 0.10175493157397104), (1609, 0.13671691145002926), (1610, 0.09759890254271489), (1611, 0.09927185973843419), (1612, 0.09614884628785161), (1613, 0.12488280650891975), (1614, 0.10454890657059239), (1615, 0.1195181218807244), (1616, 0.09967440408738262), (1617, 0.10027544935563147), (1618, 0.09741275538516189), (1619, 0.10255734634640484), (1620, 0.09526393296554969), (1621, 0.11017580956520048), (1622, 0.09490420513404865), (1623, 0.08952276880358695), (1624, 0.09165815567671011), (1625, 0.10186732418592576), (1626, 0.0992218034947449), (1627, 0.08533571738065517), (1628, 0.08287391705502381), (1629, 0.10077525287456096), (1630, 0.09622998191452573), (1631, 0.09409447242855772), (1632, 0.09771584531564721), (1633, 0.09358199234504883), (1634, 0.12378233024486204), (1635, 0.09124450625625018), (1636, 0.10602263309596975), (1637, 0.11130167725249093), (1638, 0.09955273548356547), (1639, 0.09214581226757594), (1640, 0.13395400870695584), (1641, 0.0926508020846436), (1642, 0.09392519301607624), (1643, 0.12639489529217293), (1644, 0.0994707910447558), (1645, 0.09640945109393272), (1646, 0.1657535926323944), (1647, 0.13329870588259868), (1648, 0.08229231074243008), (1649, 0.09230801298598659), (1650, 0.10352365100567108), (1651, 0.08939055884263732), (1652, 0.08983896401387853), (1653, 0.0948173579408319), (1654, 0.09330920352345157), (1655, 0.10578015739427014), (1656, 0.10368347666617192), (1657, 0.08700997935395706), (1658, 0.1005940894038557), (1659, 0.1025906403575583), (1660, 0.10385040875128963), (1661, 0.09694688787105359), (1662, 0.10248390942022303), (1663, 0.10745430241496741), (1664, 0.1371121489744774), (1665, 0.09069788934681845), (1666, 0.11355471848853174), (1667, 0.106757387773426), (1668, 0.1024270360950569), (1669, 0.11384033572783431), (1670, 0.10360864288061397), (1671, 0.09253631829271627), (1672, 0.0885650252317228), (1673, 0.10557223868685976), (1674, 0.09689030730867519), (1675, 0.09886942412543315), (1676, 0.09608917674738818), (1677, 0.0910633092648211), (1678, 0.10821157624077889), (1679, 0.10397613857413716), (1680, 0.09379282205839697), (1681, 0.10634332788071672), (1682, 0.10311592387297143), (1683, 0.10299240066095111), (1684, 0.09514716789457733), (1685, 0.09435371741360497), (1686, 0.09358299267054745), (1687, 0.10088885729125027), (1688, 0.10275550672677441), (1689, 0.10720501654642346), (1690, 0.09925791287482444), (1691, 0.0986355175955502), (1692, 0.09536872753841913), (1693, 0.0930634456972393), (1694, 0.0959768055888033), (1695, 0.09429014570942089), (1696, 0.09457453341608604), (1697, 0.10921171082105843), (1698, 0.12454474419852073), (1699, 0.08360640811013875), (1700, 0.13445479561205326), (1701, 0.10163180399874149), (1702, 0.10756954332891791), (1703, 0.1315840789426591), (1704, 0.1374883404066544), (1705, 0.10261000617544959), (1706, 0.12110041005071938), (1707, 0.0956950560939631), (1708, 0.09537369362740442), (1709, 0.09491114574944999), (1710, 0.10440683199254999), (1711, 0.13889662173795955), (1712, 0.11727663413832333), (1713, 0.11017119475067008), (1714, 0.13996186265166213), (1715, 0.15402223229087544), (1716, 0.10669998139000297), (1717, 0.10030273074419506), (1718, 0.10144612160655496), (1719, 0.10425497601184577), (1720, 0.13988875995068087), (1721, 0.09172485343599661), (1722, 0.09802260218372418), (1723, 0.10329756738336891), (1724, 0.13224233827326454), (1725, 0.10601559865713316), (1726, 0.14681418291711815), (1727, 0.09969318329374735), (1728, 0.09431512129418686), (1729, 0.09305055366069952), (1730, 0.09200339071259361), (1731, 0.1096777850659005), (1732, 0.09639908636623296), (1733, 0.11374343632318229), (1734, 0.10220494355732412), (1735, 0.10246670098270476), (1736, 0.10648409641356561), (1737, 0.10572047404863007), (1738, 0.10211925582716612), (1739, 0.0945494921147029), (1740, 0.10101603173927433), (1741, 0.12758470803239985), (1742, 0.0950271892164895), (1743, 0.09404429484841341), (1744, 0.09872964761999616), (1745, 0.08249666671493575), (1746, 0.09361344937992745), (1747, 0.0860760330252172), (1748, 0.10361835854277585), (1749, 0.09485848582235921), (1750, 0.09523341647413136), (1751, 0.10143236134381976), (1752, 0.09061713649744964), (1753, 0.08123564715171618), (1754, 0.1043413593001062), (1755, 0.11934073364445376), (1756, 0.09510930733596704), (1757, 0.10723118026060179), (1758, 0.2276275237380711), (1759, 0.10835811271572791), (1760, 0.09952456484580118), (1761, 0.09796955155902311), (1762, 0.11183532773587992), (1763, 0.08671501242532359), (1764, 0.09219350416532733), (1765, 0.10330615707094248), (1766, 0.11440294707074924), (1767, 0.10991143718137711), (1768, 0.11708276567830429), (1769, 0.12789873597349108), (1770, 0.10327928127461748), (1771, 0.11057568684762649), (1772, 0.09367586615075431), (1773, 0.0926316788458999), (1774, 0.100171446853604), (1775, 0.098701381375675), (1776, 0.10321060066789105), (1777, 0.1062507125287656), (1778, 0.11210483044973137), (1779, 0.10247644482161854), (1780, 0.10265157530080248), (1781, 0.08621196359788562), (1782, 0.1090106137002175), (1783, 0.10488707214980036), (1784, 0.1121857610194699), (1785, 0.10152982689890037), (1786, 0.11383156859526647), (1787, 0.09829286638727891), (1788, 0.13673007462279527), (1789, 0.09808178023648198), (1790, 0.1046815914680612), (1791, 0.10134415287327674), (1792, 0.10836852597558856), (1793, 0.10589654351577145), (1794, 0.12748295426889497), (1795, 0.09022275494618373), (1796, 0.09029522908475907), (1797, 0.09175570012676064), (1798, 0.10258339834226997), (1799, 0.11695707121125276), (1800, 0.1167282259798627), (1801, 0.08954544113347988), (1802, 0.09589000477270582), (1803, 0.11362212513129294), (1804, 0.10410892331723963), (1805, 0.10821330164657757), (1806, 0.11298255326778933), (1807, 0.09640032940643525), (1808, 0.10232444536588968), (1809, 0.08959527950274541), (1810, 0.19966481305122025), (1811, 0.10139607380716965), (1812, 0.13178378295310952), (1813, 0.1901054909024655), (1814, 0.09684834518260116), (1815, 0.11074371960417423), (1816, 0.10129165722225819), (1817, 0.09594305576483868), (1818, 0.10606057273797173), (1819, 0.09343222691354505), (1820, 0.12044812291849867), (1821, 0.1010472657677953), (1822, 0.09514042463620175), (1823, 0.09394747453491681), (1824, 0.09495395182224682), (1825, 0.09569327431324934), (1826, 0.08191777560480568), (1827, 0.09773432790659953), (1828, 0.10446042026326285), (1829, 0.11154325652735943), (1830, 0.0977103640821432), (1831, 0.0931103801366118), (1832, 0.09244404611070674), (1833, 0.09815624006187981), (1834, 0.20363901050441385), (1835, 0.12451663548822817), (1836, 0.1259374784764233), (1837, 0.12294686853273616), (1838, 0.09314897178975609), (1839, 0.09988551743203221), (1840, 0.10532060635510478), (1841, 0.1309094725276725), (1842, 0.13758029641762398), (1843, 0.13197171340217093), (1844, 0.14343326161458161), (1845, 0.13882310316848406), (1846, 0.12139523383081453), (1847, 0.0972465777208052), (1848, 0.10895880015034727), (1849, 0.11105814640818436), (1850, 0.11176138397174586), (1851, 0.10179173981173542), (1852, 0.09396404434493494), (1853, 0.09539253334152573), (1854, 0.10160690277969649), (1855, 0.09803035041372167), (1856, 0.09563218180192473), (1857, 0.0971584282838535), (1858, 0.10844858068201223), (1859, 0.10398449574840689), (1860, 0.10548602452051106), (1861, 0.13106182139484418), (1862, 0.22593343788789275), (1863, 0.09600023159425246), (1864, 0.12714278643807309), (1865, 0.10722772205451694), (1866, 0.13470620705931258), (1867, 0.09698510407483345), (1868, 0.1260233052632264), (1869, 0.09545998288002792), (1870, 0.09882109645339547), (1871, 0.10284986407905641), (1872, 0.09975207490708517), (1873, 0.10495358796735617), (1874, 0.10495819653941203), (1875, 0.1004844196665535), (1876, 0.11119410979446719), (1877, 0.10434612534336353), (1878, 0.11540059767399624), (1879, 0.09982971560645887), (1880, 0.10584781291146443), (1881, 0.10608542904657789), (1882, 0.0936838201687301), (1883, 0.11858682932670198), (1884, 0.0950593223283949), (1885, 0.10457541863311967), (1886, 0.14632783556552115), (1887, 0.11189578912935523), (1888, 0.16894489054333614), (1889, 0.11504935499009138), (1890, 0.10884929710293592), (1891, 0.12391851693937103), (1892, 0.08264108711312748), (1893, 0.10189846967420017), (1894, 0.09747858754558762), (1895, 0.09780513719164023), (1896, 0.10180343666205555), (1897, 0.10333348245606706), (1898, 0.10906748382958593), (1899, 0.08807950367901403), (1900, 0.08947370484473517), (1901, 0.10668717226112828), (1902, 0.12657137497466897), (1903, 0.10265007187345908), (1904, 0.0946081712640022), (1905, 0.09747403140545484), (1906, 0.10231286130521525), (1907, 0.1287808742843198), (1908, 0.09735222177064154), (1909, 0.09984843000731183), (1910, 0.10014309861775682), (1911, 0.11480144359036343), (1912, 0.10616589270097664), (1913, 0.11005873393623018), (1914, 0.09096934087544886), (1915, 0.10009226999288778), (1916, 0.10524968759766552), (1917, 0.0926272390418754), (1918, 0.10987935650707631), (1919, 0.113657635920633), (1920, 0.09701734523679133), (1921, 0.09710395000554582), (1922, 0.09408289033283329), (1923, 0.11062304113576571), (1924, 0.10775728500562441), (1925, 0.10766536322147899), (1926, 0.10881139488100193), (1927, 0.15542713929107319), (1928, 0.10456825514489457), (1929, 0.11097380273340919), (1930, 0.099511508696652), (1931, 0.09971024793975503), (1932, 0.1047533800914736), (1933, 0.09571191721374284), (1934, 0.08662933869491742), (1935, 0.10839444662676148), (1936, 0.10751755685178008), (1937, 0.09579045457198232), (1938, 0.08080115451071881), (1939, 0.1165582844217176), (1940, 0.11156346215172315), (1941, 0.10609818817121097), (1942, 0.09832533513784603), (1943, 0.1042661513780778), (1944, 0.0974039154149964), (1945, 0.09558552609057415), (1946, 0.10616453809439487), (1947, 0.10335853428884857), (1948, 0.10139570324974748), (1949, 0.1035491329443115), (1950, 0.1503238586332468), (1951, 0.11411412765957894), (1952, 0.10438309420123543), (1953, 0.13361193766564353), (1954, 0.1153169493657165), (1955, 0.1133557253256833), (1956, 0.09864560466437912), (1957, 0.09360784689886226), (1958, 0.1263698711465347), (1959, 0.17567024579012458), (1960, 0.0975803761186806), (1961, 0.11460232101307785), (1962, 0.10830143176023141), (1963, 0.11251801211172147), (1964, 0.09469564309208289), (1965, 0.1042377231342704), (1966, 0.09273986884828596), (1967, 0.1024946286089392), (1968, 0.11556349270332918), (1969, 0.09836697511191503), (1970, 0.099088066429871), (1971, 0.09985529659341995), (1972, 0.10074736398076198), (1973, 0.10503670382920954), (1974, 0.09495350072367026), (1975, 0.09954967956229412), (1976, 0.10411676535257655), (1977, 0.09860350091536853), (1978, 0.09497034017643052), (1979, 0.12489174093354), (1980, 0.08517028480938046), (1981, 0.09662638696430152), (1982, 0.0900502112518615), (1983, 0.11170093682296062), (1984, 0.10787152930269903), (1985, 0.1002056523510646), (1986, 0.10169696129214192), (1987, 0.09707190003867035), (1988, 0.09676539463132248), (1989, 0.08864955819690738), (1990, 0.09554703658388952), (1991, 0.10367421712201656), (1992, 0.09751223774290219), (1993, 0.09279247891199278), (1994, 0.09118167953797308), (1995, 0.09657565384704979), (1996, 0.10113142096400742), (1997, 0.10990447132692097), (1998, 0.10088365059100511), (1999, 0.13419683988052808), (2000, 0.09693169733852491), (2001, 0.10443301357733448), (2002, 0.09459227862860699), (2003, 0.10004549438657719), (2004, 0.09727191920588303), (2005, 0.1251546290714324), (2006, 0.10706006424729514), (2007, 0.10106481188943212), (2008, 0.09631494530195277), (2009, 0.1175259407061285), (2010, 0.07219302649490539), (2011, 0.09739640814552514), (2012, 0.11254479439127181), (2013, 0.07540865262640217), (2014, 0.10632605891959432), (2015, 0.10221278158708354), (2016, 0.18196355575659104), (2017, 0.1028629344999108), (2018, 0.08039904809167464), (2019, 0.11706081577522653), (2020, 0.08260232402543188), (2021, 0.10822148182664985), (2022, 0.10686889120699011), (2023, 0.09485557465818324), (2024, 0.09327745199232092), (2025, 0.08129831321390928), (2026, 0.10914323969932112), (2027, 0.10096434347199593), (2028, 0.10274362995665509), (2029, 0.13026051085468196), (2030, 0.1254203673237518), (2031, 0.09841975372802732), (2032, 0.11676504470023849), (2033, 0.09773818645703375), (2034, 0.08053904146282027), (2035, 0.0964200578575404), (2036, 0.09528098071249537), (2037, 0.11430208737791482), (2038, 0.103191658080222), (2039, 0.10125340308046213), (2040, 0.2326500529122141), (2041, 0.13018036478009537), (2042, 0.09430454868504366), (2043, 0.09543565966337107), (2044, 0.10679097719384816), (2045, 0.10115466278876835), (2046, 0.10336580467171018), (2047, 0.10773033483973672), (2048, 0.0926941064330871), (2049, 0.10747522013958956), (2050, 0.10419560094306489), (2051, 0.09886718449430991), (2052, 0.09221407048577841), (2053, 0.10617589831087426), (2054, 0.09845914026851718), (2055, 0.10650019214956268), (2056, 0.09410959192444421), (2057, 0.09505551722452835), (2058, 0.10001172389435356), (2059, 0.10646489401472485), (2060, 0.11511758888895252), (2061, 0.16678259356491837), (2062, 0.09778233058493238), (2063, 0.09534063772291577), (2064, 0.09181069272461792), (2065, 0.09543003332108883), (2066, 0.10976219213576902), (2067, 0.09545113979544739), (2068, 0.09473705444527747), (2069, 0.09969884708163916), (2070, 0.09910926624138046), (2071, 0.09232209853489592), (2072, 0.1073743851416865), (2073, 0.09957450913254189), (2074, 0.10436807633756659), (2075, 0.11464211406277784), (2076, 0.09245588240555346), (2077, 0.10802638872851968), (2078, 0.09905318317947807), (2079, 0.11281071908622395), (2080, 0.08787982799706748), (2081, 0.10078758377184156), (2082, 0.11562685908432851), (2083, 0.10299544441471639), (2084, 0.10231979145422755), (2085, 0.10497789266901417), (2086, 0.11051380381681747), (2087, 0.09707970460506887), (2088, 0.10283334490009109), (2089, 0.1042995423675614), (2090, 0.10285446778760739), (2091, 0.12689152660265324), (2092, 0.102049169002627), (2093, 0.08818643024165713), (2094, 0.10769698139790611), (2095, 0.11731149973666043), (2096, 0.10163593677504511), (2097, 0.15049143167938245), (2098, 0.08872211820088889), (2099, 0.11125104859584219), (2100, 0.11110951543598468), (2101, 0.10736864449020847), (2102, 0.13202992233570532), (2103, 0.09892119361915988), (2104, 0.10474021324145999), (2105, 0.10053431821141014), (2106, 0.10083039619329376), (2107, 0.09339659520155143), (2108, 0.09769700462071458), (2109, 0.11619343342599489), (2110, 0.08756487195448859), (2111, 0.12425036031216363), (2112, 0.1104890831778968), (2113, 0.12652592963595172), (2114, 0.09078132993939819), (2115, 0.10578955684231314), (2116, 0.1090578163639419), (2117, 0.11879220653270091), (2118, 0.10493375637800385), (2119, 0.09467944711733883), (2120, 0.09337065460984012), (2121, 0.13222486402902922), (2122, 0.10067027456482136), (2123, 0.10911179842961041), (2124, 0.0983263815396993), (2125, 0.11217040638277284), (2126, 0.10610022038560271), (2127, 0.08087970212084816), (2128, 0.09950199709729567), (2129, 0.09227012772061335), (2130, 0.10559912279806277), (2131, 0.09855556006739169), (2132, 0.08881060209004106), (2133, 0.10053593245997022), (2134, 0.10144911150918844), (2135, 0.13745391069744423), (2136, 0.10269093124549905), (2137, 0.12331575954533727), (2138, 0.15599043037196886), (2139, 0.09021528955593719), (2140, 0.10855449921799125), (2141, 0.09356696626336575), (2142, 0.10395996914657436), (2143, 0.10924607191126504), (2144, 0.11249095022705129), (2145, 0.1568630513341101), (2146, 0.07783500984707606), (2147, 0.11357755441591459), (2148, 0.0956061386564389), (2149, 0.09090627790490083), (2150, 0.12659129851026604), (2151, 0.10342291519368065), (2152, 0.0852395115115379), (2153, 0.12145600432083553), (2154, 0.12187001321754407), (2155, 0.10153385588678832), (2156, 0.10260970245171631), (2157, 0.11744888327517924), (2158, 0.11176334779130612), (2159, 0.10163775317015641), (2160, 0.09963694122783442), (2161, 0.12026261599561437), (2162, 0.10466427650209009), (2163, 0.08851869604136842), (2164, 0.09852125980175826), (2165, 0.10289135374158541), (2166, 0.11138733242194433), (2167, 0.1049644732937616), (2168, 0.10243805516424086), (2169, 0.0963610503755838), (2170, 0.09750113749476044), (2171, 0.1319744478237628), (2172, 0.11343862976686825), (2173, 0.08942201297781438), (2174, 0.09177045192512832), (2175, 0.10092123007087166), (2176, 0.10684736102692177), (2177, 0.10183668203947971), (2178, 0.09964712177023974), (2179, 0.11559190158968023), (2180, 0.11265009461839462), (2181, 0.10873184770503344), (2182, 0.11738441945998909), (2183, 0.1306519101018538), (2184, 0.1161743659622431), (2185, 0.10830639169301244), (2186, 0.10145946703128221), (2187, 0.10873743445522227), (2188, 0.11842241722565865), (2189, 0.12232559301632502), (2190, 0.14728410538138376), (2191, 0.10495555690932257), (2192, 0.10985997683900074), (2193, 0.10689441994655864), (2194, 0.10362028859507831), (2195, 0.10038530175168964), (2196, 0.11668844778880465), (2197, 0.09833092503149485), (2198, 0.11510678731235739), (2199, 0.1251881844712901), (2200, 0.10548349415901), (2201, 0.12156140459515938), (2202, 0.09714876958590772), (2203, 0.1032735379214336), (2204, 0.09261587725439584), (2205, 0.09632438531390793), (2206, 0.09111258176628964), (2207, 0.11721085669509423), (2208, 0.1075503375107186), (2209, 0.09995476425360458), (2210, 0.11802561838617841), (2211, 0.0962850184345515), (2212, 0.12774549579816935), (2213, 0.09735522952010607), (2214, 0.10343376247573761), (2215, 0.10077207298374947), (2216, 0.106154630292941), (2217, 0.10300128459648784), (2218, 0.11437627973119284), (2219, 0.10819573816436949), (2220, 0.08646776775692201), (2221, 0.1429036771540307), (2222, 0.10193220738218378), (2223, 0.11082353734493923), (2224, 0.10037175988552129), (2225, 0.09352118009035973), (2226, 0.11174667648030949), (2227, 0.08183394747344128), (2228, 0.11388689781529976), (2229, 0.1075798029014438), (2230, 0.10569906534499623), (2231, 0.09900996168597719), (2232, 0.12861440714366287), (2233, 0.10386522834427939), (2234, 0.12201170065310872), (2235, 0.11797736374229875), (2236, 0.11897488317729822), (2237, 0.10028388465112724), (2238, 0.09371257117275814), (2239, 0.10217840248239589), (2240, 0.08928713356860922), (2241, 0.1205709890139049), (2242, 0.09831692257720427), (2243, 0.09666307136750026), (2244, 0.11833829805561039), (2245, 0.11966169220516089), (2246, 0.0971057066365416), (2247, 0.10495759838767754), (2248, 0.08172493792001533), (2249, 0.10935144323189652), (2250, 0.11388701757601355), (2251, 0.1213074979307596), (2252, 0.10512925024166354), (2253, 0.1060056310602595), (2254, 0.11018088024540341), (2255, 0.1138433539847466), (2256, 0.0889224368152338), (2257, 0.12429232242353985), (2258, 0.10762626905728222), (2259, 0.11178492252322585), (2260, 0.10370477904639686), (2261, 0.13378041574922456), (2262, 0.10558621305122541), (2263, 0.14218683661529713), (2264, 0.18401386648279516), (2265, 0.09274349609769648), (2266, 0.12284825588517982), (2267, 0.1426585224710605), (2268, 0.09537043658209862), (2269, 0.13615496651724002), (2270, 0.09153703407858443), (2271, 0.11244741978342057), (2272, 0.10029730244165494), (2273, 0.11485906468257978), (2274, 0.09352467222332833), (2275, 0.12241279226843305), (2276, 0.10285172960702854), (2277, 0.10142265045656931), (2278, 0.096189583049212), (2279, 0.09059246023447137), (2280, 0.14316488539969288), (2281, 0.1402236781175359), (2282, 0.11344219444311204), (2283, 0.14001107645120817), (2284, 0.13231050251368448), (2285, 0.0910611876310259), (2286, 0.11283186814987656), (2287, 0.08568315927740763), (2288, 0.09551724660563886), (2289, 0.09019035098815067), (2290, 0.1851880913830076), (2291, 0.1008659883404209), (2292, 0.1575752462932369), (2293, 0.10968697335070915), (2294, 0.09512897295611775), (2295, 0.11763846628847706), (2296, 0.10408673497208636), (2297, 0.100202871622277), (2298, 0.09975992869063519), (2299, 0.21084771608724406), (2300, 0.10615203834201871), (2301, 0.10850528457583067), (2302, 0.10142968172675956), (2303, 0.12106544578137646), (2304, 0.10478846861280533), (2305, 0.10232962006956149), (2306, 0.11029030429273008), (2307, 0.11802263544232341), (2308, 0.10971866308866884), (2309, 0.09643241838085118), (2310, 0.11738732988033834), (2311, 0.10462140184275864), (2312, 0.12413896659598521), (2313, 0.10279161145976427), (2314, 0.09879507695259095), (2315, 0.09905308961316553), (2316, 0.1433926772131883), (2317, 0.09981939177461847), (2318, 0.0865985511056086), (2319, 0.1175673715656412), (2320, 0.1222543544887178), (2321, 0.1877302322063377), (2322, 0.13917745989669594), (2323, 0.0923237727361451), (2324, 0.1137405471993451), (2325, 0.10426807241359333), (2326, 0.07824111452197538), (2327, 0.11751298753814834), (2328, 0.1089832710350659), (2329, 0.1306931477458664), (2330, 0.09953168602550454), (2331, 0.09119727943857767), (2332, 0.16052883922672848), (2333, 0.11445283020860049), (2334, 0.10121573934176889), (2335, 0.10590828594160412), (2336, 0.09421084363566619), (2337, 0.11815236415331282), (2338, 0.09287632351528281), (2339, 0.11722850191547841), (2340, 0.11428518012352222), (2341, 0.09831655284216317), (2342, 0.11303345005766313), (2343, 0.09933203945032977), (2344, 0.09093345715588615), (2345, 0.09375410534013535), (2346, 0.11386425470829603), (2347, 0.09205466165410728), (2348, 0.09067447498131746), (2349, 0.12086981738938218), (2350, 0.11299155568066288), (2351, 0.12307862989095052), (2352, 0.12592064571190315), (2353, 0.10788687350384785), (2354, 0.10334631090184092), (2355, 0.08690380170911913), (2356, 0.09954592010055924), (2357, 0.10974692579046556), (2358, 0.1365475801513046), (2359, 0.09974209920772366), (2360, 0.1022656052537547), (2361, 0.09535791668027789), (2362, 0.08957391944904038), (2363, 0.11372127108453564), (2364, 0.10048873431669245), (2365, 0.18017353608013428), (2366, 0.08960855365529585), (2367, 0.10597657086138064), (2368, 0.12205872230832485), (2369, 0.09343171340851782), (2370, 0.1670754649553177), (2371, 0.1121351803428901), (2372, 0.13725778628621743), (2373, 0.08166448972621564), (2374, 0.10126272741220856), (2375, 0.10881006250354835), (2376, 0.10475012588345427), (2377, 0.0949347408371128), (2378, 0.10620708914776625), (2379, 0.13510052787954815), (2380, 0.0941838801846834), (2381, 0.11968358179797287), (2382, 0.09499465134676591), (2383, 0.11480747511009902), (2384, 0.11577901665746793), (2385, 0.11342347814097171), (2386, 0.09218889285954672), (2387, 0.10355980688174793), (2388, 0.10798290955942112), (2389, 0.08900302983952549), (2390, 0.12120037358162244), (2391, 0.10633097888966178), (2392, 0.151434703984153), (2393, 0.18084945295720253), (2394, 0.09517962879169255), (2395, 0.12082249546180542), (2396, 0.0976863068335359), (2397, 0.10424629990289024), (2398, 0.09726240773782302), (2399, 0.09467061012547685), (2400, 0.11232672600338865), (2401, 0.09818131081316993), (2402, 0.10002464112452052), (2403, 0.10194888754145925), (2404, 0.11902075675025654), (2405, 0.10765985262569643), (2406, 0.18842354226189145), (2407, 0.12076563884877928), (2408, 0.12152239977441585), (2409, 0.09798673956177287), (2410, 0.11684827873222711), (2411, 0.13432304101158882), (2412, 0.09464906998307104), (2413, 0.10523518748054475), (2414, 0.12298200241425235), (2415, 0.10722644248172783), (2416, 0.11856783789066334), (2417, 0.1022010379862243), (2418, 0.10413610962601533), (2419, 0.1043353576080184), (2420, 0.11050687040305701), (2421, 0.11990016061754045), (2422, 0.1006025506758196), (2423, 0.12205210606411708), (2424, 0.0900778908791646), (2425, 0.11429484794105725), (2426, 0.08635782407644828), (2427, 0.12179132445276612), (2428, 0.10568481664470175), (2429, 0.09623301017015805), (2430, 0.11378676659537908), (2431, 0.09485956484162407), (2432, 0.0888523671319012), (2433, 0.11099001561582399), (2434, 0.11748998999788753), (2435, 0.10853274562957248), (2436, 0.11493774597428538), (2437, 0.10060194042388258), (2438, 0.10962336058658273), (2439, 0.08694995732306958), (2440, 0.12748041823721185), (2441, 0.10063001074254709), (2442, 0.09737840913716245), (2443, 0.17652738326245068), (2444, 0.10410323339678028), (2445, 0.09768870407352491), (2446, 0.09458305354898669), (2447, 0.10164687499848603), (2448, 0.1314955881293881), (2449, 0.13083926592563128), (2450, 0.11856412743223436), (2451, 0.13899008139728475), (2452, 0.1181634581505784), (2453, 0.10592475169227805), (2454, 0.10746990721053463), (2455, 0.10986062833413907), (2456, 0.12261485350871193), (2457, 0.08829898985728218), (2458, 0.10114868712998135), (2459, 0.12328624663361303), (2460, 0.10067290033290252), (2461, 0.10211203387300748), (2462, 0.12131856552761826), (2463, 0.09620570060416059), (2464, 0.09815152492874585), (2465, 0.10455525623962941), (2466, 0.10165886187545145), (2467, 0.10457794542143353), (2468, 0.11348921560895416), (2469, 0.07665551244649096), (2470, 0.10847184706596097), (2471, 0.08959854828274319), (2472, 0.09972209593070161), (2473, 0.12644682559701267), (2474, 0.09862648572962526), (2475, 0.0969606654420866), (2476, 0.15207229748406123), (2477, 0.10676185356766492), (2478, 0.10210059932552841), (2479, 0.11650006624912346), (2480, 0.09957015166139883), (2481, 0.09350313554341524), (2482, 0.0915344120678243), (2483, 0.11596352351312196), (2484, 0.1773751747023788), (2485, 0.12363093072630645), (2486, 0.11518296149139681), (2487, 0.10105216484739646), (2488, 0.12588944979394645), (2489, 0.09624171799276549), (2490, 0.12909795384731027), (2491, 0.09783189008816943), (2492, 0.12033589363648806), (2493, 0.10840984544713309), (2494, 0.11654481794205739), (2495, 0.11455216790937175), (2496, 0.08995982766963051), (2497, 0.09486214115551087), (2498, 0.10100477584841373), (2499, 0.10376588693702563), (2500, 0.12112301539431584), (2501, 0.09715336656087085), (2502, 0.15336094313587045), (2503, 0.10474342392024277), (2504, 0.1425244074696493), (2505, 0.09895305774414422), (2506, 0.09816755147935546), (2507, 0.13590483582508275), (2508, 0.09683489139241114), (2509, 0.12109749589541625), (2510, 0.1506751616992869), (2511, 0.11020478747531), (2512, 0.1054959553402117), (2513, 0.10847653344440535), (2514, 0.10088309854859391), (2515, 0.10924558205606184), (2516, 0.13001037234639148), (2517, 0.09532901436271261), (2518, 0.11964014822685048), (2519, 0.11775588472241394), (2520, 0.09296795912419514), (2521, 0.15492648552665564), (2522, 0.10550349266792088), (2523, 0.0956046733980585), (2524, 0.09428342730168382), (2525, 0.10709097510501457), (2526, 0.08947901000656025), (2527, 0.1058246440684264), (2528, 0.11999802046840129), (2529, 0.12567996001837858), (2530, 0.13178236195587228), (2531, 0.1224867031400715), (2532, 0.15390382057056504), (2533, 0.09635386690585529), (2534, 0.0947038979382232), (2535, 0.09874302218805671), (2536, 0.1150431658813193), (2537, 0.1188726921343952), (2538, 0.09340932363207362), (2539, 0.11443584838097516), (2540, 0.12479056211148898), (2541, 0.09882664656530678), (2542, 0.09310135782380986), (2543, 0.12074376893229223), (2544, 0.06795123801233272), (2545, 0.09346844938953845), (2546, 0.1012468109070933), (2547, 0.1216658583833366), (2548, 0.08976591166508922), (2549, 0.10819512283851712), (2550, 0.1271411918901734), (2551, 0.09582333320850099), (2552, 0.10579830819766431), (2553, 0.11486660228022874), (2554, 0.10720730968198101), (2555, 0.11747959883456201), (2556, 0.08424978189326737), (2557, 0.10956487397391663), (2558, 0.1025815736897897), (2559, 0.11567827109751687), (2560, 0.125923024464148), (2561, 0.1121623135735972), (2562, 0.10659770714551782), (2563, 0.10599611276430049), (2564, 0.11015400717439973), (2565, 0.10357668359890193), (2566, 0.09472274243293367), (2567, 0.105371991671678), (2568, 0.18985321414431222), (2569, 0.11912615078071731), (2570, 0.11531727159764686), (2571, 0.09850998439081367), (2572, 0.102068571329972), (2573, 0.08390679739687211), (2574, 0.1153399563486166), (2575, 0.10598699561166383), (2576, 0.10124089533242615), (2577, 0.2335413071598936), (2578, 0.08963957127900772), (2579, 0.12314677082921792), (2580, 0.1047991601776583), (2581, 0.11880838656192005), (2582, 0.12427971607241399), (2583, 0.1322913695072199), (2584, 0.15716749989496887), (2585, 0.11964997329257068), (2586, 0.09401115580646197), (2587, 0.09274215638745203), (2588, 0.11034980084634033), (2589, 0.11611769768453607), (2590, 0.11410252935193896), (2591, 0.12365895106655655), (2592, 0.1210982089933131), (2593, 0.10500716696709858), (2594, 0.09245086099178063), (2595, 0.12100321684069225), (2596, 0.08661563237691242), (2597, 0.13963395848413765), (2598, 0.10172518126993371), (2599, 0.0971313415029467), (2600, 0.11161788664494915), (2601, 0.11517140112599131), (2602, 0.07937089187206796), (2603, 0.09926399895553029), (2604, 0.12906887701147007), (2605, 0.12859237234303061), (2606, 0.09924322520258211), (2607, 0.08809083355138961), (2608, 0.08778784119270451), (2609, 0.10370328512272664), (2610, 0.10295663502328176), (2611, 0.09454219048241608), (2612, 0.10456305210391666), (2613, 0.10509873406602246), (2614, 0.11021240215903676), (2615, 0.18692111429696182), (2616, 0.10855788033116374), (2617, 0.10842280941597046), (2618, 0.09912077350910434), (2619, 0.11974275722339944), (2620, 0.09473014834708789), (2621, 0.08901954867172533), (2622, 0.0944080326366038), (2623, 0.17889891486034956), (2624, 0.11462368822953269), (2625, 0.11597715561408352), (2626, 0.10713345096553364), (2627, 0.08554866638519505), (2628, 0.11511207045905832), (2629, 0.135448805235298), (2630, 0.09533959415377082), (2631, 0.097099355916848), (2632, 0.0969565373831937), (2633, 0.11055632922052006), (2634, 0.09670911218630966), (2635, 0.10388792168154568), (2636, 0.1283757350011447), (2637, 0.13506456806563655), (2638, 0.11163566767962654), (2639, 0.09808002948205052), (2640, 0.12284632519045235), (2641, 0.09276975324402191), (2642, 0.10547344085160208), (2643, 0.12473306284751451), (2644, 0.12063664395681756), (2645, 0.11569976347308492), (2646, 0.10660268626761091), (2647, 0.21132920390370255), (2648, 0.09872323113578604), (2649, 0.1641328393410922), (2650, 0.10491708649463448), (2651, 0.10465457322427661), (2652, 0.13446007281127878), (2653, 0.14397080980125818), (2654, 0.17654887657674484), (2655, 0.11650846381495128), (2656, 0.13450362817722167), (2657, 0.12557167590691234), (2658, 0.15818233935479753), (2659, 0.12483474220637739), (2660, 0.0900270328958364), (2661, 0.13211931280560768), (2662, 0.13257419155613642), (2663, 0.11289394874729514), (2664, 0.129251829555632), (2665, 0.10125211930012343), (2666, 0.1124597528470102), (2667, 0.15730292603354684), (2668, 0.14864415637779188), (2669, 0.1320793304558304), (2670, 0.10456479269516526), (2671, 0.13028813438043482), (2672, 0.12018620854477387), (2673, 0.1217298374260627), (2674, 0.08332231244056573), (2675, 0.11142354208830053), (2676, 0.10228769777264542), (2677, 0.10117639098246427), (2678, 0.13768993878816047), (2679, 0.09307220692167052), (2680, 0.10167803430159504), (2681, 0.09693347903870168), (2682, 0.1785178647391695), (2683, 0.12823475370873952), (2684, 0.12556398715681752), (2685, 0.11054774348487201), (2686, 0.08215600201466082), (2687, 0.09764599252773953), (2688, 0.11287579746045316), (2689, 0.11760901045227423), (2690, 0.10132980277855017), (2691, 0.1009687878404565), (2692, 0.09365140340838977), (2693, 0.09567115513599143), (2694, 0.11674750996244133), (2695, 0.09943075749183597), (2696, 0.11239477817845209), (2697, 0.08235613700627574), (2698, 0.09950991676310954), (2699, 0.09584540787947243), (2700, 0.1008019182564165), (2701, 0.13733278975123786), (2702, 0.10145873005830504), (2703, 0.12813321441384384), (2704, 0.15448044161303287), (2705, 0.09754302224046527), (2706, 0.1031358788584735), (2707, 0.10467126236427599), (2708, 0.11512161271690685), (2709, 0.10830052669260627), (2710, 0.12483315694475926), (2711, 0.1486229143739205), (2712, 0.10752282234659319), (2713, 0.13663607410387832), (2714, 0.10207707718768483), (2715, 0.13415981053765738), (2716, 0.1034046168664981), (2717, 0.1236469646096077), (2718, 0.09721002483362953), (2719, 0.1435107920005504), (2720, 0.12501894779657527), (2721, 0.1106043509457774), (2722, 0.12232753404900412), (2723, 0.1271983692519995), (2724, 0.09908870635753456), (2725, 0.10481380019642875), (2726, 0.10116307150024972), (2727, 0.10696113958956599), (2728, 0.10063702329844937), (2729, 0.13231249258317135), (2730, 0.13391409579772834), (2731, 0.11776233334807074), (2732, 0.11102420328522623), (2733, 0.12679611109141795), (2734, 0.1057977037959853), (2735, 0.08298804919741429), (2736, 0.08773392590282851), (2737, 0.14098677139397503), (2738, 0.11985873836934922), (2739, 0.11182860713464784), (2740, 0.11797291147222633), (2741, 0.10718396794999613), (2742, 0.09877251004936806), (2743, 0.07812259714507437), (2744, 0.12267049326640408), (2745, 0.10112593717507637), (2746, 0.1017378140543414), (2747, 0.08787970144589008), (2748, 0.09793333086062674), (2749, 0.09970431746875459), (2750, 0.11301981724700291), (2751, 0.1122802083507816), (2752, 0.14023158245596173), (2753, 0.10224017590093404), (2754, 0.0946422056133069), (2755, 0.10591761230280577), (2756, 0.1337524342410706), (2757, 0.13141169503932024), (2758, 0.10943991151359458), (2759, 0.09453371721731547), (2760, 0.15296634636973616), (2761, 0.08799201861395742), (2762, 0.09566483278679407), (2763, 0.12413509742668591), (2764, 0.12369357598137916), (2765, 0.10666971541102607), (2766, 0.09882589898664676), (2767, 0.08570748155947248), (2768, 0.12435677381512292), (2769, 0.11854071040845651), (2770, 0.10621851034703478), (2771, 0.10147984460654448), (2772, 0.11507881695478953), (2773, 0.0978057668545964), (2774, 0.08529207010826233), (2775, 0.11847942723574947), (2776, 0.09997630851318162), (2777, 0.09030998724243072), (2778, 0.1075738095085582), (2779, 0.09597765921739743), (2780, 0.10003772871106513), (2781, 0.1455870917505333), (2782, 0.16137969017033904), (2783, 0.12790644794880685), (2784, 0.09909649580764401), (2785, 0.11676467964177062), (2786, 0.09631997188275217), (2787, 0.09997805954092986), (2788, 0.10020252917025659), (2789, 0.10397384314579523), (2790, 0.10788823076746197), (2791, 0.09470196926566493), (2792, 0.10078314892826197), (2793, 0.11249586581031165), (2794, 0.11822235357086337), (2795, 0.12362901314662267), (2796, 0.13013117740955746), (2797, 0.10824905845960545), (2798, 0.10559084377064935), (2799, 0.12069120657437075), (2800, 0.09938729652015055), (2801, 0.09318276534433045), (2802, 0.11094016877622542), (2803, 0.10144298235660329), (2804, 0.10299528781108923), (2805, 0.08727131527254893), (2806, 0.1549561546344721), (2807, 0.10742602097971397), (2808, 0.09799676346518953), (2809, 0.16263641919132132), (2810, 0.13120519879865553), (2811, 0.09633637029105291), (2812, 0.10504853674977344), (2813, 0.13122250118089857), (2814, 0.11590731376717908), (2815, 0.10133881119304951), (2816, 0.1004796665632088), (2817, 0.11793215054549878), (2818, 0.1431674457211271), (2819, 0.10137370936108603), (2820, 0.09270667819451335), (2821, 0.10137721063337832), (2822, 0.11443701380671896), (2823, 0.08997738707801048), (2824, 0.0992135798396244), (2825, 0.09991517391039909), (2826, 0.0977893399128111), (2827, 0.08982336492482894), (2828, 0.09367260116148336), (2829, 0.10647806450325852), (2830, 0.10810295774968084), (2831, 0.13182000016587364), (2832, 0.11552632510752994), (2833, 0.10503424490636287), (2834, 0.1266187333875326), (2835, 0.10648212220491864), (2836, 0.10101804648888853), (2837, 0.1071028307539807), (2838, 0.12904541459433647), (2839, 0.1167028136860112), (2840, 0.12211008316979831), (2841, 0.10143528950607571), (2842, 0.0873548788652624), (2843, 0.09838622574415533), (2844, 0.1127502165358044), (2845, 0.11579668242956033), (2846, 0.10427584133903992), (2847, 0.10222153625777489), (2848, 0.10799840249957851), (2849, 0.09546727283455417), (2850, 0.09786600307025878), (2851, 0.13645169903867843), (2852, 0.11251973657598643), (2853, 0.10501144327104273), (2854, 0.12346383839107233), (2855, 0.09876799041798472), (2856, 0.1216194261078356), (2857, 0.18454342588614986), (2858, 0.12333942158369102), (2859, 0.09346400753484048), (2860, 0.10537812770750156), (2861, 0.1165223140150851), (2862, 0.0948947197854991), (2863, 0.09924928912374019), (2864, 0.13999243343397264), (2865, 0.10418842286827253), (2866, 0.09206397934493328), (2867, 0.09696308519078788), (2868, 0.11269342222610257), (2869, 0.13222919371114927), (2870, 0.11858073630785884), (2871, 0.08753464649596031), (2872, 0.10303836313245468), (2873, 0.1368102771466649), (2874, 0.10697826433833534), (2875, 0.11171520504102578), (2876, 0.08949001692830663), (2877, 0.1045973361318051), (2878, 0.11050910255273587), (2879, 0.10816814728321238), (2880, 0.0971021738604416), (2881, 0.10109717980626365), (2882, 0.11851387093876004), (2883, 0.11830151893598294), (2884, 0.11757371165735227), (2885, 0.08269683400861641), (2886, 0.08679043034858215), (2887, 0.10018117267826533), (2888, 0.09684662719059495), (2889, 0.12032589638514658), (2890, 0.09920031020768674), (2891, 0.12313408353553235), (2892, 0.11832741364226701), (2893, 0.10129675890808765), (2894, 0.10381570058517184), (2895, 0.10641402580152946), (2896, 0.10627800681902483), (2897, 0.1025801417338004), (2898, 0.0975610233945471), (2899, 0.09632677621941428), (2900, 0.09585669646155334), (2901, 0.12406469300187563), (2902, 0.09189338459333113), (2903, 0.11130539230506534), (2904, 0.10952421774620422), (2905, 0.0932205186309227), (2906, 0.09348165346156849), (2907, 0.09905452026786549), (2908, 0.10248331326770717), (2909, 0.11819576674323116), (2910, 0.10597180975553117), (2911, 0.10542066644246276), (2912, 0.09623297534943957), (2913, 0.10271316470214024), (2914, 0.10126732406335184), (2915, 0.11166676864573791), (2916, 0.11003248776008939), (2917, 0.0895659766005841), (2918, 0.09792586349524093), (2919, 0.10298427480473919), (2920, 0.09900443868830029), (2921, 0.11038942316506072), (2922, 0.11914746762014121), (2923, 0.12035694685533087), (2924, 0.10710849659200328), (2925, 0.10043764995576693), (2926, 0.09410801224666794), (2927, 0.13267637636474175), (2928, 0.11386838655025067), (2929, 0.09381161564800092), (2930, 0.09614765028411101), (2931, 0.10671361886542431), (2932, 0.116179026663904), (2933, 0.08310435941627098), (2934, 0.0907758567585438), (2935, 0.09162034431087898), (2936, 0.10113070865688827), (2937, 0.12444620404903185), (2938, 0.17030934823888258), (2939, 0.11010208393740195), (2940, 0.10467781300985218), (2941, 0.11337791826126387), (2942, 0.09325863888940333), (2943, 0.09001301606969477), (2944, 0.1353535772693176), (2945, 0.10146786984472474), (2946, 0.08933992815816123), (2947, 0.11132366311188656), (2948, 0.11476569127809445), (2949, 0.11299739814883238), (2950, 0.09153168865417466), (2951, 0.1162446067614692), (2952, 0.11569045963825808), (2953, 0.10291556974986515), (2954, 0.09405902232458085), (2955, 0.09332043946194186), (2956, 0.11214604243117446), (2957, 0.12177784807881685), (2958, 0.1126303577901026), (2959, 0.10028042692657911), (2960, 0.09712566655381501), (2961, 0.08814803714930691), (2962, 0.1050407045168544), (2963, 0.10729655515796879), (2964, 0.13029519030593156), (2965, 0.09637152717158672), (2966, 0.10808156470885655), (2967, 0.10018764425219594), (2968, 0.1096267325063017), (2969, 0.09726481965929545), (2970, 0.09612791977139391), (2971, 0.08523287888828608), (2972, 0.10737373702669437), (2973, 0.09487601510609166), (2974, 0.100638097960473), (2975, 0.10565474839693934), (2976, 0.09423144046055332), (2977, 0.10306472403300451), (2978, 0.10594059065791905), (2979, 0.0976722626712035), (2980, 0.1560904515881161), (2981, 0.09542070553961128), (2982, 0.10703664463331544), (2983, 0.11032583412135334), (2984, 0.09295787691399754), (2985, 0.09437841605207638), (2986, 0.10548154316254064), (2987, 0.10187731768192508), (2988, 0.10394942328257932), (2989, 0.12158245742735752), (2990, 0.11793625003520426), (2991, 0.09106389277809789), (2992, 0.09538964235743926), (2993, 0.10737054189479721), (2994, 0.0957359885114992), (2995, 0.09875006795373566), (2996, 0.11066260958617717), (2997, 0.08612211158192791), (2998, 0.14144008755502613), (2999, 0.10283785254722633), (3000, 0.1028166239652203), (3001, 0.11023828512446067), (3002, 0.09639894393612901), (3003, 0.12178007943596544), (3004, 0.11585902206473539), (3005, 0.10146282403189938), (3006, 0.09043951001481508), (3007, 0.09618574418429689), (3008, 0.09973508112967892), (3009, 0.12208334892610224), (3010, 0.11084172003142066), (3011, 0.09969939238168253), (3012, 0.10064375014932464), (3013, 0.11010058984058556), (3014, 0.09527638701161321), (3015, 0.14194564029395002), (3016, 0.09242068224733062), (3017, 0.10568229571170507), (3018, 0.1286249248518819), (3019, 0.10397032902207905), (3020, 0.10698746090408152), (3021, 0.09281032904293249), (3022, 0.1174670214474332), (3023, 0.09600594665594347), (3024, 0.08602720213748231), (3025, 0.10932367933385236), (3026, 0.10081981122668206), (3027, 0.10829508111899382), (3028, 0.0943293653254135), (3029, 0.0946984150839699), (3030, 0.19150840565337382), (3031, 0.10777351486320944), (3032, 0.10045172842726005), (3033, 0.10896630188027233), (3034, 0.10553534241081068), (3035, 0.08668853136112642), (3036, 0.10974898202564871), (3037, 0.09534498023844348), (3038, 0.09457037680516334), (3039, 0.11327557292060099), (3040, 0.12178310130881347), (3041, 0.09952309047696953), (3042, 0.11838115805595108), (3043, 0.11884463714276788), (3044, 0.09967699542643588), (3045, 0.09608297723447871), (3046, 0.10385081534304823), (3047, 0.0966396788295457), (3048, 0.09554352522117315), (3049, 0.11010058153741895), (3050, 0.08271369683906002), (3051, 0.12396782529968718), (3052, 0.11951611853941248), (3053, 0.11134458583894061), (3054, 0.11834434946441018), (3055, 0.11892054874667049), (3056, 0.09369624408204266), (3057, 0.09517319613543855), (3058, 0.10229196703554035), (3059, 0.09662444811072896), (3060, 0.12137272857122487), (3061, 0.10168550728453815), (3062, 0.0996239484743165), (3063, 0.09749350720799767), (3064, 0.09793378916593928), (3065, 0.09467719828216169), (3066, 0.10477603083799904), (3067, 0.09588365467374421), (3068, 0.09603007916545565), (3069, 0.09915689119337752), (3070, 0.09297642848710198), (3071, 0.09598022197671169), (3072, 0.10392113269815048), (3073, 0.09920833261686202), (3074, 0.1388020588913494), (3075, 0.0910727239719903), (3076, 0.12828449584804752), (3077, 0.09368252386675653), (3078, 0.12404257968363577), (3079, 0.08370105470152191), (3080, 0.1084152290339871), (3081, 0.11433263887614342), (3082, 0.09523145543461467), (3083, 0.10645989628187323), (3084, 0.10425018860765002), (3085, 0.10141444876640715), (3086, 0.10605871776646854), (3087, 0.11166691101088946), (3088, 0.12830384330393385), (3089, 0.128996079978043), (3090, 0.10630727867390806), (3091, 0.14639387931921777), (3092, 0.1063581099981424), (3093, 0.08774703437344963), (3094, 0.1183087472109064), (3095, 0.1032007798936621), (3096, 0.10092258082356495), (3097, 0.10794987882477991), (3098, 0.11236848294243112), (3099, 0.09072726359568965), (3100, 0.08875258734815307), (3101, 0.12191477105544853), (3102, 0.10522901066281741), (3103, 0.1071331930054391), (3104, 0.11620650366951402), (3105, 0.08882050536787345), (3106, 0.09970693791363286), (3107, 0.0956093001914329), (3108, 0.10697411592532385), (3109, 0.11028831743492247), (3110, 0.11669246185780344), (3111, 0.12221936403714402), (3112, 0.1047881013961545), (3113, 0.09402259590806003), (3114, 0.09598393059900742), (3115, 0.1332551872308827), (3116, 0.16216314993900022), (3117, 0.11050447407622827), (3118, 0.0887161111005818), (3119, 0.1610762942472897), (3120, 0.17470904562238887), (3121, 0.10898105202795613), (3122, 0.09863001234935853), (3123, 0.10818967787369292), (3124, 0.10707471487434647), (3125, 0.1028665824905889), (3126, 0.0963393201306571), (3127, 0.11472979306880113), (3128, 0.14114907770155632), (3129, 0.09782360095031892), (3130, 0.10140574484114859), (3131, 0.10296438556327138), (3132, 0.09976729263319846), (3133, 0.09947623450683916), (3134, 0.09660564799720534), (3135, 0.0897961478028646), (3136, 0.0968434405319888), (3137, 0.12251564010460816), (3138, 0.10224168363837814), (3139, 0.12318548192677883), (3140, 0.13166246719251673), (3141, 0.11459693639969237), (3142, 0.18262520117868153), (3143, 0.10941969089184872), (3144, 0.09727680523834718), (3145, 0.12826262874228178), (3146, 0.09972795641650313), (3147, 0.09409335532308502), (3148, 0.11538813239827114), (3149, 0.11505391157972178), (3150, 0.09714329317514483), (3151, 0.1142365891501022), (3152, 0.07900865838995502), (3153, 0.10045306503686635), (3154, 0.1182234226000961), (3155, 0.09625697583476414), (3156, 0.09263865669954853), (3157, 0.11490010151510675), (3158, 0.1056966723990047), (3159, 0.12369912764062173), (3160, 0.08704846485226135), (3161, 0.09788299525676093), (3162, 0.25529798047143715), (3163, 0.10460729936906885), (3164, 0.1028527478043261), (3165, 0.10278654892382108), (3166, 0.12580385542965183), (3167, 0.12137432869523009), (3168, 0.11894625791921414), (3169, 0.10398886905585955), (3170, 0.08665724234368212), (3171, 0.08660193721039602), (3172, 0.11607367472796101), (3173, 0.1054971885698935), (3174, 0.09671757535795507), (3175, 0.11404369649238887), (3176, 0.18418600980846317), (3177, 0.11818833980110435), (3178, 0.13489503002963787), (3179, 0.1295791375494282), (3180, 0.10467585543909814), (3181, 0.18101985657404318), (3182, 0.10729850015423843), (3183, 0.10878499186486289), (3184, 0.10256673147410073), (3185, 0.13046513988525504), (3186, 0.1082832370247096), (3187, 0.10746473651255774), (3188, 0.12175860577587963), (3189, 0.1094167570276031), (3190, 0.11082896247060872), (3191, 0.10272334236340076), (3192, 0.10750231686758727), (3193, 0.10367469609420596), (3194, 0.09918189573531705), (3195, 0.09117662499638718), (3196, 0.10545294610032319), (3197, 0.10147986166094572), (3198, 0.10530254641886318), (3199, 0.08370130939650526), (3200, 0.08555961234242884), (3201, 0.16041043813209285), (3202, 0.11030629016012906), (3203, 0.10723301853439493), (3204, 0.13978739492289888), (3205, 0.08446979307013425), (3206, 0.12151421822474616), (3207, 0.10650058616461477), (3208, 0.13161827705861934), (3209, 0.09627268263567207), (3210, 0.09636741483414488), (3211, 0.09526331847039762), (3212, 0.1562105815250158), (3213, 0.10384081142145458), (3214, 0.09348565467788726), (3215, 0.09136365658127765), (3216, 0.12173576152584366), (3217, 0.14480577422934032), (3218, 0.12645806788339145), (3219, 0.13730280831881586), (3220, 0.11926410278403704), (3221, 0.13194535404839192), (3222, 0.08687967167825054), (3223, 0.09953010335527976), (3224, 0.09654130192377885), (3225, 0.16529180131448679), (3226, 0.11386220081020743), (3227, 0.12358383438262682), (3228, 0.16773388212533463), (3229, 0.14581111231786817), (3230, 0.10890210378514492), (3231, 0.09139946657990494), (3232, 0.10546472108567342), (3233, 0.10698076132270266), (3234, 0.13408497976421085), (3235, 0.10711860709059938), (3236, 0.15057615390244738), (3237, 0.1021693808345258), (3238, 0.11088795540425819), (3239, 0.11088785883023344), (3240, 0.10021271990843245), (3241, 0.11071649794218119), (3242, 0.10822656354710909), (3243, 0.11892892604751085), (3244, 0.09505081543636949), (3245, 0.0908603131825877), (3246, 0.09914787757015052), (3247, 0.08778869336941361), (3248, 0.09980092837959487), (3249, 0.1105702253240778), (3250, 0.09332147144613555), (3251, 0.10939120004478478), (3252, 0.10601546237203084), (3253, 0.14996154524371172), (3254, 0.08419702053886555), (3255, 0.11258139601293621), (3256, 0.15875969543515225), (3257, 0.16571563460054176), (3258, 0.0979314939756104), (3259, 0.10308530069266918), (3260, 0.16328869349734135), (3261, 0.16176984035691833), (3262, 0.11355266146759178), (3263, 0.12921392040154622), (3264, 0.10895512695592081), (3265, 0.1028403675591101), (3266, 0.12038090661273365), (3267, 0.11434419431961369), (3268, 0.08692516173182552), (3269, 0.10874303521038141), (3270, 0.10820040984572475), (3271, 0.10853056901662048), (3272, 0.13063851865500273), (3273, 0.10672029062551454), (3274, 0.10109572360655088), (3275, 0.12280102275050231), (3276, 0.12992677064025687), (3277, 0.11292398535975404), (3278, 0.09009782477443021), (3279, 0.09068546809551446), (3280, 0.08964297195801849), (3281, 0.11001572600689342), (3282, 0.15836763071172624), (3283, 0.11452008330490893), (3284, 0.12387629219329077), (3285, 0.08119448218058506), (3286, 0.12927026836221353), (3287, 0.1275788766023595), (3288, 0.15326452488881978), (3289, 0.106539989805409), (3290, 0.10268504457785195), (3291, 0.11778455999950463), (3292, 0.11472803386730225), (3293, 0.09213264103952104), (3294, 0.10669875722574597), (3295, 0.0898552290111056), (3296, 0.10194586258834261), (3297, 0.12285750718426101), (3298, 0.12830708801810128), (3299, 0.11258451963398272), (3300, 0.09155213217650542), (3301, 0.0722604861187654), (3302, 0.1709159143536972), (3303, 0.11259020250847068), (3304, 0.08578801450104966), (3305, 0.09821799285227562), (3306, 0.10497390341333399), (3307, 0.10354402334438258), (3308, 0.15626431556002865), (3309, 0.08624596217574335), (3310, 0.10034165449079153), (3311, 0.09275048291748866), (3312, 0.11406587524148498), (3313, 0.10031719197117944), (3314, 0.11034397222311661), (3315, 0.1041242046229136), (3316, 0.10679313006915986), (3317, 0.10419476040016759), (3318, 0.0951337196634661), (3319, 0.09431162772456259), (3320, 0.09162369556773188), (3321, 0.10464970428074236), (3322, 0.11361703385754245), (3323, 0.2683907654699781), (3324, 0.10489669258603496), (3325, 0.24743714487366578), (3326, 0.0999528276270061), (3327, 0.0982868058666753), (3328, 0.09550934710024148), (3329, 0.09898638691607058), (3330, 0.09992869146227015), (3331, 0.09296115090017978), (3332, 0.10102662034001621), (3333, 0.08894423716888071), (3334, 0.09870045534936876), (3335, 0.10766404401889988), (3336, 0.10350319989507832), (3337, 0.10179675720265334), (3338, 0.09336049047226605), (3339, 0.12002585472242844), (3340, 0.0896332934311301), (3341, 0.10296466079606134), (3342, 0.0937767334245524), (3343, 0.10664616138887584), (3344, 0.10702065181570954), (3345, 0.12751324407735132), (3346, 0.1435245997296824), (3347, 0.08336724960169423), (3348, 0.09912218812671285), (3349, 0.09381624355699157), (3350, 0.11608353614556821), (3351, 0.11960042395958587), (3352, 0.09808827160683789), (3353, 0.10898199907804804), (3354, 0.11142408971708372), (3355, 0.10287700666735923), (3356, 0.09988621861944419), (3357, 0.123102382565128), (3358, 0.10700506729288857), (3359, 0.10394763052410758), (3360, 0.10612603738714493), (3361, 0.1205537843960413), (3362, 0.08516242882493841), (3363, 0.1176962087881358), (3364, 0.12250140596333953), (3365, 0.07391901770549743), (3366, 0.12219358275609705), (3367, 0.10408596393581356), (3368, 0.09998119032745743), (3369, 0.09711974640445051), (3370, 0.11031200585875059), (3371, 0.09949121385888862), (3372, 0.09452314513139655), (3373, 0.14334662154241024), (3374, 0.10196339747809528), (3375, 0.13177592999663723), (3376, 0.10738566553350293), (3377, 0.12059789913154893), (3378, 0.09965631530069628), (3379, 0.14459762705969956), (3380, 0.14762323017056372), (3381, 0.0980421024922966), (3382, 0.1118815808439989), (3383, 0.10152805353489244), (3384, 0.11518812078630022), (3385, 0.10948154826491863), (3386, 0.1004908537191737), (3387, 0.10658872984683913), (3388, 0.10713066560318578), (3389, 0.11479732798311751), (3390, 0.17704791968391254), (3391, 0.09932800732863944), (3392, 0.09686936388390005), (3393, 0.09755466535727501), (3394, 0.08544767222507947), (3395, 0.1316393044259319), (3396, 0.10320389289933984), (3397, 0.1112879172807992), (3398, 0.10055399166626301), (3399, 0.09550142153817975), (3400, 0.0969932644556933), (3401, 0.101220920315576), (3402, 0.09692470159459386), (3403, 0.11666264109936356), (3404, 0.09861302797493114), (3405, 0.08970901186335334), (3406, 0.10449947174666274), (3407, 0.09484770783112523), (3408, 0.11488199517086821), (3409, 0.08671014015649298), (3410, 0.1026990860546153), (3411, 0.08996482600602053), (3412, 0.10380074984362656), (3413, 0.12172717945439629), (3414, 0.115711366276392), (3415, 0.11535844339941634), (3416, 0.09399053320022935), (3417, 0.09786370863096247), (3418, 0.09025204768975399), (3419, 0.10273274142717065), (3420, 0.2770468610663146), (3421, 0.10601485900005259), (3422, 0.16360717769747127), (3423, 0.10190215483622474), (3424, 0.11144197979773547), (3425, 0.11295029589842116), (3426, 0.09353277540232405), (3427, 0.10757998912736054), (3428, 0.12291261197671563), (3429, 0.06942412614358179), (3430, 0.09557489969198874), (3431, 0.0738694854404189), (3432, 0.09368110090556028), (3433, 0.09391718868025149), (3434, 0.09554135963876491), (3435, 0.10121193509379099), (3436, 0.09945469880718909), (3437, 0.09897277349996302), (3438, 0.10279496529243516), (3439, 0.11435228220820062), (3440, 0.10873392250935578), (3441, 0.12106804309250736), (3442, 0.11607373532640651), (3443, 0.10082037192744155), (3444, 0.13711726570678476), (3445, 0.09913159893945386), (3446, 0.1010928839798897), (3447, 0.10490073534116205), (3448, 0.11704407075766601), (3449, 0.10942612016665774), (3450, 0.10899747365734418), (3451, 0.10033360701275917), (3452, 0.0901041568565845), (3453, 0.10546648220893438), (3454, 0.10292397452978276), (3455, 0.08365308628367336), (3456, 0.09600348500791284), (3457, 0.13175955611748041), (3458, 0.10404659376917923), (3459, 0.10320655404432928), (3460, 0.09939024243084746), (3461, 0.15605444269065954), (3462, 0.09884180964640711), (3463, 0.10757299465199802), (3464, 0.1041906183150235), (3465, 0.09296819622723992), (3466, 0.09476344811400901), (3467, 0.25675673820642403), (3468, 0.14001971410204958), (3469, 0.11435174169839599), (3470, 0.10396609120220766), (3471, 0.18070419887661138), (3472, 0.12248851253113124), (3473, 0.1277857123115326), (3474, 0.09749769503775733), (3475, 0.13797198108198597), (3476, 0.1202508620732256), (3477, 0.11241222575935056), (3478, 0.0977518586170107), (3479, 0.11712093414348367), (3480, 0.08976209398367542), (3481, 0.10013671766122817), (3482, 0.12218484026597215), (3483, 0.13436855326902994), (3484, 0.11379869417759295), (3485, 0.11101729859619226), (3486, 0.09869626276405177), (3487, 0.09804593839492363), (3488, 0.13173781256590927), (3489, 0.17252828107472992), (3490, 0.09728452667779335), (3491, 0.09623829444917012), (3492, 0.10032511159232647), (3493, 0.09951452693768575), (3494, 0.09910044166029713), (3495, 0.0910414288655978), (3496, 0.10185363302019931), (3497, 0.10700898835024215), (3498, 0.09786199443711047), (3499, 0.10068925468558576), (3500, 0.08752219010014464), (3501, 0.10462050911541312), (3502, 0.11686528848138826), (3503, 0.13578482703460215), (3504, 0.10529695407557287), (3505, 0.1343482740911233), (3506, 0.18208078475315784), (3507, 0.1008903693198065), (3508, 0.12173459190916094), (3509, 0.09895738756117116), (3510, 0.11233392344087986), (3511, 0.11636398496604244), (3512, 0.1529427642369559), (3513, 0.0946883009426615), (3514, 0.10707794684514083), (3515, 0.13501521110845993), (3516, 0.10850175142317794), (3517, 0.13245497508436352), (3518, 0.10659305505617503), (3519, 0.10572023312436235), (3520, 0.09998435279888693), (3521, 0.10883754279913194), (3522, 0.0976689126199395), (3523, 0.12410050504401852), (3524, 0.11905043418288687), (3525, 0.08513065360893338), (3526, 0.13007379266966587), (3527, 0.09352324283757697), (3528, 0.09296936515399465), (3529, 0.10739972436525504), (3530, 0.09240541248972671), (3531, 0.09857130203919733), (3532, 0.10805079848013273), (3533, 0.1057654352272387), (3534, 0.0850871374507534), (3535, 0.10465803749958151), (3536, 0.10998659906665058), (3537, 0.13790597809255625), (3538, 0.08463658729760133), (3539, 0.13827750653501378), (3540, 0.17822409082979263), (3541, 0.12057447660132865), (3542, 0.09089524428131181), (3543, 0.09273941057492015), (3544, 0.10810059585369196), (3545, 0.10377131135260191), (3546, 0.07798661278859564), (3547, 0.1035073124662304), (3548, 0.08037651274961485), (3549, 0.09692126548051966), (3550, 0.11804939726694968), (3551, 0.10165447417587457), (3552, 0.1379709455944511), (3553, 0.10238314629330039), (3554, 0.11685378092912296), (3555, 0.13123047026001716), (3556, 0.10358900687664956), (3557, 0.110299572978286), (3558, 0.08985385083215262), (3559, 0.09197521362043923), (3560, 0.10707324974822867), (3561, 0.12871473409890202), (3562, 0.1369318924745101), (3563, 0.09569901169383228), (3564, 0.1061034578096929), (3565, 0.10637823321866798), (3566, 0.10573315959465007), (3567, 0.09219081712338699), (3568, 0.09261674658226784), (3569, 0.10186733846910663), (3570, 0.09174094053823832), (3571, 0.13183378893432335), (3572, 0.11721537566569007), (3573, 0.10418091546228933), (3574, 0.1096552895902009), (3575, 0.08293575900673299), (3576, 0.09160608770844499), (3577, 0.1340875782215832), (3578, 0.1268016245589972), (3579, 0.09712801237703393), (3580, 0.10204031686409834), (3581, 0.10785277798537178), (3582, 0.09396192171729897), (3583, 0.09627751306840089), (3584, 0.10335447366007024), (3585, 0.10045477308913434), (3586, 0.10275953450682934), (3587, 0.1071572928044082), (3588, 0.11795289803681662), (3589, 0.09228453569713635), (3590, 0.09577371428967418), (3591, 0.10459379522310597), (3592, 0.10996748553820174), (3593, 0.1022683903654012), (3594, 0.10703975393525046), (3595, 0.0952592499202608), (3596, 0.09971545557531901), (3597, 0.09768418902510005), (3598, 0.09029705400287703), (3599, 0.10306126581589846), (3600, 0.10070392061392759), (3601, 0.10794670033510934), (3602, 0.09596977203511187), (3603, 0.10066355738541914), (3604, 0.11139451795878905), (3605, 0.10776113048762224), (3606, 0.13228081491101668), (3607, 0.14614282480771643), (3608, 0.06295202729224758), (3609, 0.09030897476829759), (3610, 0.1273757502023486), (3611, 0.14170240645997295), (3612, 0.10829557992566684), (3613, 0.11976298620579741), (3614, 0.09474699693032172), (3615, 0.09796158793214992), (3616, 0.17575477602542772), (3617, 0.10342689425955491), (3618, 0.1021296494026451), (3619, 0.08771968607587972), (3620, 0.11836691753841858), (3621, 0.18254630202299785), (3622, 0.09414659228716571), (3623, 0.10006614667704668), (3624, 0.0992555708734379), (3625, 0.08856782538924651), (3626, 0.0894395488466481), (3627, 0.10277868239590998), (3628, 0.12981777916764944), (3629, 0.0778925325642117), (3630, 0.0893267572716338), (3631, 0.14874005534918133), (3632, 0.10552902180632787), (3633, 0.11775851561651651), (3634, 0.08395267765770334), (3635, 0.11843817100443013), (3636, 0.09314949775851579), (3637, 0.09465274016446354), (3638, 0.1321740931105904), (3639, 0.11502217448106415), (3640, 0.1028731616177981), (3641, 0.09453970278810693), (3642, 0.1042313361762499), (3643, 0.11161412437639524), (3644, 0.09433391382219397), (3645, 0.08623466924283263), (3646, 0.09266107514277422), (3647, 0.10173669633803138), (3648, 0.10520210018687912), (3649, 0.11574997388263321), (3650, 0.11339452224275941), (3651, 0.11173592410120775), (3652, 0.0993425377862669), (3653, 0.14571220070669827), (3654, 0.10391688560739483), (3655, 0.10403386097727522), (3656, 0.12668003746781198), (3657, 0.08417362494659457), (3658, 0.09523154467765425), (3659, 0.1652626744368347), (3660, 0.1657621632253254), (3661, 0.10518042141863583), (3662, 0.16453097234782177), (3663, 0.1835115779409313), (3664, 0.09227886645805158), (3665, 0.16133872048420173), (3666, 0.09960941930046084), (3667, 0.08578503768870188), (3668, 0.08991257533693209), (3669, 0.08953275965893966), (3670, 0.10632244010578244), (3671, 0.1513089943373802), (3672, 0.12674355426310543), (3673, 0.12080469691476038), (3674, 0.08830049285774486), (3675, 0.1062635587284891), (3676, 0.09163667132670662), (3677, 0.10838577495713411), (3678, 0.10841334938052348), (3679, 0.1673366485141963), (3680, 0.10120830444218386), (3681, 0.12307521636042251), (3682, 0.10730631093701636), (3683, 0.11029172227945372), (3684, 0.09354722093846035), (3685, 0.12318647911963164), (3686, 0.10582784158686676), (3687, 0.11049413332882287), (3688, 0.10642610702965176), (3689, 0.1048970389553016), (3690, 0.1024766336035249), (3691, 0.0922621312096718), (3692, 0.10348190102627451), (3693, 0.08791484596603502), (3694, 0.10016417751747105), (3695, 0.11914070404901027), (3696, 0.11146645127315903), (3697, 0.10527904645553647), (3698, 0.09270980514289501), (3699, 0.10806001431761454), (3700, 0.08825418558247201), (3701, 0.12079751119119468), (3702, 0.11559653626515068), (3703, 0.1273675685041627), (3704, 0.10531922145880228), (3705, 0.09717006926291516), (3706, 0.09775993063462483), (3707, 0.09215423440022792), (3708, 0.11183338029271413), (3709, 0.09860393439623222), (3710, 0.10374396292811225), (3711, 0.09863770364581952), (3712, 0.09737791395724764), (3713, 0.07749801726981252), (3714, 0.09982230890428781), (3715, 0.11382413556213815), (3716, 0.10185582393647652), (3717, 0.12483728750563416), (3718, 0.09905938630966096), (3719, 0.08872785303573939), (3720, 0.0901615322681166), (3721, 0.11644383293014969), (3722, 0.1250629651104285), (3723, 0.09081598974420803), (3724, 0.10062726114209126), (3725, 0.08766416835062271), (3726, 0.0899981250796646), (3727, 0.08977460571794302), (3728, 0.1129352285951219), (3729, 0.10326031632294017), (3730, 0.12343020412644316), (3731, 0.0951871749166411), (3732, 0.08686575437870639), (3733, 0.09178933789834814), (3734, 0.11396739471205343), (3735, 0.12991192006920554), (3736, 0.10664328363956535), (3737, 0.13163193548671223), (3738, 0.09154296282988234), (3739, 0.11413689522854022), (3740, 0.11179741944104152), (3741, 0.11668937564193209), (3742, 0.09496058181389391), (3743, 0.12898955056776862), (3744, 0.10749040060894435), (3745, 0.10285432460987369), (3746, 0.1059879887518761), (3747, 0.12733406612183937), (3748, 0.09944161297574584), (3749, 0.0980153562212267), (3750, 0.07689886428713827), (3751, 0.10960950678701942), (3752, 0.10922801906525974), (3753, 0.10510509015975782), (3754, 0.11948546488122053), (3755, 0.0807590072284413), (3756, 0.0995643000309003), (3757, 0.10651220048712703), (3758, 0.11466391697325767), (3759, 0.11233208192161384), (3760, 0.148119274079534), (3761, 0.10041998061099301), (3762, 0.11481337175912758), (3763, 0.13359673373886877), (3764, 0.14457338044736018), (3765, 0.10459783557595172), (3766, 0.11683176412554308), (3767, 0.09294029775487553), (3768, 0.1103787176912636), (3769, 0.10394455395108584), (3770, 0.10329802119080903), (3771, 0.10623337122600233), (3772, 0.1391462719741072), (3773, 0.09751336112578868), (3774, 0.10680654464627644), (3775, 0.10773463803864279), (3776, 0.11079346051564205), (3777, 0.10578212048979964), (3778, 0.10961252032112527), (3779, 0.1072197173496697), (3780, 0.10628652976612034), (3781, 0.10806672876439599), (3782, 0.1017380939248218), (3783, 0.10274470934591039), (3784, 0.09663454638734537), (3785, 0.10020137391916704), (3786, 0.09364478979208349), (3787, 0.10448955495436955), (3788, 0.08881377582411372), (3789, 0.1188768166603666), (3790, 0.134166709876894), (3791, 0.1069881378034869), (3792, 0.12635153844580443), (3793, 0.09903445411557792), (3794, 0.13171362482257482), (3795, 0.08710870992231827), (3796, 0.13219812835313066), (3797, 0.10723983114066764), (3798, 0.10094911991317854), (3799, 0.086326306911153), (3800, 0.1149194954731841), (3801, 0.0880400332565215), (3802, 0.10730282040302078), (3803, 0.11140510872378719), (3804, 0.11603002959369729), (3805, 0.11358644273113339), (3806, 0.0814690156706807), (3807, 0.09819736607804191), (3808, 0.16187169888396236), (3809, 0.10547961507634625), (3810, 0.10712693239950007), (3811, 0.09975782698330579), (3812, 0.14394826648032205), (3813, 0.11946179545797393), (3814, 0.09507154900101078), (3815, 0.103917071210345), (3816, 0.13301955362915338), (3817, 0.14743067682301345), (3818, 0.09903318595937224), (3819, 0.09077662974774586), (3820, 0.10140025872777061), (3821, 0.08902259486322943), (3822, 0.12451966748093339), (3823, 0.09680353078577733), (3824, 0.10695970218188938), (3825, 0.14277415294280082), (3826, 0.10479511832639668), (3827, 0.08914345870970893), (3828, 0.11145633013431086), (3829, 0.19653769344490718), (3830, 0.1176857228528511), (3831, 0.11125959354227431), (3832, 0.10937060021533587), (3833, 0.09881054365612923), (3834, 0.10308002629091097), (3835, 0.07010640121493866), (3836, 0.08891768656448013), (3837, 0.10303756243796085), (3838, 0.1041275508342085), (3839, 0.1073411737676977), (3840, 0.09510795882284086), (3841, 0.09862417401371312), (3842, 0.09255453262772374), (3843, 0.14181220119323598), (3844, 0.11901850464074214), (3845, 0.10125167173644217), (3846, 0.11658610892359476), (3847, 0.12176581221681348), (3848, 0.11208336194196801), (3849, 0.10374908737426967), (3850, 0.10039294072066408), (3851, 0.13787436209664022), (3852, 0.1778770761396082), (3853, 0.09375389897626266), (3854, 0.09396610534438182), (3855, 0.09699762674043791), (3856, 0.09511419959693572), (3857, 0.11123640798095272), (3858, 0.11665527082444249), (3859, 0.09385539457714596), (3860, 0.09330646515775202), (3861, 0.10033572088297758), (3862, 0.11728370586966501), (3863, 0.10017489665883517), (3864, 0.1438399655615269), (3865, 0.12004262969763305), (3866, 0.11195286513136381), (3867, 0.10747445602321905), (3868, 0.10368442620103119), (3869, 0.11279311667682729), (3870, 0.19081411342923074), (3871, 0.1929953196455924), (3872, 0.09350395349546951), (3873, 0.10160193106793372), (3874, 0.10845217002570214), (3875, 0.09691536635632443), (3876, 0.08982267150541975), (3877, 0.15766664356259805), (3878, 0.15871453576247185), (3879, 0.09615382728792177), (3880, 0.086614209838282), (3881, 0.0955795106400791), (3882, 0.12775828898943392), (3883, 0.11228200657070742), (3884, 0.11002678845718762), (3885, 0.09734994062678948), (3886, 0.10031397870041069), (3887, 0.09056370691459975), (3888, 0.10196003288706995), (3889, 0.10704950716332579), (3890, 0.1290898261330475), (3891, 0.11196345536442504), (3892, 0.12493039074425756), (3893, 0.10283553665939034), (3894, 0.08963543864733363), (3895, 0.08295923274145979), (3896, 0.09645840141114817), (3897, 0.10239746361452232), (3898, 0.08627737760492496), (3899, 0.14907030544528907), (3900, 0.08673508624673629), (3901, 0.11385537339244198), (3902, 0.09355212528861144), (3903, 0.11318053018991062), (3904, 0.09635728861118317), (3905, 0.11140508347949804), (3906, 0.1246966288390835), (3907, 0.1073804096674494), (3908, 0.09758422803761019), (3909, 0.08830616514679537), (3910, 0.14807322452898486), (3911, 0.10496004349459204), (3912, 0.10900104297632039), (3913, 0.10418411236077323), (3914, 0.10420676683835582), (3915, 0.10577069382794693), (3916, 0.08796966871317585), (3917, 0.09368361502845496), (3918, 0.18764458008077275), (3919, 0.10404245517120643), (3920, 0.09711475101393158), (3921, 0.12133049596516264), (3922, 0.10958035845761746), (3923, 0.09754994678475863), (3924, 0.10695778130072411), (3925, 0.1283744224301084), (3926, 0.12475576953739465), (3927, 0.08204385344555679), (3928, 0.07832315106359646), (3929, 0.09336860598836025), (3930, 0.15325912741583775), (3931, 0.1042286112434477), (3932, 0.09378241785006496), (3933, 0.11879360292515734), (3934, 0.09999202354794716), (3935, 0.10518151934428151), (3936, 0.11392965241826827), (3937, 0.09597853944305217), (3938, 0.11418905331432304), (3939, 0.11700835160525162), (3940, 0.09558567165703875), (3941, 0.09261009614154211), (3942, 0.11796363678623963), (3943, 0.16471720765285555), (3944, 0.07632687870456206), (3945, 0.20384167563619698), (3946, 0.08342153959639616), (3947, 0.12040308320096996), (3948, 0.11787833162509408), (3949, 0.12014795586604773), (3950, 0.11356439099827886), (3951, 0.11326245368603541), (3952, 0.10269574572482786), (3953, 0.08980717285724618), (3954, 0.0891820516832631), (3955, 0.1039875666070244), (3956, 0.16288110446035808), (3957, 0.08924495609150687), (3958, 0.08569050601564608), (3959, 0.10545870962612577), (3960, 0.11239720433867069), (3961, 0.10961748754171058), (3962, 0.1119857549850676), (3963, 0.1004183630530737), (3964, 0.11675216320158475), (3965, 0.10524454956019284), (3966, 0.09662787832038937), (3967, 0.10128104849246579), (3968, 0.09898415893408245), (3969, 0.10663168745927425), (3970, 0.10280260384995532), (3971, 0.09861598208505284), (3972, 0.10989529906605822), (3973, 0.13750788698049946), (3974, 0.09277200151043807), (3975, 0.12304799727787429), (3976, 0.10867882183215448), (3977, 0.10794524596285585), (3978, 0.0951271321638999), (3979, 0.12701956587799454), (3980, 0.0912029813567573), (3981, 0.2770468610663146), (3982, 0.09819434735830068), (3983, 0.08511380753205047), (3984, 0.10727009020034708), (3985, 0.09632611264022514), (3986, 0.14500290549962142), (3987, 0.09586088587033345), (3988, 0.11144025463756858), (3989, 0.09290920883983574), (3990, 0.13189469800824505), (3991, 0.11492185022905993), (3992, 0.11284328706119102), (3993, 0.09578796429293704), (3994, 0.09627979961750875), (3995, 0.10982418688320734), (3996, 0.10952698591944432), (3997, 0.10439263037559002), (3998, 0.1080308163653527), (3999, 0.10795757041180731), (4000, 0.09449910420233286), (4001, 0.10226861371947904), (4002, 0.10907288171217658), (4003, 0.14009965689284615), (4004, 0.09774203264473122), (4005, 0.10304041619417718), (4006, 0.10019060744356657), (4007, 0.14261956624374628), (4008, 0.10361503240122076), (4009, 0.12164903862767137), (4010, 0.14627553942250204), (4011, 0.09873960697108433), (4012, 0.0965890415565954), (4013, 0.13924933108371065), (4014, 0.09166743764517826), (4015, 0.14574244344881107), (4016, 0.11108629488839804), (4017, 0.11852367371088762), (4018, 0.08286392702303942), (4019, 0.11432259538500139), (4020, 0.11333344534380332), (4021, 0.13327736684258698), (4022, 0.11334331371703237), (4023, 0.12315917653451285), (4024, 0.11039583853551929), (4025, 0.10208547995752772), (4026, 0.2785614120134336), (4027, 0.10455127974856694), (4028, 0.1167631950236251), (4029, 0.09418225258656394), (4030, 0.10457343024977768), (4031, 0.11701741084537413), (4032, 0.13104706985801445), (4033, 0.11590541022221613), (4034, 0.13632298978877003), (4035, 0.08761042017566587), (4036, 0.09792290319294239), (4037, 0.13787811547062542), (4038, 0.11243877755277515), (4039, 0.1092034232085519), (4040, 0.11387169403825348), (4041, 0.09897642536646442), (4042, 0.0986421353743928), (4043, 0.09991419592211787), (4044, 0.08811556934032434), (4045, 0.11025231199371548), (4046, 0.10710778951245482), (4047, 0.11687798164532394), (4048, 0.09827596865012324), (4049, 0.10164769627443179), (4050, 0.14170030511300263), (4051, 0.11446280389152681), (4052, 0.09260547995127502), (4053, 0.09186193555738172), (4054, 0.18597905988531174), (4055, 0.10134541174939052), (4056, 0.09593454449040342), (4057, 0.09205530234966093), (4058, 0.11518896735526633), (4059, 0.09238819105193169), (4060, 0.0953624443297912), (4061, 0.11601579817981807), (4062, 0.12263612214943587), (4063, 0.09145462840696132), (4064, 0.12768412344348365), (4065, 0.20757863835843038), (4066, 0.11171617922184769), (4067, 0.22720346806349062), (4068, 0.106831336053204), (4069, 0.0955059325623233), (4070, 0.10455791631080576), (4071, 0.09578808172628756), (4072, 0.08290907842447584), (4073, 0.0992950847423494), (4074, 0.13143734387974598), (4075, 0.10243468682042996), (4076, 0.10950809748503525), (4077, 0.1061221223484347), (4078, 0.10437801496449658), (4079, 0.09561992270787958), (4080, 0.08736018295057851), (4081, 0.10489706624532379), (4082, 0.13633752464331078), (4083, 0.09738673440152272), (4084, 0.11352684647263447), (4085, 0.09855803793808644), (4086, 0.1316985465123538), (4087, 0.10534262401687727), (4088, 0.10328289420558563), (4089, 0.174197241960512), (4090, 0.10517645802893232), (4091, 0.10469042761785292), (4092, 0.10757326489169226), (4093, 0.09683597638788904), (4094, 0.1051890546905067), (4095, 0.08321053761483181), (4096, 0.10162942339050113), (4097, 0.10548319269636972), (4098, 0.09611823154942774), (4099, 0.19189166469607058), (4100, 0.10297875382636448), (4101, 0.11558039359045925), (4102, 0.1118988943494929), (4103, 0.1080415069042199), (4104, 0.09945939137966274), (4105, 0.10495298118179205), (4106, 0.10730777758693696), (4107, 0.12985488764087155), (4108, 0.11127289428227366), (4109, 0.09566755519264362), (4110, 0.10022046962745354), (4111, 0.11014640313938273), (4112, 0.12737963992211673), (4113, 0.13450315039664726), (4114, 0.11359642888611107), (4115, 0.11814297836414038), (4116, 0.10771680390703665), (4117, 0.10738746928150615), (4118, 0.12147836086633292), (4119, 0.11049248642674164), (4120, 0.1319170199690784), (4121, 0.10835368654789357), (4122, 0.12625608628494964), (4123, 0.10197330974797036), (4124, 0.11530361385767332), (4125, 0.10890405191085338), (4126, 0.10393925950690608), (4127, 0.11619737215406348), (4128, 0.09965829886323174), (4129, 0.08798887306611511), (4130, 0.10814837557401354), (4131, 0.09653158742422899), (4132, 0.1042519829984561), (4133, 0.09731690167978631), (4134, 0.15189654898541596), (4135, 0.15609733685450075), (4136, 0.10911757786914646), (4137, 0.09920077327204431), (4138, 0.11329285904993162), (4139, 0.10338185154456878), (4140, 0.1151830263014747), (4141, 0.0860598844126849), (4142, 0.11755108793442141), (4143, 0.09662955335490626), (4144, 0.09465768566157771), (4145, 0.10422156200832336), (4146, 0.12466191396120953), (4147, 0.12680211837270228), (4148, 0.1025975433792999), (4149, 0.13875304885433207), (4150, 0.11019099562275776), (4151, 0.0859106039621839), (4152, 0.17693483482446506), (4153, 0.09588015852908746), (4154, 0.09326347144294142), (4155, 0.09880708760631525), (4156, 0.08968203270574074), (4157, 0.10564862501972815), (4158, 0.10191806986237284), (4159, 0.09594312657481482), (4160, 0.11009962578830683), (4161, 0.0966826911014923), (4162, 0.181434062145054), (4163, 0.10369655278828602), (4164, 0.13019938903288855), (4165, 0.09009822008929748), (4166, 0.11343931331738795), (4167, 0.10675366321395481), (4168, 0.13551443877941563), (4169, 0.11398924019193483), (4170, 0.1116028935521984), (4171, 0.09002991891460754), (4172, 0.11619552027004365), (4173, 0.13517603021968072), (4174, 0.11455346489303068), (4175, 0.10038238465342941), (4176, 0.09650536581822237), (4177, 0.11349051292199719), (4178, 0.1997949968907225), (4179, 0.10387259177383726), (4180, 0.0940165048144119), (4181, 0.10275779214484079), (4182, 0.0932784400304735), (4183, 0.09990981309467228), (4184, 0.09916215402000224), (4185, 0.1088147123715211), (4186, 0.11143841170779205), (4187, 0.11218467669658533), (4188, 0.09882881437926579), (4189, 0.10313742785993553), (4190, 0.116031706913425), (4191, 0.14987385019226873), (4192, 0.09911731095388321), (4193, 0.08763872806667822), (4194, 0.13049626189817115), (4195, 0.12502596433345806), (4196, 0.14251089008853188), (4197, 0.13417193552135465), (4198, 0.11530594075565608), (4199, 0.14962911405018817), (4200, 0.10255980802524595), (4201, 0.21606198275859106), (4202, 0.12194228160643794), (4203, 0.11365023757741158), (4204, 0.12114871111794114), (4205, 0.09536144753955172), (4206, 0.1051251884250458), (4207, 0.13469746397785715), (4208, 0.11072036660522697), (4209, 0.11694684444831804), (4210, 0.14613135226325608), (4211, 0.10710925429482471), (4212, 0.09621507418004421), (4213, 0.08644212043871652), (4214, 0.12328742311780637), (4215, 0.10509752642584169), (4216, 0.10100557939655519), (4217, 0.09403795523854803), (4218, 0.1075053789677036), (4219, 0.11329491605343832), (4220, 0.08929338559980739), (4221, 0.11736264840524137), (4222, 0.11764337504553059), (4223, 0.1277649801006285), (4224, 0.09831095881691881), (4225, 0.14375793132923606), (4226, 0.10706292826546172), (4227, 0.09871262264453831), (4228, 0.08964153256524904), (4229, 0.08791472097509034), (4230, 0.11318187594798283), (4231, 0.09625029666324449), (4232, 0.09290292733347034), (4233, 0.10533919443127152), (4234, 0.09211083569775687), (4235, 0.08793992200628449), (4236, 0.08751604605973282), (4237, 0.14031919385995734), (4238, 0.10359830248776418), (4239, 0.1206299373993925), (4240, 0.10739770548721256), (4241, 0.10188405190360135), (4242, 0.11856232261647659), (4243, 0.10200056148802629), (4244, 0.1020770002642171), (4245, 0.1093617508540225), (4246, 0.1030014530662242), (4247, 0.09294974740923555), (4248, 0.09987380251700965), (4249, 0.093126849188128), (4250, 0.10951063396484102), (4251, 0.09954846490835993), (4252, 0.09609291468709583), (4253, 0.09402389164402501), (4254, 0.08693044532442577), (4255, 0.09793170798482757), (4256, 0.10563807175520303), (4257, 0.094047686010504), (4258, 0.11547283983934126), (4259, 0.12111296527121816), (4260, 0.11810642538026193), (4261, 0.08518919930834903), (4262, 0.11185592371405305), (4263, 0.12409569058499706), (4264, 0.09426539388811031), (4265, 0.10232903870189383), (4266, 0.09654731315671716), (4267, 0.12516106351576428), (4268, 0.09814661985207458), (4269, 0.10596739082837223), (4270, 0.11888275086907135), (4271, 0.12985828389816004), (4272, 0.09409554183761736), (4273, 0.10010982995634636), (4274, 0.09178748868293758), (4275, 0.09842054947595734), (4276, 0.13982022311898554), (4277, 0.10188912122814037), (4278, 0.09505841755519692), (4279, 0.09262582956428615), (4280, 0.18700621246551), (4281, 0.1131891827130789), (4282, 0.09907208065343004), (4283, 0.11312637502163804), (4284, 0.10477430236619216), (4285, 0.10467677302183072), (4286, 0.14977577159581593), (4287, 0.10274921440243427), (4288, 0.10170961121432212), (4289, 0.10385225745737442), (4290, 0.09208554913406916), (4291, 0.11880139240702878), (4292, 0.08788783182398001), (4293, 0.11443543759162986), (4294, 0.09854834573742025), (4295, 0.1163203872076681), (4296, 0.07987537500480588), (4297, 0.10967086878308653), (4298, 0.10782136040723202), (4299, 0.09892541351095105), (4300, 0.09711365185119551), (4301, 0.0685560707512277), (4302, 0.11125741258093315), (4303, 0.12613474696912763), (4304, 0.08882051382824961), (4305, 0.0889942381325282), (4306, 0.10952373751893982), (4307, 0.11487893164393424), (4308, 0.09859847015480215), (4309, 0.09295030714981659), (4310, 0.09338965752472246), (4311, 0.07477698229618558), (4312, 0.10473871182683318), (4313, 0.14496869749243502), (4314, 0.10225949722783875), (4315, 0.09602534899277292), (4316, 0.1034965673950966), (4317, 0.1016747051420237), (4318, 0.09519779190692941), (4319, 0.1269559902757469), (4320, 0.09521250677952936), (4321, 0.1126097619185561), (4322, 0.0906336330409303), (4323, 0.12107166427487147), (4324, 0.10840222923038824), (4325, 0.09672812756209521), (4326, 0.08378779164390025), (4327, 0.11917892909868914), (4328, 0.09078857593258546), (4329, 0.13203618711755635), (4330, 0.10733616589434163), (4331, 0.10784367071753805), (4332, 0.12594594716165203), (4333, 0.11173394394100432), (4334, 0.13270900698704086), (4335, 0.11016636662297279), (4336, 0.13956927937717065), (4337, 0.13510089938228864), (4338, 0.11426467147360578), (4339, 0.09956672600537146), (4340, 0.11478943793501893), (4341, 0.14719890368335004), (4342, 0.11275851511207463), (4343, 0.08566620020256818), (4344, 0.11279606874585361), (4345, 0.12357023137139189), (4346, 0.13883122036479104), (4347, 0.13461722238009344), (4348, 0.09994949343859895), (4349, 0.09798866200458282), (4350, 0.0936284689512024), (4351, 0.12239028071272949), (4352, 0.09943631284573282), (4353, 0.08700571265756062), (4354, 0.09319132918111675), (4355, 0.10472443901122988), (4356, 0.10042496248735297), (4357, 0.09366133253296616), (4358, 0.12977558775886264), (4359, 0.10336553228799794), (4360, 0.10083971850417627), (4361, 0.10099365109166072), (4362, 0.15126088508964275), (4363, 0.0970308065655411), (4364, 0.10699720572650193), (4365, 0.09927853116996281), (4366, 0.09272667340366557), (4367, 0.0964128487928465), (4368, 0.11106169081068362), (4369, 0.11114524504334981), (4370, 0.11291735218729235), (4371, 0.13740154403974206), (4372, 0.12795413179907), (4373, 0.08524633503540487), (4374, 0.18081172073076515), (4375, 0.10983874520573299), (4376, 0.09892131421189558), (4377, 0.10368782479794784), (4378, 0.10496774463507828), (4379, 0.10620087685692513), (4380, 0.11211675521462439), (4381, 0.09776781252595586), (4382, 0.09955949535884963), (4383, 0.09396066319314893), (4384, 0.09933997198861862), (4385, 0.08600195037704146), (4386, 0.079182243606343), (4387, 0.09818660689990025), (4388, 0.11791084197698584), (4389, 0.10606203854855398), (4390, 0.09290492187986284), (4391, 0.09037357886605303), (4392, 0.1016336974316806), (4393, 0.10119616533349662), (4394, 0.18520956936288982), (4395, 0.10908660134727666), (4396, 0.12474006989105041), (4397, 0.10845277957731873), (4398, 0.11130368541183613), (4399, 0.09629968750504675), (4400, 0.11260168822287579), (4401, 0.17253946105526008), (4402, 0.09329636991186631), (4403, 0.12583743869915978), (4404, 0.10143648239585792), (4405, 0.0966249455952977), (4406, 0.10140801569823506), (4407, 0.13781528460095122), (4408, 0.10677570142985912), (4409, 0.09245752523974263), (4410, 0.1165808505408464), (4411, 0.12216847059019872), (4412, 0.10418824008701563), (4413, 0.0976811532505556), (4414, 0.07740303974309934), (4415, 0.07905766265435388), (4416, 0.10476420540029108), (4417, 0.10439613839101006), (4418, 0.11558534862177565), (4419, 0.09373467175868201), (4420, 0.12655149841420946), (4421, 0.12826262574468725), (4422, 0.1066363527943746), (4423, 0.1140952071793422), (4424, 0.10399634123563432), (4425, 0.20190824192919427), (4426, 0.1043699803874863), (4427, 0.0978970935152244), (4428, 0.09471648635141812), (4429, 0.07942902477193631), (4430, 0.11951812833275255), (4431, 0.10426235804253063), (4432, 0.12482835918136277), (4433, 0.11644576761028369), (4434, 0.10684827913574707), (4435, 0.09662655389914253), (4436, 0.10391127572510085), (4437, 0.09205461413964258), (4438, 0.0893751502810676), (4439, 0.08330268175645927), (4440, 0.12145825211530985), (4441, 0.09400071948636145), (4442, 0.09812187800082837), (4443, 0.1511870638505091), (4444, 0.12694802433589278), (4445, 0.08371900748915358), (4446, 0.11159700510410804), (4447, 0.10176659753727223), (4448, 0.09986956606258958), (4449, 0.11076985632941874), (4450, 0.08829068325509212), (4451, 0.11910402752371115), (4452, 0.11059213663594457), (4453, 0.10489092541163053), (4454, 0.12059796345902024), (4455, 0.13446629949882946), (4456, 0.12754664289932963), (4457, 0.12737867932365105), (4458, 0.10630776358039895), (4459, 0.10451060493310889), (4460, 0.10747886643363166), (4461, 0.08763685646052423), (4462, 0.10946554760595088), (4463, 0.10458806566424647), (4464, 0.11145782239722099), (4465, 0.11021121334217174), (4466, 0.10050892996860386), (4467, 0.09974691842685167), (4468, 0.08976091636535485), (4469, 0.11066469479412105), (4470, 0.09970733854819436), (4471, 0.0951862088583448), (4472, 0.09767369165470008), (4473, 0.0829997041884712), (4474, 0.10764411248714247), (4475, 0.0817526933268329), (4476, 0.08894593146735862), (4477, 0.11186692887364857), (4478, 0.1589884497427306), (4479, 0.1138851618308271), (4480, 0.14038158417966937), (4481, 0.10344831824369143), (4482, 0.10804228597328923), (4483, 0.12666404614392957), (4484, 0.11587198498882331), (4485, 0.1209373565615855), (4486, 0.10513449756616339), (4487, 0.09668223134765351), (4488, 0.10052114705044639), (4489, 0.10509289219299604), (4490, 0.1161289466397765), (4491, 0.09736836095834704), (4492, 0.14098139431118356), (4493, 0.10445288173071052), (4494, 0.11122774876208884), (4495, 0.1050705269558391), (4496, 0.11212727748171253), (4497, 0.10193166164206217), (4498, 0.08551375481849621), (4499, 0.11941841379196451), (4500, 0.16421443041192046), (4501, 0.10372175833518114), (4502, 0.09523980979741331), (4503, 0.10303634002562595), (4504, 0.09175801526199649), (4505, 0.10324296844174065), (4506, 0.11663887327921628), (4507, 0.10086504805309536), (4508, 0.10348524336439073), (4509, 0.09248576926696239), (4510, 0.10391636837402514), (4511, 0.10433984577111459), (4512, 0.09958582871729003), (4513, 0.08809568748579785), (4514, 0.10764321765066867), (4515, 0.11448482831202926), (4516, 0.111883841041361), (4517, 0.09584683737858905), (4518, 0.11554241228651048), (4519, 0.10519523359511103), (4520, 0.08942914740902017), (4521, 0.1094027982959265), (4522, 0.09812450529674463), (4523, 0.15925660977312517), (4524, 0.15514538376884793), (4525, 0.08961872584358857), (4526, 0.12792811866147805), (4527, 0.10293846317496076), (4528, 0.09770600302082441), (4529, 0.11752189437504725), (4530, 0.10080300235621367), (4531, 0.10622451225160935), (4532, 0.08511890846780693), (4533, 0.09344652106308887), (4534, 0.10075235601613398), (4535, 0.10698493121987297), (4536, 0.09227339351702903), (4537, 0.11464459422927999), (4538, 0.11094450295179462), (4539, 0.105182453465752), (4540, 0.09688721065779828), (4541, 0.22153744668457778), (4542, 0.09777876404676847), (4543, 0.09083652061592909), (4544, 0.11046490585150272), (4545, 0.1049816763959707), (4546, 0.11610214118414919), (4547, 0.10238062763068437), (4548, 0.09997744486097636), (4549, 0.10694679886431317), (4550, 0.09980248015442723), (4551, 0.11462476282949245), (4552, 0.10024654884456155), (4553, 0.09490599456272532), (4554, 0.15486234572065036), (4555, 0.1506384270829348), (4556, 0.09555133815423296), (4557, 0.10753343833911228), (4558, 0.10187240055178781), (4559, 0.11772702563461522), (4560, 0.09549025343041576), (4561, 0.18834515633458188), (4562, 0.12754823217720412), (4563, 0.0971725515993993), (4564, 0.09563305711702319), (4565, 0.07836342753828969), (4566, 0.13277823288738158), (4567, 0.10357546989954648), (4568, 0.09589003127918819), (4569, 0.10197526021878774), (4570, 0.1335120681742425), (4571, 0.13549131433847322), (4572, 0.10889673293093606), (4573, 0.08823230639891291), (4574, 0.10832792924519431), (4575, 0.09887544688937099), (4576, 0.1076071580912422), (4577, 0.08761013477381425), (4578, 0.2092408383337439), (4579, 0.12795233448464505), (4580, 0.10872657298779578), (4581, 0.09651965557949584), (4582, 0.10680688257774613), (4583, 0.0979836718942892), (4584, 0.11727975142688539), (4585, 0.0911149706658836), (4586, 0.09389033698608201), (4587, 0.0992788728579423), (4588, 0.09153012796121965), (4589, 0.12084713252712966), (4590, 0.09753818305613873), (4591, 0.09187723377115628), (4592, 0.09801617663756308), (4593, 0.10635314296946555), (4594, 0.1108857904919381), (4595, 0.104728041914222), (4596, 0.09992463093392896), (4597, 0.1033973284887649), (4598, 0.09031833388405305), (4599, 0.12384178361826041), (4600, 0.10027903102181053), (4601, 0.10761908486669049), (4602, 0.10298726631144359), (4603, 0.08445180390233442), (4604, 0.10711907340187087), (4605, 0.1605509447290781), (4606, 0.11758529207071645), (4607, 0.1472023631095486), (4608, 0.0812470872625824), (4609, 0.1137399229173016), (4610, 0.08684349325888012), (4611, 0.1170778534106016), (4612, 0.1222062723380406), (4613, 0.12844196314198572), (4614, 0.09451998214483943), (4615, 0.09600036238703406), (4616, 0.09624653785138874), (4617, 0.11959874505907983), (4618, 0.12164357807863148), (4619, 0.1080872725917518), (4620, 0.0899123544758453), (4621, 0.09946905036448539), (4622, 0.09580054161121243), (4623, 0.09761282117129559), (4624, 0.11006541504331631), (4625, 0.11885133768173851), (4626, 0.08018493857280574), (4627, 0.10620134224021766), (4628, 0.11668018020336611), (4629, 0.099620412010728), (4630, 0.10733838422548567), (4631, 0.10801706099231209), (4632, 0.10521848699510726), (4633, 0.1385524202290567), (4634, 0.09687800204791121), (4635, 0.14568236390087944), (4636, 0.08460665593000319), (4637, 0.10582428434602142), (4638, 0.08792067962872324), (4639, 0.10464409878918011), (4640, 0.13440454359606185), (4641, 0.16708278346246433), (4642, 0.10446411935039629), (4643, 0.11151943631446887), (4644, 0.19863523561414576), (4645, 0.10569583435460646), (4646, 0.11702431588857856), (4647, 0.11051716845002245), (4648, 0.09918882985976382), (4649, 0.09869933992975125), (4650, 0.14836073001158426), (4651, 0.07112187297115778), (4652, 0.08574369013044336), (4653, 0.11656011357100018), (4654, 0.12981614268567515), (4655, 0.09986986708938084), (4656, 0.11052235217715896), (4657, 0.09637415994529162), (4658, 0.13591700540540366), (4659, 0.10991676633474089), (4660, 0.11837347673073854), (4661, 0.08689174581131044), (4662, 0.13147152134179338), (4663, 0.10173920006094953), (4664, 0.09434343717359725), (4665, 0.09965763512881273), (4666, 0.11863453892676921), (4667, 0.08833375342951329), (4668, 0.08925358014245602), (4669, 0.10287548367057356), (4670, 0.09266514098160333), (4671, 0.13172876548584986), (4672, 0.09260683550346989), (4673, 0.09830802696892449), (4674, 0.0816022909741409), (4675, 0.145247403286435), (4676, 0.11337133770999745), (4677, 0.10210346177760368), (4678, 0.10317102681176583), (4679, 0.08437637444883186), (4680, 0.10318012380449769), (4681, 0.17235005509361365), (4682, 0.10331491186688883), (4683, 0.09518826968439098), (4684, 0.10544871666602765), (4685, 0.09748497079345891), (4686, 0.09954237155299943), (4687, 0.09856323598833662), (4688, 0.10322157066418632), (4689, 0.09350241471002121), (4690, 0.09056763289983177), (4691, 0.11852392965782653), (4692, 0.11595302196299428), (4693, 0.08839602215523562), (4694, 0.10469822018234076), (4695, 0.12478494700750213), (4696, 0.11479213193622992), (4697, 0.10696898653350574), (4698, 0.1073919084358598), (4699, 0.11255525587659157), (4700, 0.11743112326412769), (4701, 0.12045621794977451), (4702, 0.10030898962198273), (4703, 0.1264009551725905), (4704, 0.11956813695671266), (4705, 0.1242404451925253), (4706, 0.09982718457146349), (4707, 0.11407404736001946), (4708, 0.0978220217328766), (4709, 0.11876745747536475), (4710, 0.11183227790324372), (4711, 0.11527748729694452), (4712, 0.09115964201837333), (4713, 0.10340614768250646), (4714, 0.10215013792314599), (4715, 0.0982779385995842), (4716, 0.13834289487864954), (4717, 0.1051938843732373), (4718, 0.13771176073118996), (4719, 0.2870045166640523), (4720, 0.10796980927937692), (4721, 0.126178570891614), (4722, 0.09694477538323464), (4723, 0.1084361824237802), (4724, 0.10943523766829437), (4725, 0.11765296934703785), (4726, 0.09354039053437464), (4727, 0.0952787649374854), (4728, 0.10640757888151615), (4729, 0.0874549965577422), (4730, 0.11620125886515893), (4731, 0.11048826127071326), (4732, 0.11437533409766762), (4733, 0.0904455834152324), (4734, 0.09734903993813931), (4735, 0.15236366484329272), (4736, 0.10464052122144189), (4737, 0.12071082356623836), (4738, 0.0924544120817832), (4739, 0.28310590992293266), (4740, 0.12510933750090383), (4741, 0.10715183202577523), (4742, 0.0971004074654467), (4743, 0.09616709575858086), (4744, 0.07370803224116913), (4745, 0.07966984333723763), (4746, 0.12880746786767552), (4747, 0.11112875628666596), (4748, 0.08667629681546998), (4749, 0.1177459297372701), (4750, 0.10329507577198022), (4751, 0.08724554788172395), (4752, 0.07180146655756325), (4753, 0.10217852158824244), (4754, 0.13634571957292807), (4755, 0.10765037673875744), (4756, 0.11719412909619958), (4757, 0.10690073177314953), (4758, 0.32112035886344853), (4759, 0.10683834861088122)]\n"
          ]
        }
      ]
    },
    {
      "cell_type": "code",
      "source": [
        "print(\"Length of recommendation score is : \" +str(len(recommendation_score)))"
      ],
      "metadata": {
        "colab": {
          "base_uri": "https://localhost:8080/"
        },
        "id": "SyHXYtnmYK0E",
        "outputId": "f2c889ec-81ea-4262-b05f-1afab8f51a6e"
      },
      "execution_count": 200,
      "outputs": [
        {
          "output_type": "stream",
          "name": "stdout",
          "text": [
            "Length of recommendation score is : 4760\n"
          ]
        }
      ]
    },
    {
      "cell_type": "markdown",
      "source": [
        "# **Get all movies Sort based on Recommendation score wrt favourite movie**"
      ],
      "metadata": {
        "id": "WxWmOkHRYmF7"
      }
    },
    {
      "cell_type": "code",
      "source": [
        "sorted_similar_movies = sorted(recommendation_score,key = lambda x:x[1], reverse = True)"
      ],
      "metadata": {
        "id": "zGXQygOGYWQ_"
      },
      "execution_count": 201,
      "outputs": []
    },
    {
      "cell_type": "code",
      "source": [
        "print(sorted_similar_movies)"
      ],
      "metadata": {
        "colab": {
          "base_uri": "https://localhost:8080/"
        },
        "id": "zKZ6jBqcZOZ0",
        "outputId": "88db0bf8-482f-4766-cc09-f2e5d165c2ad"
      },
      "execution_count": 202,
      "outputs": [
        {
          "output_type": "stream",
          "name": "stdout",
          "text": [
            "[(2, 0.9999999999999998), (4758, 0.32112035886344853), (4719, 0.2870045166640523), (4739, 0.28310590992293266), (4026, 0.2785614120134336), (3420, 0.2770468610663146), (3981, 0.2770468610663146), (3323, 0.2683907654699781), (3467, 0.25675673820642403), (3162, 0.25529798047143715), (3325, 0.24743714487366578), (2577, 0.2335413071598936), (2040, 0.2326500529122141), (1758, 0.2276275237380711), (4067, 0.22720346806349062), (1862, 0.22593343788789275), (4541, 0.22153744668457778), (247, 0.2163596198194584), (4201, 0.21606198275859106), (2647, 0.21132920390370255), (2299, 0.21084771608724406), (4578, 0.2092408383337439), (4065, 0.20757863835843038), (1251, 0.20609302637935914), (3945, 0.20384167563619698), (1834, 0.20363901050441385), (1557, 0.20250203234810993), (4425, 0.20190824192919427), (4178, 0.1997949968907225), (1810, 0.19966481305122025), (1176, 0.19916825287098086), (4644, 0.19863523561414576), (1182, 0.19807624440829133), (752, 0.19690489612888762), (1327, 0.1968533940261039), (3829, 0.19653769344490718), (3871, 0.1929953196455924), (4099, 0.19189166469607058), (3030, 0.19150840565337382), (3870, 0.19081411342923074), (1813, 0.1901054909024655), (2568, 0.18985321414431222), (2406, 0.18842354226189145), (4561, 0.18834515633458188), (2321, 0.1877302322063377), (3918, 0.18764458008077275), (4280, 0.18700621246551), (2615, 0.18692111429696182), (4054, 0.18597905988531174), (182, 0.18569073936129385), (4394, 0.18520956936288982), (2290, 0.1851880913830076), (2857, 0.18454342588614986), (3176, 0.18418600980846317), (2264, 0.18401386648279516), (1257, 0.1839405661449306), (643, 0.1838827525176169), (3663, 0.1835115779409313), (178, 0.18299137350561231), (144, 0.1827300572692522), (3142, 0.18262520117868153), (3621, 0.18254630202299785), (3506, 0.18208078475315784), (2016, 0.18196355575659104), (353, 0.18189569710539397), (4162, 0.181434062145054), (3181, 0.18101985657404318), (2393, 0.18084945295720253), (4374, 0.18081172073076515), (3471, 0.18070419887661138), (2365, 0.18017353608013428), (14, 0.18014704850964897), (166, 0.17961817198824237), (1405, 0.17909948743220033), (540, 0.17894581112056904), (2623, 0.17889891486034956), (230, 0.17871965775862386), (2682, 0.1785178647391695), (1284, 0.17831013997325146), (3540, 0.17822409082979263), (3852, 0.1778770761396082), (53, 0.17756900035962464), (2484, 0.1773751747023788), (619, 0.1771399111736675), (3390, 0.17704791968391254), (4152, 0.17693483482446506), (2654, 0.17654887657674484), (2443, 0.17652738326245068), (474, 0.17631302103266183), (459, 0.1759046341735821), (3616, 0.17575477602542772), (1959, 0.17567024579012458), (698, 0.1754807739111388), (640, 0.17492175287677827), (3120, 0.17470904562238887), (4089, 0.174197241960512), (4401, 0.17253946105526008), (3489, 0.17252828107472992), (4681, 0.17235005509361365), (1072, 0.17137276883271807), (463, 0.1713049361480596), (1409, 0.17094102714532), (3302, 0.1709159143536972), (988, 0.1705835753394385), (2938, 0.17030934823888258), (198, 0.16929009059310526), (1460, 0.1690341845771138), (1888, 0.16894489054333614), (362, 0.1682420294305679), (691, 0.16823427246676198), (3228, 0.16773388212533463), (1505, 0.16733679112597383), (3679, 0.1673366485141963), (146, 0.1672406932988475), (4641, 0.16708278346246433), (2370, 0.1670754649553177), (2061, 0.16678259356491837), (3660, 0.1657621632253254), (1646, 0.1657535926323944), (3257, 0.16571563460054176), (932, 0.16543102607722182), (3225, 0.16529180131448679), (3659, 0.1652626744368347), (3943, 0.16471720765285555), (3662, 0.16453097234782177), (4500, 0.16421443041192046), (2649, 0.1641328393410922), (173, 0.1640507656227184), (3422, 0.16360717769747127), (3260, 0.16328869349734135), (1319, 0.1632622986843625), (1067, 0.1631160750054753), (705, 0.16293439473156734), (3956, 0.16288110446035808), (624, 0.16276771765874654), (2809, 0.16263641919132132), (3116, 0.16216314993900022), (361, 0.16204168671459293), (3808, 0.16187169888396236), (3261, 0.16176984035691833), (2782, 0.16137969017033904), (3665, 0.16133872048420173), (887, 0.1610870649900695), (3119, 0.1610762942472897), (1076, 0.1606592609348803), (4605, 0.1605509447290781), (2332, 0.16052883922672848), (3201, 0.16041043813209285), (1433, 0.160179708049076), (1038, 0.15957693742895052), (4523, 0.15925660977312517), (1107, 0.1590503492247803), (4478, 0.1589884497427306), (3256, 0.15875969543515225), (3878, 0.15871453576247185), (1092, 0.15868358029030316), (341, 0.15865557280630455), (3282, 0.15836763071172624), (1523, 0.15828452870309775), (427, 0.15819954405420356), (2658, 0.15818233935479753), (421, 0.15794260738850924), (1586, 0.15786670148949702), (3877, 0.15766664356259805), (2292, 0.1575752462932369), (948, 0.15737307210260393), (2667, 0.15730292603354684), (730, 0.15720642554866177), (2584, 0.15716749989496887), (2145, 0.1568630513341101), (3308, 0.15626431556002865), (3212, 0.1562105815250158), (4135, 0.15609733685450075), (2980, 0.1560904515881161), (3461, 0.15605444269065954), (850, 0.1560325597439181), (2138, 0.15599043037196886), (548, 0.15559432438717413), (1927, 0.15542713929107319), (1602, 0.1553989253463051), (4524, 0.15514538376884793), (2806, 0.1549561546344721), (2521, 0.15492648552665564), (4554, 0.15486234572065036), (753, 0.15452729220933897), (2704, 0.15448044161303287), (1715, 0.15402223229087544), (2532, 0.15390382057056504), (1041, 0.15385551645845397), (2502, 0.15336094313587045), (3288, 0.15326452488881978), (3930, 0.15325912741583775), (794, 0.15298687105393563), (2760, 0.15296634636973616), (3512, 0.1529427642369559), (695, 0.15259961238756675), (989, 0.15250184765644836), (4735, 0.15236366484329272), (179, 0.15208360322048525), (2476, 0.15207229748406123), (4134, 0.15189654898541596), (2392, 0.151434703984153), (3671, 0.1513089943373802), (4362, 0.15126088508964275), (4443, 0.1511870638505091), (2510, 0.1506751616992869), (4555, 0.1506384270829348), (3236, 0.15057615390244738), (2097, 0.15049143167938245), (1950, 0.1503238586332468), (3253, 0.14996154524371172), (4191, 0.14987385019226873), (854, 0.14977819417689814), (4286, 0.14977577159581593), (4199, 0.14962911405018817), (3899, 0.14907030544528907), (3631, 0.14874005534918133), (2668, 0.14864415637779188), (2711, 0.1486229143739205), (1195, 0.14861800108918014), (4650, 0.14836073001158426), (3760, 0.148119274079534), (3910, 0.14807322452898486), (615, 0.14795671954064613), (3380, 0.14762323017056372), (3817, 0.14743067682301345), (461, 0.14731513109179095), (2190, 0.14728410538138376), (4607, 0.1472023631095486), (4341, 0.14719890368335004), (1011, 0.14705730687426616), (22, 0.146898252847146), (1726, 0.14681418291711815), (3091, 0.14639387931921777), (1886, 0.14632783556552115), (4010, 0.14627553942250204), (1364, 0.1461902778551476), (3607, 0.14614282480771643), (4210, 0.14613135226325608), (3229, 0.14581111231786817), (852, 0.14578644958852444), (4015, 0.14574244344881107), (3653, 0.14571220070669827), (4635, 0.14568236390087944), (2781, 0.1455870917505333), (1311, 0.14526653951624718), (1601, 0.145251758224787), (4675, 0.145247403286435), (121, 0.1450987164051411), (3986, 0.14500290549962142), (4313, 0.14496869749243502), (3217, 0.14480577422934032), (3379, 0.14459762705969956), (3764, 0.14457338044736018), (1094, 0.14427332751647598), (1578, 0.14423212181551875), (500, 0.1441184587096186), (2653, 0.14397080980125818), (3812, 0.14394826648032205), (26, 0.14392433674420038), (3864, 0.1438399655615269), (4225, 0.14375793132923606), (3346, 0.1435245997296824), (2719, 0.1435107920005504), (1844, 0.14343326161458161), (2316, 0.1433926772131883), (3373, 0.14334662154241024), (2818, 0.1431674457211271), (2280, 0.14316488539969288), (2221, 0.1429036771540307), (3825, 0.14277415294280082), (743, 0.14276206449259904), (2267, 0.1426585224710605), (4007, 0.14261956624374628), (1555, 0.14259078413853116), (2504, 0.1425244074696493), (4196, 0.14251089008853188), (2263, 0.14218683661529713), (488, 0.14218667200131757), (3015, 0.14194564029395002), (1496, 0.14194276517320525), (3843, 0.14181220119323598), (1142, 0.14174933015812302), (3611, 0.14170240645997295), (4050, 0.14170030511300263), (2998, 0.14144008755502613), (1168, 0.14130153300323345), (3128, 0.14114907770155632), (724, 0.14104758394456335), (160, 0.14103854873803656), (1389, 0.14103735053574137), (2737, 0.14098677139397503), (4492, 0.14098139431118356), (578, 0.14093323497969867), (446, 0.14074278909713375), (596, 0.14046823738087258), (4480, 0.14038158417966937), (286, 0.1403740583013831), (4237, 0.14031919385995734), (768, 0.1402668304194142), (2752, 0.14023158245596173), (2281, 0.1402236781175359), (4003, 0.14009965689284615), (391, 0.14003841733978892), (3468, 0.14001971410204958), (2283, 0.14001107645120817), (2864, 0.13999243343397264), (1714, 0.13996186265166213), (1720, 0.13988875995068087), (4276, 0.13982022311898554), (3204, 0.13978739492289888), (2597, 0.13963395848413765), (4336, 0.13956927937717065), (4013, 0.13924933108371065), (2322, 0.13917745989669594), (3772, 0.1391462719741072), (185, 0.13902675612470203), (2451, 0.13899008139728475), (1711, 0.13889662173795955), (140, 0.1388478713936381), (4346, 0.13883122036479104), (926, 0.13883099475637378), (1845, 0.13882310316848406), (3074, 0.1388020588913494), (4149, 0.13875304885433207), (4633, 0.1385524202290567), (4716, 0.13834289487864954), (3539, 0.13827750653501378), (3475, 0.13797198108198597), (3552, 0.1379709455944511), (3537, 0.13790597809255625), (4037, 0.13787811547062542), (3851, 0.13787436209664022), (219, 0.13782502064648555), (4407, 0.13781528460095122), (4718, 0.13771176073118996), (2678, 0.13768993878816047), (1842, 0.13758029641762398), (429, 0.13753712820508907), (3973, 0.13750788698049946), (1704, 0.1374883404066544), (2135, 0.13745391069744423), (4371, 0.13740154403974206), (2701, 0.13733278975123786), (3219, 0.13730280831881586), (2372, 0.13725778628621743), (3444, 0.13711726570678476), (1664, 0.1371121489744774), (233, 0.1369688624283076), (3562, 0.1369318924745101), (49, 0.1368900467719461), (879, 0.1368553851929606), (2873, 0.1368102771466649), (1788, 0.13673007462279527), (1609, 0.13671691145002926), (1524, 0.13669312277652923), (2713, 0.13663607410387832), (1338, 0.13659136341715034), (2358, 0.1365475801513046), (2851, 0.13645169903867843), (4754, 0.13634571957292807), (4082, 0.13633752464331078), (4034, 0.13632298978877003), (275, 0.1363096205577665), (569, 0.13620801655524112), (2269, 0.13615496651724002), (1484, 0.1360997457605169), (1529, 0.1360737364908112), (281, 0.13598514812229326), (4658, 0.13591700540540366), (2507, 0.13590483582508275), (3503, 0.13578482703460215), (137, 0.13575981834977482), (1473, 0.13560274724670487), (4168, 0.13551443877941563), (4571, 0.13549131433847322), (2629, 0.135448805235298), (2944, 0.1353535772693176), (346, 0.1352549915559684), (245, 0.1352440582554499), (1002, 0.13517893942295092), (4173, 0.13517603021968072), (4337, 0.13510089938228864), (2379, 0.13510052787954815), (1165, 0.1350827197990975), (2637, 0.13506456806563655), (3515, 0.13501521110845993), (3178, 0.13489503002963787), (1866, 0.13470620705931258), (4207, 0.13469746397785715), (1383, 0.13465007939892437), (4347, 0.13461722238009344), (2656, 0.13450362817722167), (4113, 0.13450315039664726), (4455, 0.13446629949882946), (2652, 0.13446007281127878), (1700, 0.13445479561205326), (1351, 0.13442768338664723), (4640, 0.13440454359606185), (3483, 0.13436855326902994), (3505, 0.1343482740911233), (2411, 0.13432304101158882), (1189, 0.1342554579279909), (360, 0.1342378576386008), (1999, 0.13419683988052808), (4197, 0.13417193552135465), (3790, 0.134166709876894), (2715, 0.13415981053765738), (3577, 0.1340875782215832), (3234, 0.13408497976421085), (584, 0.13407368943673068), (365, 0.13399164389314996), (1640, 0.13395400870695584), (2730, 0.13391409579772834), (1057, 0.1338846605682721), (1606, 0.13382254053896084), (2261, 0.13378041574922456), (2756, 0.1337524342410706), (915, 0.13371861378003136), (662, 0.13368018376383503), (363, 0.13366688790297399), (196, 0.13362733318297232), (1953, 0.13361193766564353), (778, 0.1336061114316049), (3763, 0.13359673373886877), (4570, 0.1335120681742425), (1647, 0.13329870588259868), (4021, 0.13327736684258698), (3115, 0.1332551872308827), (3816, 0.13301955362915338), (755, 0.1329127740089924), (472, 0.13289814095044097), (620, 0.1328355700035178), (1339, 0.1327856908114486), (4566, 0.13277823288738158), (4334, 0.13270900698704086), (2927, 0.13267637636474175), (1481, 0.13264650789866825), (2662, 0.13257419155613642), (3517, 0.13245497508436352), (2729, 0.13231249258317135), (2284, 0.13231050251368448), (2583, 0.1322913695072199), (3606, 0.13228081491101668), (1465, 0.13224640191558157), (1724, 0.13224233827326454), (2869, 0.13222919371114927), (2121, 0.13222486402902922), (3796, 0.13219812835313066), (3638, 0.1321740931105904), (2661, 0.13211931280560768), (517, 0.1320823124457895), (2669, 0.1320793304558304), (1079, 0.13204222842887697), (4329, 0.13203618711755635), (2102, 0.13202992233570532), (2171, 0.1319744478237628), (1843, 0.13197171340217093), (3221, 0.13194535404839192), (4120, 0.1319170199690784), (3990, 0.13189469800824505), (350, 0.13184637537995175), (3571, 0.13183378893432335), (2831, 0.13182000016587364), (1812, 0.13178378295310952), (2530, 0.13178236195587228), (3375, 0.13177592999663723), (3457, 0.13175955611748041), (3488, 0.13173781256590927), (4671, 0.13172876548584986), (880, 0.13172860622597415), (3794, 0.13171362482257482), (4086, 0.1316985465123538), (1600, 0.1316672423520323), (3140, 0.13166246719251673), (3395, 0.1316393044259319), (570, 0.1316323892761377), (3737, 0.13163193548671223), (3208, 0.13161827705861934), (1703, 0.1315840789426591), (2448, 0.1314955881293881), (4662, 0.13147152134179338), (1371, 0.13145288480445036), (4074, 0.13143734387974598), (2757, 0.13141169503932024), (3555, 0.13123047026001716), (2813, 0.13122250118089857), (2810, 0.13120519879865553), (1474, 0.13114957297534793), (1336, 0.13114835570297473), (1861, 0.13106182139484418), (4032, 0.13104706985801445), (1841, 0.1309094725276725), (2449, 0.13083926592563128), (2329, 0.1306931477458664), (2183, 0.1306519101018538), (3272, 0.13063851865500273), (70, 0.1305310212969061), (4194, 0.13049626189817115), (3185, 0.13046513988525504), (2964, 0.13029519030593156), (2671, 0.13028813438043482), (2029, 0.13026051085468196), (4164, 0.13019938903288855), (2041, 0.13018036478009537), (2796, 0.13013117740955746), (3526, 0.13007379266966587), (2516, 0.13001037234639148), (3276, 0.12992677064025687), (3735, 0.12991192006920554), (1594, 0.12990858562325777), (1255, 0.12988155789292213), (4271, 0.12985828389816004), (4107, 0.12985488764087155), (3628, 0.12981777916764944), (4654, 0.12981614268567515), (1574, 0.12979884740796838), (1276, 0.1297884232068153), (4358, 0.12977558775886264), (3179, 0.1295791375494282), (3286, 0.12927026836221353), (2664, 0.129251829555632), (3263, 0.12921392040154622), (188, 0.12918539081034017), (355, 0.12917235885798867), (1552, 0.129119179122882), (2490, 0.12909795384731027), (3890, 0.1290898261330475), (2604, 0.12906887701147007), (2838, 0.12904541459433647), (1333, 0.12903576798552271), (781, 0.1290050808440847), (3089, 0.128996079978043), (3743, 0.12898955056776862), (4746, 0.12880746786767552), (1907, 0.1287808742843198), (3561, 0.12871473409890202), (3018, 0.1286249248518819), (2232, 0.12861440714366287), (2605, 0.12859237234303061), (4613, 0.12844196314198572), (1356, 0.12842030560604353), (2636, 0.1283757350011447), (3925, 0.1283744224301084), (3298, 0.12830708801810128), (1085, 0.12830439610209116), (3088, 0.12830384330393385), (3076, 0.12828449584804752), (1050, 0.12826743641268906), (3145, 0.12826262874228178), (4421, 0.12826262574468725), (853, 0.12824837980522574), (2683, 0.12823475370873952), (370, 0.12821875247116624), (2703, 0.12813321441384384), (167, 0.1280954455909787), (4372, 0.12795413179907), (4579, 0.12795233448464505), (976, 0.1279509461621471), (4526, 0.12792811866147805), (2783, 0.12790644794880685), (1769, 0.12789873597349108), (3473, 0.1277857123115326), (4223, 0.1277649801006285), (3882, 0.12775828898943392), (2212, 0.12774549579816935), (4064, 0.12768412344348365), (1741, 0.12758470803239985), (3287, 0.1275788766023595), (4562, 0.12754823217720412), (4456, 0.12754664289932963), (3345, 0.12751324407735132), (1794, 0.12748295426889497), (2440, 0.12748041823721185), (961, 0.1274746961010144), (153, 0.1274225056011849), (1246, 0.12739937589460917), (4112, 0.12737963992211673), (4457, 0.12737867932365105), (3610, 0.1273757502023486), (3703, 0.1273675685041627), (3747, 0.12733406612183937), (1166, 0.12729222990092715), (2723, 0.1271983692519995), (1864, 0.12714278643807309), (2550, 0.1271411918901734), (3979, 0.12701956587799454), (4319, 0.1269559902757469), (4444, 0.12694802433589278), (2091, 0.12689152660265324), (4147, 0.12680211837270228), (3578, 0.1268016245589972), (2733, 0.12679611109141795), (347, 0.12674690041188794), (3672, 0.12674355426310543), (1403, 0.12674117619229075), (3656, 0.12668003746781198), (4483, 0.12666404614392957), (802, 0.12665734617162072), (2834, 0.1266187333875326), (392, 0.12659926399304366), (2150, 0.12659129851026604), (1902, 0.12657137497466897), (4420, 0.12655149841420946), (2113, 0.12652592963595172), (3218, 0.12645806788339145), (2473, 0.12644682559701267), (4703, 0.1264009551725905), (1643, 0.12639489529217293), (1958, 0.1263698711465347), (3792, 0.12635153844580443), (764, 0.1263332873362685), (4122, 0.12625608628494964), (4721, 0.126178570891614), (4303, 0.12613474696912763), (1223, 0.12603776449498919), (1868, 0.1260233052632264), (4332, 0.12594594716165203), (1836, 0.1259374784764233), (2560, 0.125923024464148), (2352, 0.12592064571190315), (2488, 0.12588944979394645), (4403, 0.12583743869915978), (1570, 0.1258181793336038), (3166, 0.12580385542965183), (2529, 0.12567996001837858), (2657, 0.12557167590691234), (2684, 0.12556398715681752), (1291, 0.12555963696428155), (847, 0.12553688619289113), (2030, 0.1254203673237518), (1376, 0.12538303215846408), (1016, 0.12521600001991803), (2199, 0.1251881844712901), (4267, 0.12516106351576428), (2005, 0.1251546290714324), (4740, 0.12510933750090383), (3722, 0.1250629651104285), (4195, 0.12502596433345806), (2720, 0.12501894779657527), (3892, 0.12493039074425756), (884, 0.12489506178462047), (1979, 0.12489174093354), (1613, 0.12488280650891975), (3717, 0.12483728750563416), (2659, 0.12483474220637739), (2710, 0.12483315694475926), (4432, 0.12482835918136277), (2540, 0.12479056211148898), (4695, 0.12478494700750213), (3926, 0.12475576953739465), (4396, 0.12474006989105041), (2643, 0.12473306284751451), (3906, 0.1246966288390835), (4146, 0.12466191396120953), (1014, 0.12455106401585093), (1698, 0.12454474419852073), (1162, 0.12452836490292192), (3822, 0.12451966748093339), (1835, 0.12451663548822817), (351, 0.12449728446437129), (2937, 0.12444620404903185), (787, 0.12436568572491508), (2768, 0.12435677381512292), (2257, 0.12429232242353985), (2582, 0.12427971607241399), (2111, 0.12425036031216363), (4705, 0.1242404451925253), (678, 0.12415230880917054), (1495, 0.12414215297827322), (1241, 0.12414055376514962), (2312, 0.12413896659598521), (2763, 0.12413509742668591), (484, 0.12410763635185859), (3523, 0.12410050504401852), (4263, 0.12409569058499706), (2901, 0.12406469300187563), (3078, 0.12404257968363577), (3051, 0.12396782529968718), (1891, 0.12391851693937103), (406, 0.1238877224042376), (3284, 0.12387629219329077), (4599, 0.12384178361826041), (1521, 0.12383127113346604), (1088, 0.12381670035070431), (1634, 0.12378233024486204), (1607, 0.1237779938661985), (1021, 0.12375402689579454), (3159, 0.12369912764062173), (2764, 0.12369357598137916), (2591, 0.12365895106655655), (2717, 0.1236469646096077), (2485, 0.12363093072630645), (2795, 0.12362901314662267), (3227, 0.12358383438262682), (4345, 0.12357023137139189), (967, 0.1234720283161564), (2854, 0.12346383839107233), (3730, 0.12343020412644316), (457, 0.12336566301027459), (2858, 0.12333942158369102), (2137, 0.12331575954533727), (4214, 0.12328742311780637), (2459, 0.12328624663361303), (3685, 0.12318647911963164), (3139, 0.12318548192677883), (4023, 0.12315917653451285), (2579, 0.12314677082921792), (2891, 0.12313408353553235), (423, 0.12312787117573509), (3357, 0.123102382565128), (401, 0.12309568630262444), (2351, 0.12307862989095052), (3681, 0.12307521636042251), (1482, 0.12307276576796602), (1564, 0.12305178504878478), (3975, 0.12304799727787429), (2414, 0.12298200241425235), (1837, 0.12294686853273616), (3428, 0.12291261197671563), (996, 0.12287509297804539), (3297, 0.12285750718426101), (2266, 0.12284825588517982), (2640, 0.12284632519045235), (3275, 0.12280102275050231), (379, 0.12274422576665049), (2744, 0.12267049326640408), (4062, 0.12263612214943587), (2456, 0.12261485350871193), (3137, 0.12251564010460816), (3364, 0.12250140596333953), (954, 0.12250106929726087), (3472, 0.12248851253113124), (2531, 0.1224867031400715), (670, 0.12243011354603064), (2275, 0.12241279226843305), (4351, 0.12239028071272949), (2722, 0.12232753404900412), (2189, 0.12232559301632502), (2320, 0.1222543544887178), (1466, 0.12222846187448233), (3111, 0.12221936403714402), (4612, 0.1222062723380406), (3366, 0.12219358275609705), (1373, 0.12218672968201262), (3482, 0.12218484026597215), (797, 0.1221794848510413), (4411, 0.12216847059019872), (899, 0.1221209866503254), (2840, 0.12211008316979831), (909, 0.12208602553911549), (3009, 0.12208334892610224), (2368, 0.12205872230832485), (451, 0.12205570530897382), (2423, 0.12205210606411708), (2234, 0.12201170065310872), (4202, 0.12194228160643794), (3101, 0.12191477105544853), (711, 0.12189992264495735), (2154, 0.12187001321754407), (2427, 0.12179132445276612), (3040, 0.12178310130881347), (3003, 0.12178007943596544), (2957, 0.12177784807881685), (3847, 0.12176581221681348), (3188, 0.12175860577587963), (928, 0.12175462005018915), (3216, 0.12173576152584366), (3508, 0.12173459190916094), (2673, 0.1217298374260627), (3413, 0.12172717945439629), (2547, 0.1216658583833366), (4009, 0.12164903862767137), (4618, 0.12164357807863148), (2856, 0.1216194261078356), (2989, 0.12158245742735752), (690, 0.12156278398504936), (2201, 0.12156140459515938), (2408, 0.12152239977441585), (3206, 0.12151421822474616), (4118, 0.12147836086633292), (4440, 0.12145825211530985), (2153, 0.12145600432083553), (1846, 0.12139523383081453), (3167, 0.12137432869523009), (3060, 0.12137272857122487), (952, 0.12134841280748758), (3921, 0.12133049596516264), (2462, 0.12131856552761826), (2251, 0.1213074979307596), (2390, 0.12120037358162244), (489, 0.12117859976311655), (4204, 0.12114871111794114), (1309, 0.12114648461311049), (2500, 0.12112301539431584), (4259, 0.12111296527121816), (1706, 0.12110041005071938), (2592, 0.1210982089933131), (2509, 0.12109749589541625), (700, 0.12109458536131158), (4323, 0.12107166427487147), (3441, 0.12106804309250736), (2303, 0.12106544578137646), (1537, 0.12101919451072884), (2595, 0.12100321684069225), (687, 0.12099071268917098), (4485, 0.1209373565615855), (2349, 0.12086981738938218), (651, 0.12086158976812988), (4589, 0.12084713252712966), (2395, 0.12082249546180542), (3673, 0.12080469691476038), (3701, 0.12079751119119468), (1145, 0.12076689116411689), (2407, 0.12076563884877928), (1163, 0.12075440516384221), (2543, 0.12074376893229223), (4737, 0.12071082356623836), (2799, 0.12069120657437075), (2644, 0.12063664395681756), (4239, 0.1206299373993925), (4454, 0.12059796345902024), (3377, 0.12059789913154893), (1285, 0.12058315491313384), (3541, 0.12057447660132865), (2241, 0.1205709890139049), (3361, 0.1205537843960413), (1461, 0.12053918442462659), (1095, 0.12047145846596706), (4701, 0.12045621794977451), (1820, 0.12044812291849867), (3947, 0.12040308320096996), (3266, 0.12038090661273365), (2923, 0.12035694685533087), (2492, 0.12033589363648806), (2889, 0.12032589638514658), (2161, 0.12026261599561437), (3476, 0.1202508620732256), (2672, 0.12018620854477387), (3949, 0.12014795586604773), (1437, 0.12006308156811399), (1103, 0.12005223088305346), (3865, 0.12004262969763305), (3339, 0.12002585472242844), (2528, 0.11999802046840129), (1548, 0.11994089821732752), (208, 0.11993849644430095), (1112, 0.11992802680525418), (773, 0.11992788718432504), (2421, 0.11990016061754045), (2738, 0.11985873836934922), (3613, 0.11976298620579741), (2619, 0.11974275722339944), (2381, 0.11968358179797287), (512, 0.1196683067587729), (2245, 0.11966169220516089), (2585, 0.11964997329257068), (2518, 0.11964014822685048), (409, 0.11963913471761618), (337, 0.11962929000669013), (3351, 0.11960042395958587), (297, 0.11959961455388876), (4617, 0.11959874505907983), (1292, 0.11959538765925033), (4704, 0.11956813695671266), (454, 0.11956670458047178), (4430, 0.11951812833275255), (1615, 0.1195181218807244), (3052, 0.11951611853941248), (735, 0.1195139048628283), (3754, 0.11948546488122053), (1049, 0.11946444842309054), (3813, 0.11946179545797393), (4499, 0.11941841379196451), (1755, 0.11934073364445376), (3220, 0.11926410278403704), (872, 0.11923509814299252), (946, 0.11922397506773613), (369, 0.11920846673222804), (58, 0.1191906558841116), (4327, 0.11917892909868914), (2922, 0.11914746762014121), (3695, 0.11914070404901027), (2569, 0.11912615078071731), (4451, 0.11910402752371115), (3524, 0.11905043418288687), (751, 0.11902667218112166), (2404, 0.11902075675025654), (3844, 0.11901850464074214), (2236, 0.11897488317729822), (3168, 0.11894625791921414), (3243, 0.11892892604751085), (1046, 0.11892749946664674), (3055, 0.11892054874667049), (4270, 0.11888275086907135), (3789, 0.1188768166603666), (2537, 0.1188726921343952), (4625, 0.11885133768173851), (3043, 0.11884463714276788), (1114, 0.11884356782089829), (594, 0.11883823283127762), (490, 0.11881329379413261), (2581, 0.11880838656192005), (4291, 0.11880139240702878), (3933, 0.11879360292515734), (2117, 0.11879220653270091), (4709, 0.11876745747536475), (856, 0.11866436098716159), (4666, 0.11863453892676921), (404, 0.11861526743798248), (1883, 0.11858682932670198), (2870, 0.11858073630785884), (1132, 0.11857874630259085), (2416, 0.11856783789066334), (2450, 0.11856412743223436), (4242, 0.11856232261647659), (2769, 0.11854071040845651), (4691, 0.11852392965782653), (4017, 0.11852367371088762), (2882, 0.11851387093876004), (2775, 0.11847942723574947), (3635, 0.11843817100443013), (2188, 0.11842241722565865), (279, 0.11839390963471431), (3042, 0.11838115805595108), (4660, 0.11837347673073854), (1307, 0.1183699150944356), (3620, 0.11836691753841858), (3054, 0.11834434946441018), (2244, 0.11833829805561039), (2892, 0.11832741364226701), (335, 0.11832287333277403), (3094, 0.1183087472109064), (2883, 0.11830151893598294), (298, 0.11825559706977459), (3154, 0.1182234226000961), (2794, 0.11822235357086337), (1477, 0.11820786503678507), (2909, 0.11819576674323116), (3177, 0.11818833980110435), (109, 0.11817826282949505), (901, 0.11816437884558596), (2452, 0.1181634581505784), (2337, 0.11815236415331282), (4115, 0.11814297836414038), (947, 0.11812817624707096), (4260, 0.11810642538026193), (395, 0.11807491169308425), (39, 0.11807473053470245), (982, 0.11805323226086888), (3550, 0.11804939726694968), (2210, 0.11802561838617841), (2307, 0.11802263544232341), (164, 0.11799499470742654), (2235, 0.11797736374229875), (2740, 0.11797291147222633), (3942, 0.11796363678623963), (3588, 0.11795289803681662), (154, 0.11794497152985368), (2990, 0.11793625003520426), (2817, 0.11793215054549878), (4388, 0.11791084197698584), (3948, 0.11787833162509408), (72, 0.11785545812503893), (3291, 0.11778455999950463), (1208, 0.11778093613250604), (2731, 0.11776233334807074), (3633, 0.11775851561651651), (2519, 0.11775588472241394), (4749, 0.1177459297372701), (201, 0.11773707971751024), (4559, 0.11772702563461522), (3363, 0.1176962087881358), (3830, 0.1176857228528511), (4725, 0.11765296934703785), (4222, 0.11764337504553059), (2295, 0.11763846628847706), (2689, 0.11760901045227423), (1196, 0.11760747189983162), (4606, 0.11758529207071645), (2884, 0.11757371165735227), (2319, 0.1175673715656412), (4142, 0.11755108793442141), (2009, 0.1175259407061285), (4529, 0.11752189437504725), (2327, 0.11751298753814834), (2434, 0.11748998999788753), (2555, 0.11747959883456201), (3022, 0.1174670214474332), (2157, 0.11744888327517924), (4700, 0.11743112326412769), (301, 0.11739544433043693), (2310, 0.11738732988033834), (2182, 0.11738441945998909), (4221, 0.11736264840524137), (2095, 0.11731149973666043), (3862, 0.11728370586966501), (4584, 0.11727975142688539), (1712, 0.11727663413832333), (582, 0.1172558605791089), (2339, 0.11722850191547841), (3572, 0.11721537566569007), (549, 0.11721437702642562), (2207, 0.11721085669509423), (4756, 0.11719412909619958), (1454, 0.11718749561419758), (3479, 0.11712093414348367), (736, 0.11709601897469399), (229, 0.1170948099054395), (849, 0.11709450316969872), (1768, 0.11708276567830429), (4611, 0.1170778534106016), (2019, 0.11706081577522653), (3448, 0.11704407075766601), (4646, 0.11702431588857856), (4031, 0.11701741084537413), (3939, 0.11700835160525162), (1198, 0.11699142757373178), (1799, 0.11695707121125276), (4209, 0.11694684444831804), (839, 0.1168849665025998), (4047, 0.11687798164532394), (3502, 0.11686528848138826), (3554, 0.11685378092912296), (2410, 0.11684827873222711), (187, 0.11684768868347016), (368, 0.11683916331694617), (3766, 0.11683176412554308), (2032, 0.11676504470023849), (2785, 0.11676467964177062), (4028, 0.1167631950236251), (3964, 0.11675216320158475), (2694, 0.11674750996244133), (334, 0.1167400075911346), (971, 0.11673256754355008), (1800, 0.1167282259798627), (2839, 0.1167028136860112), (3110, 0.11669246185780344), (3741, 0.11668937564193209), (2196, 0.11668844778880465), (4628, 0.11668018020336611), (3403, 0.11666264109936356), (912, 0.1166596253911722), (3858, 0.11665527082444249), (4506, 0.11663887327921628), (1525, 0.11663504212055223), (1023, 0.11663174329515226), (3846, 0.11658610892359476), (4410, 0.1165808505408464), (4653, 0.11656011357100018), (1939, 0.1165582844217176), (2494, 0.11654481794205739), (859, 0.11652550515175628), (2861, 0.1165223140150851), (2655, 0.11650846381495128), (2479, 0.11650006624912346), (4433, 0.11644576761028369), (3721, 0.11644383293014969), (863, 0.11643665937745097), (1538, 0.11637403868879101), (3511, 0.11636398496604244), (817, 0.11633435222040192), (4295, 0.1163203872076681), (2951, 0.1162446067614692), (3104, 0.11620650366951402), (4730, 0.11620125886515893), (4127, 0.11619737215406348), (4172, 0.11619552027004365), (2109, 0.11619343342599489), (2932, 0.116179026663904), (2184, 0.1161743659622431), (4490, 0.1161289466397765), (2589, 0.11611769768453607), (4546, 0.11610214118414919), (3350, 0.11608353614556821), (3442, 0.11607373532640651), (3172, 0.11607367472796101), (47, 0.11606126400614752), (1104, 0.1160508547584156), (4190, 0.116031706913425), (3804, 0.11603002959369729), (4061, 0.11601579817981807), (1328, 0.11597817032856386), (2625, 0.11597715561408352), (2483, 0.11596352351312196), (4692, 0.11595302196299428), (686, 0.11592363595382493), (791, 0.11591319870038219), (2814, 0.11590731376717908), (4033, 0.11590541022221613), (4484, 0.11587198498882331), (3004, 0.11585902206473539), (681, 0.11583839299919793), (2845, 0.11579668242956033), (2384, 0.11577901665746793), (3649, 0.11574997388263321), (1520, 0.11574744324580105), (3414, 0.115711366276392), (2645, 0.11569976347308492), (2952, 0.11569045963825808), (345, 0.11567907942865088), (2559, 0.11567827109751687), (522, 0.11565809212703883), (2082, 0.11562685908432851), (3702, 0.11559653626515068), (458, 0.11559507374833292), (2179, 0.11559190158968023), (4418, 0.11558534862177565), (1258, 0.11558078914916908), (4101, 0.11558039359045925), (1968, 0.11556349270332918), (4518, 0.11554241228651048), (2832, 0.11552632510752994), (524, 0.11549509585583378), (4258, 0.11547283983934126), (1878, 0.11540059767399624), (3148, 0.11538813239827114), (3415, 0.11535844339941634), (428, 0.11534870352963049), (2574, 0.1153399563486166), (2570, 0.11531727159764686), (1954, 0.1153169493657165), (4198, 0.11530594075565608), (4124, 0.11530361385767332), (4711, 0.11527748729694452), (795, 0.11523531900784598), (1531, 0.11523111477857798), (4058, 0.11518896735526633), (3384, 0.11518812078630022), (4140, 0.1151830263014747), (2486, 0.11518296149139681), (2601, 0.11517140112599131), (939, 0.11514075146731655), (2708, 0.11512161271690685), (2060, 0.11511758888895252), (2628, 0.11511207045905832), (2198, 0.11510678731235739), (2772, 0.11507881695478953), (3149, 0.11505391157972178), (1889, 0.11504935499009138), (2536, 0.1150431658813193), (3639, 0.11502217448106415), (1533, 0.11502009331909165), (900, 0.1150056171489521), (2436, 0.11493774597428538), (3991, 0.11492185022905993), (3800, 0.1149194954731841), (3157, 0.11490010151510675), (3408, 0.11488199517086821), (4307, 0.11487893164393424), (2553, 0.11486660228022874), (2273, 0.11485906468257978), (3762, 0.11481337175912758), (2383, 0.11480747511009902), (1911, 0.11480144359036343), (3389, 0.11479732798311751), (4696, 0.11479213193622992), (4340, 0.11478943793501893), (2948, 0.11476569127809445), (3127, 0.11472979306880113), (3292, 0.11472803386730225), (531, 0.11471721050920372), (3758, 0.11466391697325767), (4537, 0.11464459422927999), (2075, 0.11464211406277784), (1447, 0.11463663956136236), (4551, 0.11462476282949245), (2624, 0.11462368822953269), (1961, 0.11460232101307785), (3141, 0.11459693639969237), (481, 0.11457924892209506), (1141, 0.11457696247126013), (4174, 0.11455346489303068), (2495, 0.11455216790937175), (3283, 0.11452008330490893), (998, 0.11449241321814979), (4515, 0.11448482831202926), (4051, 0.11446280389152681), (2333, 0.11445283020860049), (627, 0.11444486625283265), (2822, 0.11443701380671896), (2539, 0.11443584838097516), (4293, 0.11443543759162986), (1321, 0.11440307898645397), (1766, 0.11440294707074924), (1345, 0.11438395482903851), (2218, 0.11437627973119284), (4732, 0.11437533409766762), (3439, 0.11435228220820062), (3469, 0.11435174169839599), (3267, 0.11434419431961369), (3081, 0.11433263887614342), (413, 0.11433213443902723), (4019, 0.11432259538500139), (2037, 0.11430208737791482), (410, 0.11430168186513522), (679, 0.11429778576702226), (2425, 0.11429484794105725), (2340, 0.11428518012352222), (4338, 0.11426467147360578), (708, 0.11425749561323878), (3151, 0.1142365891501022), (45, 0.1142167551626461), (1071, 0.11421348465111793), (3938, 0.11418905331432304), (3739, 0.11413689522854022), (1951, 0.11411412765957894), (706, 0.11411228521378826), (2590, 0.11410252935193896), (4423, 0.1140952071793422), (4707, 0.11407404736001946), (3312, 0.11406587524148498), (875, 0.1140575227851051), (3175, 0.11404369649238887), (1485, 0.11403336566473979), (845, 0.11401299351320043), (646, 0.11399042979857371), (4169, 0.11398924019193483), (3734, 0.11396739471205343), (1518, 0.1139618316018079), (3936, 0.11392965241826827), (462, 0.11392815841151553), (2250, 0.11388701757601355), (2228, 0.11388689781529976), (4479, 0.1138851618308271), (4040, 0.11387169403825348), (2928, 0.11386838655025067), (1335, 0.11386439892196601), (2346, 0.11386425470829603), (3226, 0.11386220081020743), (3901, 0.11385537339244198), (905, 0.11384837014227421), (1398, 0.1138460848798551), (2255, 0.1138433539847466), (1669, 0.11384033572783431), (1786, 0.11383156859526647), (612, 0.11382456902159387), (3715, 0.11382413556213815), (1025, 0.11382407915764196), (3484, 0.11379869417759295), (2430, 0.11378676659537908), (1733, 0.11374343632318229), (819, 0.11374138027693413), (2324, 0.1137405471993451), (456, 0.11374048957143977), (4609, 0.1137399229173016), (2363, 0.11372127108453564), (1919, 0.113657635920633), (507, 0.11365175569677692), (4203, 0.11365023757741158), (1803, 0.11362212513129294), (3322, 0.11361703385754245), (4114, 0.11359642888611107), (3805, 0.11358644273113339), (2147, 0.11357755441591459), (3950, 0.11356439099827886), (1666, 0.11355471848853174), (3262, 0.11355266146759178), (340, 0.11353582546989179), (4084, 0.11352684647263447), (1479, 0.11349409396328593), (4177, 0.11349051292199719), (2468, 0.11348921560895416), (1231, 0.11347230888007677), (2282, 0.11344219444311204), (4166, 0.11343931331738795), (2172, 0.11343862976686825), (2385, 0.11342347814097171), (3650, 0.11339452224275941), (2941, 0.11337791826126387), (4676, 0.11337133770999745), (1955, 0.1133557253256833), (4022, 0.11334331371703237), (4020, 0.11333344534380332), (513, 0.11332828171832961), (1489, 0.1133145781547322), (4219, 0.11329491605343832), (4138, 0.11329285904993162), (689, 0.11327838548397581), (3039, 0.11327557292060099), (235, 0.11327364729661973), (842, 0.11326547676296665), (3951, 0.11326245368603541), (1204, 0.1132613514691021), (714, 0.11321972162189535), (4281, 0.1131891827130789), (4230, 0.11318187594798283), (3903, 0.11318053018991062), (1222, 0.11315796341598904), (1008, 0.11313614135612426), (4283, 0.11312637502163804), (1406, 0.11308905171327385), (1343, 0.11306953976925699), (2342, 0.11303345005766313), (2750, 0.11301981724700291), (2949, 0.11299739814883238), (2350, 0.11299155568066288), (443, 0.1129907464037622), (1806, 0.11298255326778933), (193, 0.11295073438888681), (3425, 0.11295029589842116), (3728, 0.1129352285951219), (3277, 0.11292398535975404), (4370, 0.11291735218729235), (2663, 0.11289394874729514), (1058, 0.11289195797656318), (769, 0.11288329476956768), (2688, 0.11287579746045316), (3992, 0.11284328706119102), (2286, 0.11283186814987656), (2079, 0.11281071908622395), (4344, 0.11279606874585361), (3869, 0.11279311667682729), (4342, 0.11275851511207463), (2844, 0.1127502165358044), (985, 0.11274174502321274), (1013, 0.11273798363423684), (2868, 0.11269342222610257), (136, 0.11265935358149164), (2180, 0.11265009461839462), (2958, 0.1126303577901026), (4321, 0.1126097619185561), (4400, 0.11260168822287579), (3303, 0.11259020250847068), (3299, 0.11258451963398272), (3255, 0.11258139601293621), (955, 0.11255718813952034), (4699, 0.11255525587659157), (2012, 0.11254479439127181), (89, 0.11253515398516654), (177, 0.1125217090666389), (2852, 0.11251973657598643), (1963, 0.11251801211172147), (2793, 0.11249586581031165), (2144, 0.11249095022705129), (436, 0.11247848751068759), (977, 0.11246763300199303), (2666, 0.1124597528470102), (2271, 0.11244741978342057), (4038, 0.11243877755277515), (1084, 0.11242148641063729), (87, 0.11241800032207354), (3477, 0.11241222575935056), (3960, 0.11239720433867069), (2696, 0.11239477817845209), (3098, 0.11236848294243112), (3510, 0.11233392344087986), (3759, 0.11233208192161384), (2400, 0.11232672600338865), (1348, 0.11230763909827089), (1178, 0.11230696302553869), (3883, 0.11228200657070742), (2751, 0.1122802083507816), (563, 0.11223237242955933), (889, 0.11221913939056649), (460, 0.11220123788438029), (1784, 0.1121857610194699), (4187, 0.11218467669658533), (614, 0.11218455777768345), (2125, 0.11217040638277284), (2561, 0.1121623135735972), (1235, 0.11216116975066252), (299, 0.11216023738076261), (2956, 0.11214604243117446), (2371, 0.1121351803428901), (1427, 0.11213344682499873), (4496, 0.11212727748171253), (1295, 0.11211810692866984), (4380, 0.11211675521462439), (1778, 0.11210483044973137), (91, 0.11210010818842348), (1540, 0.11209161023750057), (3848, 0.11208336194196801), (246, 0.11206971328634761), (920, 0.11206692345561842), (1155, 0.1120225762987583), (3962, 0.1119857549850676), (1110, 0.11198477939903367), (3891, 0.11196345536442504), (3866, 0.11195286513136381), (1387, 0.1119083262711855), (4102, 0.1118988943494929), (1887, 0.11189578912935523), (4516, 0.111883841041361), (3382, 0.1118815808439989), (4477, 0.11186692887364857), (4262, 0.11185592371405305), (1762, 0.11183532773587992), (3708, 0.11183338029271413), (4710, 0.11183227790324372), (1325, 0.11182890071259323), (2739, 0.11182860713464784), (1363, 0.11180013348245833), (3740, 0.11179741944104152), (1169, 0.11179307070448602), (911, 0.11179002456124709), (2259, 0.11178492252322585), (2158, 0.11176334779130612), (1850, 0.11176138397174586), (830, 0.11175206362105945), (2226, 0.11174667648030949), (1561, 0.11174418777485418), (3651, 0.11173592410120775), (4333, 0.11173394394100432), (1425, 0.11172374978154184), (4066, 0.11171617922184769), (2875, 0.11171520504102578), (935, 0.11171196010076856), (1983, 0.11170093682296062), (715, 0.11168534147652281), (3087, 0.11166691101088946), (2915, 0.11166676864573791), (2638, 0.11163566767962654), (2600, 0.11161788664494915), (3643, 0.11161412437639524), (1486, 0.11160855629359435), (1488, 0.11160666920743385), (4170, 0.1116028935521984), (581, 0.11159905613327444), (4446, 0.11159700510410804), (729, 0.11157514389006533), (1940, 0.11156346215172315), (1829, 0.11154325652735943), (4643, 0.11151943631446887), (102, 0.1114903159557736), (3696, 0.11146645127315903), (4464, 0.11145782239722099), (3828, 0.11145633013431086), (100, 0.111454502029643), (3424, 0.11144197979773547), (3988, 0.11144025463756858), (4186, 0.11143841170779205), (600, 0.11142762857568628), (3354, 0.11142408971708372), (2675, 0.11142354208830053), (3803, 0.11140510872378719), (3905, 0.11140508347949804), (3604, 0.11139451795878905), (1456, 0.11139302527763621), (257, 0.11139105678271237), (2166, 0.11138733242194433), (3053, 0.11134458583894061), (2947, 0.11132366311188656), (2903, 0.11130539230506534), (4398, 0.11130368541183613), (806, 0.11130315217906042), (1637, 0.11130167725249093), (3397, 0.1112879172807992), (4108, 0.11127289428227366), (1130, 0.11126867410390497), (3831, 0.11125959354227431), (4302, 0.11125741258093315), (2099, 0.11125104859584219), (793, 0.11124309105534085), (3857, 0.11123640798095272), (4494, 0.11122774876208884), (1109, 0.11119508527821234), (1876, 0.11119410979446719), (324, 0.11116402372734212), (4369, 0.11114524504334981), (4747, 0.11112875628666596), (1015, 0.11112338101148676), (2100, 0.11110951543598468), (731, 0.11108788862438143), (4016, 0.11108629488839804), (4368, 0.11106169081068362), (1849, 0.11105814640818436), (2732, 0.11102420328522623), (3485, 0.11101729859619226), (622, 0.11101516458947043), (2433, 0.11099001561582399), (499, 0.11098934012996188), (601, 0.11098049630717137), (1929, 0.11097380273340919), (448, 0.11096409433088315), (4538, 0.11094450295179462), (2802, 0.11094016877622542), (254, 0.1109240573892703), (585, 0.11092182053994219), (3238, 0.11088795540425819), (3239, 0.11088785883023344), (4594, 0.1108857904919381), (1006, 0.11087886654470344), (470, 0.11086237084159209), (526, 0.11084811200646015), (61, 0.1108455735794258), (3010, 0.11084172003142066), (3190, 0.11082896247060872), (2223, 0.11082353734493923), (1138, 0.11080120448513366), (3776, 0.11079346051564205), (4449, 0.11076985632941874), (1532, 0.11076957450494648), (1815, 0.11074371960417423), (277, 0.11073485150145443), (385, 0.1107221415218762), (4208, 0.11072036660522697), (3241, 0.11071649794218119), (530, 0.11067126360770514), (4469, 0.11066469479412105), (2996, 0.11066260958617717), (425, 0.11062361522178449), (1923, 0.11062304113576571), (2721, 0.1106043509457774), (4452, 0.11059213663594457), (101, 0.11058077598204355), (1771, 0.11057568684762649), (3249, 0.1105702253240778), (2633, 0.11055632922052006), (2685, 0.11054774348487201), (1229, 0.11054004034322888), (4656, 0.11052235217715896), (4647, 0.11051716845002245), (2086, 0.11051380381681747), (2878, 0.11050910255273587), (2420, 0.11050687040305701), (3117, 0.11050447407622827), (3687, 0.11049413332882287), (4119, 0.11049248642674164), (2112, 0.1104890831778968), (4731, 0.11048826127071326), (405, 0.1104759850665351), (4544, 0.11046490585150272), (1393, 0.11045357697479304), (4024, 0.11039583853551929), (2921, 0.11038942316506072), (312, 0.11038479856762663), (434, 0.11038069730925124), (3768, 0.1103787176912636), (2588, 0.11034980084634033), (3314, 0.11034397222311661), (1047, 0.11033479622984119), (813, 0.11032739037455346), (2983, 0.11032583412135334), (3370, 0.11031200585875059), (3202, 0.11030629016012906), (3557, 0.110299572978286), (576, 0.11029565116242289), (3683, 0.11029172227945372), (2306, 0.11029030429273008), (3109, 0.11028831743492247), (4045, 0.11025231199371548), (3001, 0.11023828512446067), (1192, 0.11023636394003511), (2614, 0.11021240215903676), (4465, 0.11021121334217174), (2511, 0.11020478747531), (4150, 0.11019099562275776), (2254, 0.11018088024540341), (1271, 0.11017887263036992), (455, 0.11017827065862978), (1621, 0.11017580956520048), (1713, 0.11017119475067008), (1243, 0.11016959516251365), (4335, 0.11016636662297279), (2564, 0.11015400717439973), (4111, 0.11014640313938273), (2939, 0.11010208393740195), (3013, 0.11010058984058556), (3049, 0.11010058153741895), (4160, 0.11009962578830683), (4624, 0.11006541504331631), (1913, 0.11005873393623018), (1365, 0.11004664098120885), (2916, 0.11003248776008939), (491, 0.11002771219853223), (3884, 0.11002678845718762), (629, 0.11002550353956514), (1368, 0.11002532225349429), (3281, 0.11001572600689342), (35, 0.11001329940951989), (3536, 0.10998659906665058), (1206, 0.10998409360353728), (950, 0.10998313556256965), (3592, 0.10996748553820174), (4659, 0.10991676633474089), (1767, 0.10991143718137711), (1997, 0.10990447132692097), (3972, 0.10989529906605822), (949, 0.10988548727709675), (1918, 0.10987935650707631), (2455, 0.10986062833413907), (2192, 0.10985997683900074), (169, 0.10984816322735769), (4375, 0.10983874520573299), (3995, 0.10982418688320734), (2066, 0.10976219213576902), (3036, 0.10974898202564871), (846, 0.10974732715405248), (2357, 0.10974692579046556), (308, 0.10973372854903564), (2308, 0.10971866308866884), (683, 0.1097150906522703), (2293, 0.10968697335070915), (1731, 0.1096777850659005), (1121, 0.1096743743709961), (4297, 0.10967086878308653), (3574, 0.1096552895902009), (162, 0.10963631895275013), (2968, 0.1096267325063017), (2438, 0.10962336058658273), (3961, 0.10961748754171058), (523, 0.10961531329113189), (3778, 0.10961252032112527), (3751, 0.10960950678701942), (3922, 0.10958035845761746), (2557, 0.10956487397391663), (930, 0.10953716953666653), (3996, 0.10952698591944432), (2904, 0.10952421774620422), (4306, 0.10952373751893982), (4250, 0.10951063396484102), (4076, 0.10950809748503525), (3385, 0.10948154826491863), (4462, 0.10946554760595088), (560, 0.10944692588605896), (2758, 0.10943991151359458), (516, 0.10943728618627448), (4724, 0.10943523766829437), (3449, 0.10942612016665774), (3143, 0.10941969089184872), (3189, 0.1094167570276031), (4521, 0.1094027982959265), (3251, 0.10939120004478478), (342, 0.10938617815164618), (1442, 0.10937801499605748), (3832, 0.10937060021533587), (1450, 0.10936235836936392), (4245, 0.1093617508540225), (2249, 0.10935144323189652), (3025, 0.10932367933385236), (904, 0.1093178076063211), (1100, 0.1093130237157647), (914, 0.10929360796596112), (1436, 0.10927972844448697), (550, 0.1092566526876059), (2143, 0.10924607191126504), (2515, 0.10924558205606184), (207, 0.1092433305754497), (728, 0.10924177717717316), (1542, 0.10923046348153517), (3752, 0.10922801906525974), (682, 0.10921650281019331), (1697, 0.10921171082105843), (4039, 0.1092034232085519), (73, 0.1091881393569013), (674, 0.1091434469823194), (2026, 0.10914323969932112), (1043, 0.10912456302528775), (4136, 0.10911757786914646), (2123, 0.10911179842961041), (1443, 0.10910686260312917), (4395, 0.10908660134727666), (4002, 0.10907288171217658), (990, 0.10907064633822704), (1898, 0.10906748382958593), (2116, 0.1090578163639419), (1217, 0.10905261558339602), (1254, 0.10903168568895145), (1782, 0.1090106137002175), (623, 0.10900558358110522), (3912, 0.10900104297632039), (3450, 0.10899747365734418), (2328, 0.1089832710350659), (3353, 0.10898199907804804), (3121, 0.10898105202795613), (1541, 0.10897029724246078), (3033, 0.10896630188027233), (1848, 0.10895880015034727), (3264, 0.10895512695592081), (673, 0.10894734827398363), (891, 0.10894694788187186), (1191, 0.10894078353257236), (1111, 0.1089170386890034), (4125, 0.10890405191085338), (3230, 0.10890210378514492), (4572, 0.10889673293093606), (1890, 0.10884929710293592), (3521, 0.10883754279913194), (4185, 0.1088147123715211), (1926, 0.10881139488100193), (344, 0.10881097230015795), (2375, 0.10881006250354835), (1009, 0.1088053076564325), (407, 0.10879186981470709), (3183, 0.10878499186486289), (1224, 0.1087696087209682), (485, 0.1087663785044168), (3269, 0.10874303521038141), (2187, 0.10873743445522227), (3440, 0.10873392250935578), (2181, 0.10873184770503344), (4580, 0.10872657298779578), (676, 0.10872357217466387), (628, 0.10872304123749502), (447, 0.1087009128588077), (3976, 0.10867882183215448), (716, 0.10863695039710725), (430, 0.1086066566919822), (754, 0.1085851254559418), (2616, 0.10855788033116374), (2140, 0.10855449921799125), (2435, 0.10853274562957248), (3271, 0.10853056901662048), (1298, 0.10852805624384222), (834, 0.10852311694321404), (739, 0.10851033225742909), (2301, 0.10850528457583067), (3516, 0.10850175142317794), (278, 0.10848858513796539), (2513, 0.10847653344440535), (2470, 0.10847184706596097), (630, 0.10846583483082886), (4397, 0.10845277957731873), (3874, 0.10845217002570214), (1858, 0.10844858068201223), (1264, 0.10843944134693431), (4723, 0.1084361824237802), (2617, 0.10842280941597046), (3080, 0.1084152290339871), (3678, 0.10841334938052348), (2493, 0.10840984544713309), (1051, 0.10840649519418512), (4324, 0.10840222923038824), (1507, 0.10839869429871204), (1935, 0.10839444662676148), (3677, 0.10838577495713411), (1792, 0.10836852597558856), (424, 0.10836153198355213), (1759, 0.10835811271572791), (4121, 0.10835368654789357), (326, 0.10833819574627689), (4574, 0.10832792924519431), (2185, 0.10830639169301244), (320, 0.10830420877258994), (1962, 0.10830143176023141), (2709, 0.10830052669260627), (3612, 0.10829557992566684), (3027, 0.10829508111899382), (841, 0.10829403747638373), (888, 0.10828489433872569), (1116, 0.10828343028337419), (3186, 0.1082832370247096), (2797, 0.10824905845960545), (3242, 0.10822656354710909), (2021, 0.10822148182664985), (1805, 0.10821330164657757), (1678, 0.10821157624077889), (1322, 0.10820715053194853), (3270, 0.10820040984572475), (760, 0.10819674156211398), (2219, 0.10819573816436949), (2549, 0.10819512283851712), (3123, 0.10818967787369292), (2879, 0.10816814728321238), (4130, 0.10814837557401354), (1498, 0.10814538879806086), (709, 0.10811908338843791), (2830, 0.10810295774968084), (3544, 0.10810059585369196), (4619, 0.1080872725917518), (2966, 0.10808156470885655), (3781, 0.10806672876439599), (3699, 0.10806001431761454), (825, 0.10805838964467773), (3532, 0.10805079848013273), (4482, 0.10804228597328923), (4103, 0.1080415069042199), (774, 0.10803783174867569), (3998, 0.1080308163653527), (2077, 0.10802638872851968), (896, 0.10801915511461006), (4631, 0.10801706099231209), (1097, 0.10801652598299206), (2848, 0.10799840249957851), (1300, 0.10799528874714585), (445, 0.10799048073741094), (2388, 0.10798290955942112), (4720, 0.10796980927937692), (371, 0.10796720376591266), (3999, 0.10795757041180731), (3097, 0.10794987882477991), (3601, 0.10794670033510934), (3977, 0.10794524596285585), (546, 0.10791582098100967), (1228, 0.10789477561402097), (2790, 0.10788823076746197), (2353, 0.10788687350384785), (249, 0.10787749422040481), (1984, 0.10787152930269903), (3581, 0.10785277798537178), (1451, 0.10784799502551375), (4331, 0.10784367071753805), (4298, 0.10782136040723202), (98, 0.10779593642199256), (3031, 0.10777351486320944), (3605, 0.10776113048762224), (1924, 0.10775728500562441), (3775, 0.10773463803864279), (2047, 0.10773033483973672), (738, 0.10772582886894418), (1588, 0.10772163335065049), (4116, 0.10771680390703665), (2094, 0.10769698139790611), (713, 0.1076807982139435), (124, 0.1076748398536021), (1925, 0.10766536322147899), (3335, 0.10766404401889988), (1421, 0.10766333135375816), (107, 0.10766123337552118), (2405, 0.10765985262569643), (4755, 0.10765037673875744), (4474, 0.10764411248714247), (4514, 0.10764321765066867), (145, 0.10764151495892313), (204, 0.1076296231332024), (2258, 0.10762626905728222), (4601, 0.10761908486669049), (4576, 0.1076071580912422), (418, 0.10760509337335848), (657, 0.10758795643293785), (3427, 0.10757998912736054), (2229, 0.1075798029014438), (2778, 0.1075738095085582), (910, 0.10757377562651455), (4092, 0.10757326489169226), (3463, 0.10757299465199802), (1702, 0.10756954332891791), (666, 0.10756875368056844), (62, 0.10756625284910688), (1064, 0.10755258501636819), (2208, 0.1075503375107186), (4557, 0.10753343833911228), (1516, 0.10752706267616818), (2712, 0.10752282234659319), (1936, 0.10751755685178008), (4218, 0.1075053789677036), (3192, 0.10750231686758727), (3744, 0.10749040060894435), (4460, 0.10747886643363166), (2049, 0.10747522013958956), (3867, 0.10747445602321905), (2454, 0.10746990721053463), (3187, 0.10746473651255774), (225, 0.10745605846573801), (1663, 0.10745430241496741), (978, 0.10745136219984833), (384, 0.10744034705274201), (508, 0.10743069095426203), (2807, 0.10742602097971397), (1381, 0.10741469388571216), (3529, 0.10739972436525504), (4240, 0.10739770548721256), (4698, 0.1073919084358598), (1472, 0.10738821844433977), (4117, 0.10738746928150615), (3376, 0.10738566553350293), (3907, 0.1073804096674494), (2072, 0.1073743851416865), (2972, 0.10737373702669437), (2993, 0.10737054189479721), (2101, 0.10736864449020847), (38, 0.10734493336710646), (3839, 0.1073411737676977), (292, 0.1073390600680586), (4630, 0.10733838422548567), (4330, 0.10733616589434163), (4106, 0.10730777758693696), (3682, 0.10730631093701636), (3802, 0.10730282040302078), (3182, 0.10729850015423843), (2963, 0.10729655515796879), (3984, 0.10727009020034708), (1349, 0.10726479739259535), (969, 0.10726255969090784), (1077, 0.10725206419545753), (3797, 0.10723983114066764), (3203, 0.10723301853439493), (1757, 0.10723118026060179), (1865, 0.10722772205451694), (2415, 0.10722644248172783), (3779, 0.1072197173496697), (2554, 0.10720730968198101), (1689, 0.10720501654642346), (2741, 0.10718396794999613), (402, 0.10716537821825528), (3587, 0.1071572928044082), (4741, 0.10715183202577523), (1593, 0.1071469342028643), (2626, 0.10713345096553364), (3103, 0.1071331930054391), (3388, 0.10713066560318578), (3810, 0.10712693239950007), (4604, 0.10711907340187087), (3235, 0.10711860709059938), (4211, 0.10710925429482471), (2924, 0.10710849659200328), (4046, 0.10710778951245482), (2837, 0.1071028307539807), (2525, 0.10709097510501457), (3514, 0.10707794684514083), (3124, 0.10707471487434647), (3560, 0.10707324974822867), (4226, 0.10706292826546172), (2006, 0.10706006424729514), (3889, 0.10704950716332579), (3594, 0.10703975393525046), (2982, 0.10703664463331544), (1358, 0.10702803468968827), (3344, 0.10702065181570954), (3497, 0.10700898835024215), (3358, 0.10700506729288857), (4364, 0.10699720572650193), (432, 0.10699282925381716), (3791, 0.1069881378034869), (3020, 0.10698746090408152), (4535, 0.10698493121987297), (3233, 0.10698076132270266), (2874, 0.10697826433833534), (3108, 0.10697411592532385), (4697, 0.10696898653350574), (808, 0.10696186980946805), (2727, 0.10696113958956599), (3824, 0.10695970218188938), (3924, 0.10695778130072411), (4549, 0.10694679886431317), (1429, 0.10692909100075276), (4757, 0.10690073177314953), (2193, 0.10689441994655864), (771, 0.10687398146307252), (2022, 0.10686889120699011), (677, 0.10686246987739077), (1069, 0.10684838244206432), (4434, 0.10684827913574707), (2176, 0.10684736102692177), (4759, 0.10683834861088122), (4068, 0.106831336053204), (1584, 0.10683099683420472), (302, 0.10681318502232207), (4582, 0.10680688257774613), (3774, 0.10680654464627644), (3316, 0.10679313006915986), (2044, 0.10679097719384816), (4408, 0.10677570142985912), (701, 0.10677253333049805), (2477, 0.10676185356766492), (1667, 0.106757387773426), (4167, 0.10675366321395481), (1233, 0.10674836304162948), (1059, 0.10674807723454997), (843, 0.10674330917847766), (747, 0.10673696306935451), (123, 0.10672240384873208), (1544, 0.10672054026413125), (3273, 0.10672029062551454), (878, 0.10671639370735671), (2931, 0.10671361886542431), (1716, 0.10669998139000297), (3294, 0.10669875722574597), (1901, 0.10668717226112828), (658, 0.10667760153587144), (118, 0.10667159372172634), (2765, 0.10666971541102607), (3343, 0.10664616138887584), (3736, 0.10664328363956535), (4422, 0.1066363527943746), (3969, 0.10663168745927425), (501, 0.10663048278702245), (2646, 0.10660268626761091), (6, 0.10660212289526855), (2562, 0.10659770714551782), (3518, 0.10659305505617503), (3387, 0.10658872984683913), (1522, 0.10657480707324611), (1458, 0.10656792464740544), (1275, 0.10654907501077518), (1563, 0.10654419398810563), (3289, 0.106539989805409), (1143, 0.10653567110040131), (1435, 0.10652672014077724), (3757, 0.10651220048712703), (1510, 0.10651092281908223), (3207, 0.10650058616461477), (2055, 0.10650019214956268), (788, 0.10648959808158853), (1736, 0.10648409641356561), (2835, 0.10648212220491864), (2829, 0.10647806450325852), (1464, 0.1064696238157433), (2059, 0.10646489401472485), (3083, 0.10645989628187323), (1357, 0.10643324173086621), (1361, 0.10643089760343408), (3688, 0.10642610702965176), (1503, 0.10642093368646695), (2895, 0.10641402580152946), (1554, 0.10641215581311005), (4728, 0.10640757888151615), (274, 0.10640217597337925), (3565, 0.10637823321866798), (855, 0.10635830144820921), (3092, 0.1063581099981424), (4593, 0.10635314296946555), (991, 0.10635292252750769), (1681, 0.10634332788071672), (1279, 0.10634167358992494), (2391, 0.10633097888966178), (69, 0.10632724266215084), (2014, 0.10632605891959432), (3670, 0.10632244010578244), (1286, 0.10631325006404779), (4458, 0.10630776358039895), (3090, 0.10630727867390806), (606, 0.10628751906781812), (3780, 0.10628652976612034), (1227, 0.10628632476475151), (2896, 0.10627800681902483), (3675, 0.1062635587284891), (1390, 0.10625600821598942), (1777, 0.1062507125287656), (3771, 0.10623337122600233), (1167, 0.10622719429593905), (4531, 0.10622451225160935), (2770, 0.10621851034703478), (1445, 0.10621182778310126), (176, 0.1062082690348815), (2378, 0.10620708914776625), (4627, 0.10620134224021766), (4379, 0.10620087685692513), (737, 0.1061824601734787), (2053, 0.10617589831087426), (1201, 0.10616751620936739), (1912, 0.10616589270097664), (1946, 0.10616453809439487), (2216, 0.106154630292941), (2300, 0.10615203834201871), (300, 0.10614858701275594), (712, 0.10613802581186012), (1569, 0.10613633968304344), (3360, 0.10612603738714493), (250, 0.10612534915511053), (605, 0.10612413484341904), (4077, 0.1061221223484347), (426, 0.10612007889883388), (3564, 0.1061034578096929), (1334, 0.10610269648358663), (2126, 0.10610022038560271), (1941, 0.10609818817121097), (1881, 0.10608542904657789), (4389, 0.10606203854855398), (1818, 0.10606057273797173), (3086, 0.10605871776646854), (587, 0.10605171192046578), (675, 0.10604290885053992), (1007, 0.10604268600890601), (1509, 0.10604096769171494), (380, 0.10602932462812277), (777, 0.10602579033894344), (1636, 0.10602263309596975), (1725, 0.10601559865713316), (3252, 0.10601546237203084), (3421, 0.10601485900005259), (2253, 0.1060056310602595), (2563, 0.10599611276430049), (717, 0.1059891560859593), (3746, 0.1059879887518761), (2575, 0.10598699561166383), (2367, 0.10597657086138064), (2910, 0.10597180975553117), (4269, 0.10596739082837223), (1267, 0.10594730036080137), (865, 0.10594481723873779), (2978, 0.10594059065791905), (918, 0.10593018054552207), (2453, 0.10592475169227805), (28, 0.10592404481028252), (2755, 0.10591761230280577), (1260, 0.10590909898430546), (2335, 0.10590828594160412), (1793, 0.10589654351577145), (1061, 0.1058815479907968), (304, 0.10587722465354955), (1880, 0.10584781291146443), (283, 0.1058457078529931), (1, 0.10582998154552298), (3686, 0.10582784158686676), (2527, 0.1058246440684264), (4637, 0.10582428434602142), (258, 0.10582088535418818), (367, 0.10582001734915793), (1129, 0.1057989554204344), (2552, 0.10579830819766431), (2734, 0.1057977037959853), (2115, 0.10578955684231314), (3777, 0.10578212048979964), (688, 0.10578016300501945), (1655, 0.10578015739427014), (3915, 0.10577069382794693), (3533, 0.1057654352272387), (1366, 0.10576010993487817), (3566, 0.10573315959465007), (1737, 0.10572047404863007), (3519, 0.10572023312436235), (2230, 0.10569906534499623), (807, 0.10569749133417627), (3158, 0.1056966723990047), (4645, 0.10569583435460646), (1175, 0.10569065588133693), (2428, 0.10568481664470175), (3017, 0.10568229571170507), (528, 0.1056556976315789), (2975, 0.10565474839693934), (4157, 0.10564862501972815), (1106, 0.10564093416159107), (4256, 0.10563807175520303), (1344, 0.10563302360936866), (1004, 0.10562501649915221), (1604, 0.10561174711204593), (635, 0.10560373312558483), (2130, 0.10559912279806277), (541, 0.10559825289935477), (2798, 0.10559084377064935), (2262, 0.10558621305122541), (1184, 0.10557625488542126), (1673, 0.10557223868685976), (1329, 0.10556818998040368), (1419, 0.10556246572513167), (444, 0.10555071558240645), (544, 0.10554144597356428), (3034, 0.10553534241081068), (3632, 0.10552902180632787), (2522, 0.10550349266792088), (3173, 0.1054971885698935), (2512, 0.1054959553402117), (869, 0.10549471984870962), (1860, 0.10548602452051106), (2200, 0.10548349415901), (4097, 0.10548319269636972), (2986, 0.10548154316254064), (3809, 0.10547961507634625), (215, 0.10547558791208433), (2642, 0.10547344085160208), (3453, 0.10546648220893438), (3232, 0.10546472108567342), (3959, 0.10545870962612577), (3196, 0.10545294610032319), (4684, 0.10544871666602765), (1172, 0.10544661950725925), (255, 0.1054238043041017), (2911, 0.10542066644246276), (1599, 0.10539514243031152), (748, 0.10538053852459305), (2860, 0.10537812770750156), (2567, 0.105371991671678), (498, 0.10536980965662684), (1517, 0.10536617420265686), (602, 0.10534357283467753), (4087, 0.10534262401687727), (4233, 0.10533919443127152), (494, 0.10533072988119914), (205, 0.10532749755398424), (1840, 0.10532060635510478), (1580, 0.10531976278085367), (3704, 0.10531922145880228), (732, 0.10531217331035175), (3198, 0.10530254641886318), (218, 0.10529803356753399), (3504, 0.10529695407557287), (1412, 0.10528744245917676), (586, 0.10528262570673194), (1583, 0.10528223246907478), (3697, 0.10527904645553647), (1916, 0.10524968759766552), (3965, 0.10524454956019284), (2413, 0.10523518748054475), (597, 0.10523217278840806), (3102, 0.10522901066281741), (217, 0.10522508822873508), (502, 0.10521981660012956), (4632, 0.10521848699510726), (1073, 0.10520835267729332), (1534, 0.1052023304593446), (3648, 0.10520210018687912), (4519, 0.10519523359511103), (4717, 0.1051938843732373), (128, 0.10519130086163021), (4094, 0.1051890546905067), (317, 0.10518290933990973), (4539, 0.105182453465752), (3935, 0.10518151934428151), (3661, 0.10518042141863583), (1140, 0.10518026688981386), (4090, 0.10517645802893232), (660, 0.10516345890851045), (1332, 0.1051608821094603), (388, 0.10515054959678069), (4486, 0.10513449756616339), (2252, 0.10512925024166354), (4206, 0.1051251884250458), (520, 0.10512403061696703), (1478, 0.10511782020841337), (3753, 0.10510509015975782), (2613, 0.10509873406602246), (4215, 0.10509752642584169), (4489, 0.10509289219299604), (142, 0.10508330168177248), (727, 0.10507364776666706), (4495, 0.1050705269558391), (607, 0.10504888455483592), (2812, 0.10504853674977344), (2962, 0.1050407045168544), (1973, 0.10503670382920954), (2833, 0.10503424490636287), (465, 0.10503150663441392), (431, 0.10503094259671557), (2853, 0.10501144327104273), (2593, 0.10500716696709858), (656, 0.10499058124366377), (4545, 0.1049816763959707), (2085, 0.10497789266901417), (3306, 0.10497390341333399), (4378, 0.10496774463507828), (2167, 0.1049644732937616), (3911, 0.10496004349459204), (1874, 0.10495819653941203), (2247, 0.10495759838767754), (2191, 0.10495555690932257), (529, 0.1049543799142464), (1873, 0.10495358796735617), (4105, 0.10495298118179205), (450, 0.10494425260561017), (2118, 0.10493375637800385), (264, 0.10492209054947015), (183, 0.10491972127819087), (2650, 0.10491708649463448), (3447, 0.10490073534116205), (4081, 0.10489706624532379), (3689, 0.1048970389553016), (3324, 0.10489669258603496), (4453, 0.10489092541163053), (1783, 0.10488707214980036), (1416, 0.10487673327460276), (1133, 0.10484899216784355), (220, 0.10484757005559418), (1463, 0.1048299312911238), (2725, 0.10481380019642875), (537, 0.10480180345825278), (2580, 0.1047991601776583), (3826, 0.10479511832639668), (74, 0.10478905068007985), (2304, 0.10478846861280533), (3112, 0.1047881013961545), (822, 0.10478381198135212), (3066, 0.10477603083799904), (4284, 0.10477430236619216), (959, 0.10477154798539687), (4416, 0.10476420540029108), (938, 0.10476108381869859), (1932, 0.1047533800914736), (2376, 0.10475012588345427), (2503, 0.10474342392024277), (2104, 0.10474021324145999), (4312, 0.10473871182683318), (4595, 0.104728041914222), (4355, 0.10472443901122988), (663, 0.10470147851382156), (4694, 0.10469822018234076), (1318, 0.10469342183965961), (4091, 0.10469042761785292), (758, 0.10468216234849946), (1790, 0.1046815914680612), (957, 0.10468037690176613), (2940, 0.10467781300985218), (4285, 0.10467677302183072), (3180, 0.10467585543909814), (2707, 0.10467126236427599), (2162, 0.10466427650209009), (1053, 0.10466329729481921), (3535, 0.10465803749958151), (37, 0.10465565214489048), (2651, 0.10465457322427661), (3321, 0.10464970428074236), (4639, 0.10464409878918011), (4736, 0.10464052122144189), (2311, 0.10462140184275864), (3501, 0.10462050911541312), (203, 0.10461171002587771), (987, 0.10461047795033968), (3163, 0.10460729936906885), (352, 0.10460358309134848), (3765, 0.10459783557595172), (2877, 0.1045973361318051), (3591, 0.10459379522310597), (4463, 0.10458806566424647), (2467, 0.10457794542143353), (1248, 0.10457668716687157), (1885, 0.10457541863311967), (699, 0.10457351725974713), (4030, 0.10457343024977768), (1928, 0.10456825514489457), (857, 0.1045673483837234), (2670, 0.10456479269516526), (2612, 0.10456305210391666), (4070, 0.10455791631080576), (1469, 0.10455741498638524), (1394, 0.10455682291920819), (2465, 0.10455525623962941), (4027, 0.10455127974856694), (1614, 0.10454890657059239), (41, 0.10453181419917736), (994, 0.10452041523516432), (216, 0.10451090620805496), (4459, 0.10451060493310889), (580, 0.10450886588953237), (3406, 0.10449947174666274), (3787, 0.10448955495436955), (4642, 0.10446411935039629), (1828, 0.10446042026326285), (4493, 0.10445288173071052), (626, 0.10445062908075413), (15, 0.10443699476613362), (840, 0.10443608556709373), (2001, 0.10443301357733448), (1187, 0.10442902736091286), (518, 0.10441727432606868), (1710, 0.10440683199254999), (1401, 0.10440405587262339), (4417, 0.10439613839101006), (161, 0.10439579538562575), (3997, 0.10439263037559002), (1952, 0.10438309420123543), (4078, 0.10437801496449658), (4426, 0.1043699803874863), (2074, 0.10436807633756659), (1877, 0.10434612534336353), (1754, 0.1043413593001062), (4511, 0.10433984577111459), (2419, 0.1043353576080184), (792, 0.1043199762897168), (141, 0.1043136520194768), (148, 0.10430169876353519), (2089, 0.1042995423675614), (21, 0.10429009670418087), (2846, 0.10427584133903992), (2325, 0.10426807241359333), (1308, 0.10426690404289746), (1943, 0.1042661513780778), (4431, 0.10426235804253063), (1719, 0.10425497601184577), (4132, 0.1042519829984561), (3084, 0.10425018860765002), (2397, 0.10424629990289024), (1965, 0.1042377231342704), (3642, 0.1042313361762499), (3931, 0.1042286112434477), (222, 0.10422617004613036), (4145, 0.10422156200832336), (383, 0.10421930933796442), (3914, 0.10420676683835582), (2050, 0.10419560094306489), (3317, 0.10419476040016759), (1099, 0.10419313092075771), (3464, 0.1041906183150235), (2865, 0.10418842286827253), (4412, 0.10418824008701563), (3913, 0.10418411236077323), (3573, 0.10418091546228933), (307, 0.10416661344308516), (696, 0.10415801425294012), (1577, 0.10415675017515319), (1598, 0.10415567418348376), (992, 0.10414628438002671), (2418, 0.10413610962601533), (1310, 0.10412799121993058), (3838, 0.1041275508342085), (3315, 0.1041242046229136), (1976, 0.10411676535257655), (1804, 0.10410892331723963), (2444, 0.10410323339678028), (2296, 0.10408673497208636), (3367, 0.10408596393581356), (79, 0.10408150456484627), (3458, 0.10404659376917923), (3919, 0.10404245517120643), (3655, 0.10403386097727522), (1494, 0.10402663966121695), (934, 0.10400961234726297), (4424, 0.10399634123563432), (3169, 0.10398886905585955), (3955, 0.1039875666070244), (1859, 0.10398449574840689), (810, 0.10398302701338362), (1679, 0.10397613857413716), (2789, 0.10397384314579523), (239, 0.10397223404347726), (3019, 0.10397032902207905), (3470, 0.10396609120220766), (2142, 0.10395996914657436), (823, 0.10395907497486868), (2988, 0.10394942328257932), (86, 0.10394803904709435), (3359, 0.10394763052410758), (3769, 0.10394455395108584), (4126, 0.10393925950690608), (1391, 0.10392721053249532), (833, 0.10392481405910062), (3072, 0.10392113269815048), (3815, 0.103917071210345), (3654, 0.10391688560739483), (4510, 0.10391636837402514), (1247, 0.10391579598093155), (4436, 0.10391127572510085), (1062, 0.10390408639783386), (2635, 0.10388792168154568), (4179, 0.10387259177383726), (1547, 0.10386690069866814), (937, 0.10386584783016875), (2233, 0.10386522834427939), (4289, 0.10385225745737442), (844, 0.10385200528027115), (3046, 0.10385081534304823), (1660, 0.10385040875128963), (3213, 0.10384081142145458), (1581, 0.1038309029014139), (532, 0.1038279916827312), (637, 0.10381975428955786), (1029, 0.10381718890522314), (2894, 0.10381570058517184), (3412, 0.10380074984362656), (415, 0.10379771080034483), (745, 0.10378718258673586), (1382, 0.1037845300848379), (68, 0.10378133659004521), (3545, 0.10377131135260191), (742, 0.10377128491404945), (2499, 0.10376588693702563), (3849, 0.10374908737426967), (3710, 0.10374396292811225), (4501, 0.10372175833518114), (2260, 0.10370477904639686), (2609, 0.10370328512272664), (4163, 0.10369655278828602), (50, 0.10369639082713697), (4377, 0.10368782479794784), (3868, 0.10368442620103119), (1656, 0.10368347666617192), (3193, 0.10367469609420596), (1991, 0.10367421712201656), (832, 0.1036656338017479), (725, 0.10366157010998309), (1426, 0.1036401551990112), (2194, 0.10362028859507831), (1748, 0.10361835854277585), (4008, 0.10361503240122076), (1670, 0.10360864288061397), (4238, 0.10359830248776418), (48, 0.10359117447219923), (3556, 0.10358900687664956), (1459, 0.10358339867730154), (131, 0.10357994579857573), (2565, 0.10357668359890193), (4567, 0.10357546989954648), (2387, 0.10355980688174793), (1154, 0.10355469878264552), (1101, 0.10355391400883), (59, 0.10355241289319399), (1949, 0.1035491329443115), (3307, 0.10354402334438258), (1650, 0.10352365100567108), (1263, 0.10351082147573115), (3547, 0.1035073124662304), (3336, 0.10350319989507832), (4316, 0.1034965673950966), (1432, 0.10348995735506852), (4508, 0.10348524336439073), (3692, 0.10348190102627451), (702, 0.10344933224315601), (4481, 0.10344831824369143), (1301, 0.10344501084194542), (749, 0.10343611926292208), (2214, 0.10343376247573761), (3617, 0.10342689425955491), (2151, 0.10342291519368065), (4713, 0.10340614768250646), (2716, 0.1034046168664981), (4597, 0.1033973284887649), (1056, 0.10338343190374365), (4139, 0.10338185154456878), (521, 0.10337685498750175), (574, 0.10337484839914508), (1131, 0.10337472512751816), (2046, 0.10336580467171018), (4359, 0.10336553228799794), (1947, 0.10335853428884857), (3584, 0.10335447366007024), (1026, 0.10335340345957457), (572, 0.10335312898931545), (2354, 0.10334631090184092), (981, 0.1033420174658063), (1897, 0.10333348245606706), (4682, 0.10331491186688883), (1765, 0.10330615707094248), (3770, 0.10329802119080903), (1723, 0.10329756738336891), (4750, 0.10329507577198022), (1337, 0.10328594702660668), (4088, 0.10328289420558563), (1770, 0.10327928127461748), (2203, 0.1032735379214336), (3729, 0.10326031632294017), (1404, 0.10325479091420998), (4505, 0.10324296844174065), (420, 0.10323603581127758), (1380, 0.1032356064091419), (125, 0.10322239245218669), (4688, 0.10322157066418632), (1776, 0.10321060066789105), (3459, 0.10320655404432928), (3396, 0.10320389289933984), (3095, 0.1032007798936621), (750, 0.10319965682386384), (2038, 0.103191658080222), (685, 0.10318488997678726), (4680, 0.10318012380449769), (4678, 0.10317102681176583), (1150, 0.10317055912019402), (960, 0.1031515644099118), (1234, 0.10313763362599164), (4189, 0.10313742785993553), (2706, 0.1031358788584735), (591, 0.10312939780100239), (1682, 0.10311592387297143), (223, 0.10309910871632204), (1596, 0.10309506342619199), (3259, 0.10308530069266918), (1423, 0.10308502729243237), (339, 0.10308392496013027), (589, 0.10308032861837182), (3834, 0.10308002629091097), (821, 0.10307525509726195), (1396, 0.1030694642618594), (1024, 0.10306816233405816), (2977, 0.10306472403300451), (3599, 0.10306126581589846), (4005, 0.10304041619417718), (2872, 0.10303836313245468), (3837, 0.10303756243796085), (4503, 0.10303634002562595), (1483, 0.10301259565158924), (1527, 0.10300855425052134), (4246, 0.1030014530662242), (2217, 0.10300128459648784), (2083, 0.10299544441471639), (2804, 0.10299528781108923), (1683, 0.10299240066095111), (4602, 0.10298726631144359), (2919, 0.10298427480473919), (4100, 0.10297875382636448), (3341, 0.10296466079606134), (3131, 0.10296438556327138), (2610, 0.10295663502328176), (867, 0.10294697518096033), (925, 0.10293876678781436), (4527, 0.10293846317496076), (3454, 0.10292397452978276), (1102, 0.10291663325119177), (2953, 0.10291556974986515), (2165, 0.10289135374158541), (180, 0.10289020386180185), (3355, 0.10287700666735923), (4669, 0.10287548367057356), (3640, 0.1028731616177981), (3125, 0.1028665824905889), (2017, 0.1028629344999108), (2090, 0.10285446778760739), (3745, 0.10285432460987369), (3164, 0.1028527478043261), (2276, 0.10285172960702854), (1871, 0.10284986407905641), (3265, 0.1028403675591101), (2999, 0.10283785254722633), (3893, 0.10283553665939034), (2088, 0.10283334490009109), (543, 0.10282435341694617), (772, 0.1028175735879021), (3000, 0.1028166239652203), (284, 0.10281603901832001), (3970, 0.10280260384995532), (3438, 0.10279496529243516), (1597, 0.1027946467774465), (2313, 0.10279161145976427), (3165, 0.10278654892382108), (3627, 0.10277868239590998), (1326, 0.10277784613479125), (3586, 0.10275953450682934), (4181, 0.10275779214484079), (1688, 0.10275550672677441), (318, 0.10275197135059767), (1225, 0.10275038024345418), (4287, 0.10274921440243427), (3783, 0.10274470934591039), (2028, 0.10274362995665509), (3419, 0.10273274142717065), (1280, 0.10273123285780761), (3191, 0.10272334236340076), (2913, 0.10271316470214024), (1441, 0.10271031952701055), (3410, 0.1026990860546153), (3952, 0.10269574572482786), (2136, 0.10269093124549905), (3290, 0.10268504457785195), (726, 0.10267243908628333), (1379, 0.10266112167027297), (1780, 0.10265157530080248), (1903, 0.10265007187345908), (703, 0.10264878134573363), (860, 0.1026198987348161), (1705, 0.10261000617544959), (1252, 0.10260997894341475), (2156, 0.10260970245171631), (1513, 0.10260270767132289), (4148, 0.1025975433792999), (1659, 0.1025906403575583), (1798, 0.10258339834226997), (2558, 0.1025815736897897), (2897, 0.1025801417338004), (349, 0.10257338410969889), (3184, 0.10256673147410073), (4200, 0.10255980802524595), (1619, 0.10255734634640484), (192, 0.10254109922657324), (603, 0.1025260147304734), (621, 0.10250398695704428), (1359, 0.1024947215274503), (1967, 0.1024946286089392), (509, 0.10249344900820677), (1500, 0.10248755809887843), (804, 0.10248713436233017), (1662, 0.10248390942022303), (2908, 0.10248331326770717), (3690, 0.1024766336035249), (1779, 0.10247644482161854), (1735, 0.10246670098270476), (493, 0.10246380760787101), (1250, 0.10245831252272178), (1220, 0.10245711630335806), (1302, 0.10245595090942126), (1193, 0.10245501125521886), (20, 0.10245067057504353), (2168, 0.10243805516424086), (4075, 0.10243468682042996), (1668, 0.1024270360950569), (514, 0.10242570374678626), (1296, 0.10241079896578618), (419, 0.10239882626604206), (3897, 0.10239746361452232), (741, 0.1023918369787607), (3553, 0.10238314629330039), (4547, 0.10238062763068437), (170, 0.10237297765871395), (1219, 0.10233336778134043), (2305, 0.10232962006956149), (4265, 0.10232903870189383), (1808, 0.10232444536588968), (2084, 0.10231979145422755), (1906, 0.10231286130521525), (654, 0.10231099345327124), (3058, 0.10229196703554035), (2676, 0.10228769777264542), (1265, 0.10228693376953671), (4001, 0.10226861371947904), (3593, 0.1022683903654012), (2360, 0.1022656052537547), (4314, 0.10225949722783875), (3138, 0.10224168363837814), (2753, 0.10224017590093404), (2847, 0.10222153625777489), (238, 0.10221979617516676), (270, 0.10221537021838278), (2015, 0.10221278158708354), (214, 0.10220666952816465), (1734, 0.10220494355732412), (2417, 0.1022010379862243), (1407, 0.10219866758978474), (876, 0.10219399895086026), (895, 0.10218707638582587), (1424, 0.1021869326970573), (613, 0.10218442071635743), (4753, 0.10217852158824244), (2239, 0.10217840248239589), (18, 0.10217166697203055), (3237, 0.1021693808345258), (633, 0.1021558968243277), (4714, 0.10215013792314599), (3618, 0.1021296494026451), (1738, 0.10211925582716612), (143, 0.10211303649612163), (2461, 0.10211203387300748), (4677, 0.10210346177760368), (2478, 0.10210059932552841), (4025, 0.10208547995752772), (511, 0.10207814091179451), (1087, 0.10207797114721988), (2714, 0.10207707718768483), (4244, 0.1020770002642171), (42, 0.10207618200227161), (2572, 0.102068571329972), (1017, 0.10206672878732002), (956, 0.10206565447707823), (1122, 0.10206317442680111), (206, 0.10205211677875035), (2092, 0.102049169002627), (3580, 0.10204031686409834), (4243, 0.10200056148802629), (95, 0.1019843899231744), (890, 0.10197668008257031), (4569, 0.10197526021878774), (4123, 0.10197330974797036), (962, 0.10197202287784124), (3374, 0.10196339747809528), (497, 0.10196066017250047), (3888, 0.10196003288706995), (126, 0.10195781788403993), (2403, 0.10194888754145925), (3296, 0.10194586258834261), (2222, 0.10193220738218378), (4497, 0.10193166164206217), (212, 0.10192201311079772), (305, 0.101921610376654), (483, 0.10191980818111168), (4158, 0.10191806986237284), (1170, 0.10191801695914862), (3423, 0.10190215483622474), (1893, 0.10189846967420017), (1157, 0.10189811255256062), (1511, 0.10188987041236931), (4277, 0.10188912122814037), (4241, 0.10188405190360135), (1402, 0.10188223737015448), (2987, 0.10187731768192508), (4558, 0.10187240055178781), (3569, 0.10186733846910663), (1625, 0.10186732418592576), (3716, 0.10185582393647652), (3496, 0.10185363302019931), (553, 0.10184812607881898), (2177, 0.10183668203947971), (104, 0.10183660897572695), (1134, 0.10183632231606687), (1575, 0.10181418473350667), (315, 0.10181228434190216), (1896, 0.10180343666205555), (3337, 0.10179675720265334), (1851, 0.10179173981173542), (721, 0.10178444672946706), (43, 0.1017826350734447), (1031, 0.10176785020251264), (1179, 0.1017676674562481), (4447, 0.10176659753727223), (1608, 0.10175493157397104), (4663, 0.10173920006094953), (3782, 0.1017380939248218), (2746, 0.1017378140543414), (3647, 0.10173669633803138), (1091, 0.10173225700176634), (2598, 0.10172518126993371), (782, 0.10171077021884488), (4288, 0.10170961121432212), (1986, 0.10169696129214192), (309, 0.10169230058631305), (3061, 0.10168550728453815), (2680, 0.10167803430159504), (4317, 0.1016747051420237), (2466, 0.10165886187545145), (3551, 0.10165447417587457), (4049, 0.10164769627443179), (2447, 0.10164687499848603), (2159, 0.10163775317015641), (2096, 0.10163593677504511), (4392, 0.1016336974316806), (1701, 0.10163180399874149), (4096, 0.10162942339050113), (51, 0.10162903814754752), (1304, 0.10161618115785588), (1854, 0.10160690277969649), (3873, 0.10160193106793372), (590, 0.10158718014349946), (120, 0.10158267868616029), (1090, 0.10154971077341127), (4, 0.10154566134459504), (1105, 0.1015442741932678), (2155, 0.10153385588678832), (1785, 0.10152982689890037), (3383, 0.10152805353489244), (261, 0.1015268016325264), (441, 0.10152602775031111), (1272, 0.10151921571919176), (1487, 0.10151413876717223), (1420, 0.10148933778028207), (111, 0.10148904629178383), (3197, 0.10147986166094572), (2771, 0.10147984460654448), (1278, 0.10147775252686998), (2945, 0.10146786984472474), (3005, 0.10146282403189938), (2186, 0.10145946703128221), (2702, 0.10145873005830504), (2134, 0.10144911150918844), (1718, 0.10144612160655496), (2803, 0.10144298235660329), (1480, 0.10144114047052355), (757, 0.10144000545178614), (4404, 0.10143648239585792), (2841, 0.10143528950607571), (1352, 0.10143365318452667), (1751, 0.10143236134381976), (2302, 0.10142968172675956), (835, 0.10142754378785093), (1452, 0.10142514000572399), (2277, 0.10142265045656931), (3085, 0.10141444876640715), (209, 0.10140819527905812), (4406, 0.10140801569823506), (3130, 0.10140574484114859), (3820, 0.10140025872777061), (1811, 0.10139607380716965), (1948, 0.10139570324974748), (135, 0.10138757470902687), (2821, 0.10137721063337832), (973, 0.10137418726209287), (2819, 0.10137370936108603), (1591, 0.10135879461896267), (4055, 0.10134541174939052), (1791, 0.10134415287327674), (2815, 0.10133881119304951), (2690, 0.10132980277855017), (114, 0.101322958958452), (3, 0.10131389133625814), (2893, 0.10129675890808765), (1816, 0.10129165722225819), (253, 0.10129074084019511), (1536, 0.10128761678040067), (3967, 0.10128104849246579), (2914, 0.10126732406335184), (478, 0.10126367185943112), (184, 0.10126284513230871), (1054, 0.1012628315104738), (2374, 0.10126272741220856), (1148, 0.10125718406073432), (1124, 0.10125613579991864), (2039, 0.10125340308046213), (2665, 0.10125211930012343), (3845, 0.10125167173644217), (836, 0.10124885169956034), (2546, 0.1012468109070933), (1492, 0.10124425932378313), (2576, 0.10124089533242615), (3401, 0.101220920315576), (228, 0.10121582368196273), (2334, 0.10121573934176889), (3435, 0.10121193509379099), (3680, 0.10120830444218386), (348, 0.10120134857729536), (1497, 0.10120079058483467), (4393, 0.10119616533349662), (2677, 0.10117639098246427), (1074, 0.10116681596600752), (303, 0.10116660176637077), (2726, 0.10116307150024972), (2045, 0.10115466278876835), (2458, 0.10114868712998135), (999, 0.1011465338315797), (1256, 0.10114413058851755), (1996, 0.10113142096400742), (2936, 0.10113070865688827), (2745, 0.10112593717507637), (226, 0.10111046697852573), (189, 0.10110508064055702), (2881, 0.10109717980626365), (1592, 0.10109715503766252), (3274, 0.10109572360655088), (1375, 0.10109397456896771), (3446, 0.1010928839798897), (313, 0.10109124055051834), (1560, 0.1010874854854337), (1119, 0.10107931731634195), (945, 0.10107159537074109), (2007, 0.10106481188943212), (332, 0.10106178501711402), (868, 0.1010604740745496), (1205, 0.10105609599087233), (117, 0.10105347207162423), (2487, 0.10105216484739646), (638, 0.10105132009736809), (1821, 0.1010472657677953), (1253, 0.1010320605636779), (3332, 0.10102662034001621), (2836, 0.10101804648888853), (1740, 0.10101603173927433), (1127, 0.10100829057112734), (4216, 0.10100557939655519), (2498, 0.10100477584841373), (1126, 0.10099576601438473), (1262, 0.10099483513609112), (4361, 0.10099365109166072), (236, 0.10098652738608364), (2691, 0.1009687878404565), (1048, 0.10096609199936599), (2027, 0.10096434347199593), (592, 0.10096292889139571), (3798, 0.10094911991317854), (1501, 0.10094308102560785), (1330, 0.1009319562002414), (1244, 0.10092944819219299), (3096, 0.10092258082356495), (1543, 0.10092144960606332), (2175, 0.10092123007087166), (110, 0.10091301882277831), (533, 0.10091220136386024), (1431, 0.10090684105769067), (1562, 0.10090178857226982), (3507, 0.1008903693198065), (780, 0.100889408810466), (1216, 0.10088917233994961), (1687, 0.10088885729125027), (1998, 0.10088365059100511), (2514, 0.10088309854859391), (2291, 0.1008659883404209), (4507, 0.10086504805309536), (919, 0.10084896979929472), (4360, 0.10083971850417627), (2106, 0.10083039619329376), (3443, 0.10082037192744155), (3026, 0.10081981122668206), (1515, 0.10080904565052971), (282, 0.1008073992019111), (665, 0.10080703298074187), (4530, 0.10080300235621367), (2700, 0.1008019182564165), (2081, 0.10078758377184156), (1566, 0.10078630998845109), (2792, 0.10078314892826197), (1629, 0.10077525287456096), (2215, 0.10077207298374947), (913, 0.10076942712857302), (422, 0.10076139954104671), (4534, 0.10075235601613398), (1972, 0.10074736398076198), (1261, 0.10072677962954252), (373, 0.10071366496212222), (1314, 0.10071215549104588), (3600, 0.10070392061392759), (1410, 0.10069679651475484), (374, 0.10069571284165264), (1028, 0.10069500346326125), (3499, 0.10068925468558576), (1188, 0.10067894487985643), (150, 0.10067429023705196), (993, 0.10067397701260272), (2460, 0.10067290033290252), (577, 0.10067160844193045), (916, 0.1006714739883101), (1362, 0.10067111026643731), (2122, 0.10067027456482136), (3603, 0.10066355738541914), (693, 0.10065483359329246), (1118, 0.10064503215996501), (1027, 0.10064485742414132), (3012, 0.10064375014932464), (2974, 0.100638097960473), (2728, 0.10063702329844937), (2441, 0.10063001074254709), (3724, 0.10062726114209126), (881, 0.1006204618436832), (122, 0.10061323497560977), (2422, 0.1006025506758196), (2437, 0.10060194042388258), (1658, 0.1005940894038557), (671, 0.10058654743427135), (814, 0.10056725897317977), (3398, 0.10055399166626301), (1039, 0.1005493714486441), (259, 0.10054776763977273), (588, 0.10054237950578357), (1089, 0.10053723966474334), (2133, 0.10053593245997022), (583, 0.10053551537400617), (2105, 0.10053431821141014), (4488, 0.10052114705044639), (1400, 0.10051899906519261), (4466, 0.10050892996860386), (631, 0.10050197356982542), (3386, 0.1004908537191737), (2364, 0.10048873431669245), (1875, 0.1004844196665535), (1499, 0.1004811646842616), (2816, 0.1004796665632088), (1386, 0.10046520495563066), (552, 0.10045941874015794), (3585, 0.10045477308913434), (3153, 0.10045306503686635), (3032, 0.10045172842726005), (965, 0.1004468689354244), (2925, 0.10043764995576693), (4356, 0.10042496248735297), (3761, 0.10041998061099301), (3963, 0.1004183630530737), (1504, 0.10040859256238088), (785, 0.10039970652767688), (3850, 0.10039294072066408), (2195, 0.10038530175168964), (4175, 0.10038238465342941), (1269, 0.10037996782567307), (2224, 0.10037175988552129), (1036, 0.10037091486577929), (848, 0.100366345067583), (659, 0.1003619627828744), (1294, 0.10035878773953752), (3310, 0.10034165449079153), (3861, 0.10033572088297758), (3451, 0.10033360701275917), (27, 0.1003333734664311), (139, 0.10032756742735317), (3492, 0.10032511159232647), (1603, 0.10032487056633789), (3313, 0.10031719197117944), (3886, 0.10031397870041069), (4702, 0.10030898962198273), (1717, 0.10030273074419506), (2272, 0.10029730244165494), (440, 0.10028722191940734), (2237, 0.10028388465112724), (2959, 0.10028042692657911), (4600, 0.10027903102181053), (1617, 0.10027544935563147), (30, 0.10027134989082818), (10, 0.10026467708887653), (356, 0.10026318886857809), (4552, 0.10024654884456155), (56, 0.10022885332797914), (1589, 0.1002271545272452), (4110, 0.10022046962745354), (3240, 0.10021271990843245), (1158, 0.10020668629732121), (389, 0.10020613450813183), (1985, 0.1002056523510646), (2297, 0.100202871622277), (2788, 0.10020252917025659), (3785, 0.10020137391916704), (4006, 0.10019060744356657), (2967, 0.10018764425219594), (2887, 0.10018117267826533), (3863, 0.10017489665883517), (765, 0.10017236208482583), (1774, 0.100171446853604), (3694, 0.10016417751747105), (1374, 0.10015292945867754), (1910, 0.10014309861775682), (3481, 0.10013671766122817), (1490, 0.10012663488951819), (4273, 0.10010982995634636), (399, 0.10010524313937945), (1582, 0.10010058830818816), (1915, 0.10009226999288778), (704, 0.10008351904009088), (3623, 0.10006614667704668), (115, 0.10006453330267202), (54, 0.10004578621234013), (2003, 0.10004549438657719), (820, 0.1000428278190613), (2780, 0.10003772871106513), (354, 0.10003514060292758), (1506, 0.10003322273448545), (2402, 0.10002464112452052), (1180, 0.10002177750037591), (2058, 0.10001172389435356), (171, 0.1000032810804024), (551, 0.09999609583517324), (0, 0.09999393917691975), (3934, 0.09999202354794716), (873, 0.09998600630867875), (3520, 0.09998435279888693), (3368, 0.09998119032745743), (2787, 0.09997805954092986), (4548, 0.09997744486097636), (2776, 0.09997630851318162), (870, 0.09996046347950237), (476, 0.09995879593942171), (105, 0.09995593041547209), (2209, 0.09995476425360458), (3326, 0.0999528276270061), (4348, 0.09994949343859895), (3330, 0.09992869146227015), (4596, 0.09992463093392896), (2825, 0.09991517391039909), (4043, 0.09991419592211787), (4183, 0.09990981309467228), (545, 0.09990949233626563), (922, 0.09988892106913667), (3356, 0.09988621861944419), (1839, 0.09988551743203221), (4248, 0.09987380251700965), (4655, 0.09986986708938084), (4448, 0.09986956606258958), (1174, 0.0998648297140944), (1440, 0.09986196602095737), (1550, 0.09985980199374224), (1971, 0.09985529659341995), (1909, 0.09984843000731183), (1324, 0.09983946805618951), (1879, 0.09982971560645887), (4706, 0.09982718457146349), (1439, 0.0998256964861543), (634, 0.09982482786208059), (3714, 0.09982230890428781), (2317, 0.09981939177461847), (4550, 0.09980248015442723), (12, 0.09980148090648282), (3248, 0.09980092837959487), (980, 0.0997891885352559), (3132, 0.09976729263319846), (23, 0.09976057462382848), (2298, 0.09975992869063519), (3811, 0.09975782698330579), (1872, 0.09975207490708517), (232, 0.09974720886289518), (1385, 0.09974714806543414), (4467, 0.09974691842685167), (2359, 0.09974209920772366), (3008, 0.09973508112967892), (3146, 0.09972795641650313), (2472, 0.09972209593070161), (3596, 0.09971545557531901), (1931, 0.09971024793975503), (263, 0.09970996420314447), (4470, 0.09970733854819436), (3106, 0.09970693791363286), (2749, 0.09970431746875459), (1476, 0.09970280242285579), (3011, 0.09969939238168253), (2069, 0.09969884708163916), (237, 0.09969413184450791), (1727, 0.09969318329374735), (561, 0.09968494044193482), (34, 0.09968039376257132), (3044, 0.09967699542643588), (1616, 0.09967440408738262), (1185, 0.0996658555411979), (664, 0.0996635428301606), (4128, 0.09965829886323174), (4665, 0.09965763512881273), (3378, 0.09965631530069628), (2178, 0.09964712177023974), (2160, 0.09963694122783442), (3062, 0.0996239484743165), (4629, 0.099620412010728), (3666, 0.09960941930046084), (1491, 0.09960772035714029), (1139, 0.09960100595950874), (4512, 0.09958582871729003), (266, 0.0995852686173466), (536, 0.09958506661822064), (2073, 0.09957450913254189), (1590, 0.09957343089404112), (2480, 0.09957015166139883), (4339, 0.09956672600537146), (3756, 0.0995643000309003), (4382, 0.09955949535884963), (1638, 0.09955273548356547), (1975, 0.09954967956229412), (4251, 0.09954846490835993), (2356, 0.09954592010055924), (4686, 0.09954237155299943), (2330, 0.09953168602550454), (3223, 0.09953010335527976), (1760, 0.09952456484580118), (3041, 0.09952309047696953), (3493, 0.09951452693768575), (1438, 0.09951370626832706), (1930, 0.099511508696652), (2698, 0.09950991676310954), (2128, 0.09950199709729567), (199, 0.09950106462482147), (3371, 0.09949121385888862), (1428, 0.09948789851328177), (271, 0.099483909373138), (40, 0.09948027498895909), (3133, 0.09947623450683916), (1001, 0.0994713837630691), (1644, 0.0994707910447558), (4621, 0.09946905036448539), (4104, 0.09945939137966274), (1232, 0.09945843350181217), (3436, 0.09945469880718909), (3748, 0.09944161297574584), (4352, 0.09943631284573282), (1171, 0.09943571325099533), (2695, 0.09943075749183597), (1230, 0.09943040407800571), (84, 0.09940928405737645), (3460, 0.09939024243084746), (680, 0.09938940864581725), (2800, 0.09938729652015055), (984, 0.09937523069272026), (386, 0.09937050744405758), (811, 0.09935669899653465), (1240, 0.09935288034910021), (908, 0.09935286770133268), (1151, 0.09934523849881548), (1152, 0.09934284965339457), (3652, 0.0993425377862669), (4384, 0.09933997198861862), (55, 0.09933913708047891), (2343, 0.09933203945032977), (3391, 0.09932800732863944), (4073, 0.0992950847423494), (96, 0.09928680977495197), (4587, 0.0992788728579423), (4365, 0.09927853116996281), (1611, 0.09927185973843419), (375, 0.09927166932018039), (2603, 0.09926399895553029), (1690, 0.09925791287482444), (3624, 0.0992555708734379), (2863, 0.09924928912374019), (151, 0.09924653606707436), (2606, 0.09924322520258211), (310, 0.09924269937566729), (1626, 0.0992218034947449), (1052, 0.09922117208800972), (567, 0.09921507285485733), (2824, 0.0992135798396244), (3073, 0.09920833261686202), (940, 0.09920431908222016), (4137, 0.09920077327204431), (2890, 0.09920031020768674), (4648, 0.09918882985976382), (3194, 0.09918189573531705), (1413, 0.09916579754544767), (4184, 0.09916215402000224), (1579, 0.09915857374807337), (3069, 0.09915689119337752), (579, 0.09914845329464257), (3246, 0.09914787757015052), (1355, 0.0991446302497111), (1341, 0.09913458197323707), (3445, 0.09913159893945386), (3348, 0.09912218812671285), (2618, 0.09912077350910434), (4192, 0.09911731095388321), (2070, 0.09910926624138046), (439, 0.09910787498725117), (3494, 0.09910044166029713), (2784, 0.09909649580764401), (2724, 0.09908870635753456), (1970, 0.099088066429871), (4282, 0.09907208065343004), (3718, 0.09905938630966096), (2907, 0.09905452026786549), (2078, 0.09905318317947807), (2315, 0.09905308961316553), (3793, 0.09903445411557792), (3818, 0.09903318595937224), (71, 0.0990173496374999), (1475, 0.09901665016869768), (231, 0.09901269484157535), (2231, 0.09900996168597719), (2920, 0.09900443868830029), (554, 0.09899287242376244), (3329, 0.09898638691607058), (3968, 0.09898415893408245), (1530, 0.09897697069364239), (4041, 0.09897642536646442), (3437, 0.09897277349996302), (3509, 0.09895738756117116), (2505, 0.09895305774414422), (4299, 0.09892541351095105), (4376, 0.09892131421189558), (2103, 0.09892119361915988), (1096, 0.09889005799583056), (4575, 0.09887544688937099), (1675, 0.09886942412543315), (2051, 0.09886718449430991), (11, 0.09884376477964117), (1108, 0.09884273123549149), (3462, 0.09884180964640711), (4188, 0.09882881437926579), (936, 0.09882802562691916), (2541, 0.09882664656530678), (2766, 0.09882589898664676), (655, 0.09882469930945334), (1870, 0.09882109645339547), (3833, 0.09881054365612923), (4155, 0.09880708760631525), (2314, 0.09879507695259095), (381, 0.0987894478368675), (897, 0.09878221469035006), (2742, 0.09877251004936806), (2855, 0.09876799041798472), (1585, 0.09876230906672237), (2995, 0.09875006795373566), (2535, 0.09874302218805671), (4011, 0.09873960697108433), (1744, 0.09872964761999616), (2648, 0.09872323113578604), (4227, 0.09871262264453831), (1775, 0.098701381375675), (3334, 0.09870045534936876), (4649, 0.09869933992975125), (3486, 0.09869626276405177), (744, 0.09869581928683242), (803, 0.09868798682516104), (756, 0.09867042378507439), (466, 0.09866375785954158), (1956, 0.09864560466437912), (4042, 0.0986421353743928), (3711, 0.09863770364581952), (1691, 0.0986355175955502), (3122, 0.09863001234935853), (697, 0.09862989128657497), (2474, 0.09862648572962526), (1502, 0.09862449289396948), (3841, 0.09862417401371312), (64, 0.0986176885063133), (3971, 0.09861598208505284), (3404, 0.09861302797493114), (3709, 0.09860393439623222), (1977, 0.09860350091536853), (4308, 0.09859847015480215), (17, 0.09859663435862161), (3531, 0.09857130203919733), (1236, 0.09857011846873588), (4687, 0.09856323598833662), (4085, 0.09855803793808644), (2131, 0.09855556006739169), (4294, 0.09854834573742025), (1282, 0.09854101881500185), (809, 0.09852789389739795), (2164, 0.09852125980175826), (2571, 0.09850998439081367), (599, 0.09850935642864661), (642, 0.09849550352921403), (31, 0.09847466135755066), (1551, 0.09846797179019869), (1080, 0.09846078418196678), (2054, 0.09845914026851718), (4275, 0.09842054947595734), (2031, 0.09841975372802732), (1508, 0.09841764186365917), (995, 0.09841458774498386), (398, 0.09840492746274793), (1384, 0.09840340957701126), (486, 0.09840295666288151), (2843, 0.09838622574415533), (1063, 0.09838370224043154), (1470, 0.09838319290194883), (898, 0.09838093854042194), (1969, 0.09836697511191503), (1305, 0.09836507728958958), (694, 0.0983556810027094), (83, 0.09835564366728368), (535, 0.09833831655730807), (2197, 0.09833092503149485), (2124, 0.0983263815396993), (1942, 0.09832533513784603), (2242, 0.09831692257720427), (2341, 0.09831655284216317), (327, 0.09831452662960483), (4224, 0.09831095881691881), (4673, 0.09830802696892449), (931, 0.09830474935165519), (1787, 0.09829286638727891), (1226, 0.09828875325322498), (3327, 0.0982868058666753), (1003, 0.09828560374034917), (4715, 0.0982779385995842), (4048, 0.09827596865012324), (390, 0.09824671280342069), (1549, 0.09823767244214945), (1082, 0.09822197691594294), (3305, 0.09821799285227562), (525, 0.0982072874867196), (1288, 0.09819973733454977), (3807, 0.09819736607804191), (3982, 0.09819434735830068), (1237, 0.09819014365353608), (181, 0.09818811225596845), (4387, 0.09818660689990025), (595, 0.09818145394142709), (2401, 0.09818131081316993), (5, 0.0981707845105687), (2506, 0.09816755147935546), (1455, 0.09816275356355471), (1833, 0.09815624006187981), (2464, 0.09815152492874585), (4268, 0.09814661985207458), (496, 0.09814043989791998), (377, 0.09813540244513659), (4522, 0.09812450529674463), (4442, 0.09812187800082837), (3352, 0.09808827160683789), (805, 0.09808670827342032), (1789, 0.09808178023648198), (2639, 0.09808002948205052), (1306, 0.09807987378523082), (3487, 0.09804593839492363), (3381, 0.0980421024922966), (322, 0.09804123517859199), (1855, 0.09803035041372167), (1722, 0.09802260218372418), (4592, 0.09801617663756308), (3749, 0.0980153562212267), (1242, 0.09801200695007267), (2808, 0.09799676346518953), (4349, 0.09798866200458282), (2409, 0.09798673956177287), (4583, 0.0979836718942892), (858, 0.09797694159990225), (81, 0.09796990673830358), (1761, 0.09796955155902311), (3615, 0.09796158793214992), (227, 0.09795217591523808), (262, 0.09794890927556063), (3064, 0.09793378916593928), (2748, 0.09793333086062674), (4255, 0.09793170798482757), (3258, 0.0979314939756104), (2918, 0.09792586349524093), (4036, 0.09792290319294239), (1120, 0.09791687827428215), (923, 0.09791682309725697), (4427, 0.0978970935152244), (882, 0.09788685626190795), (3161, 0.09788299525676093), (2850, 0.09786600307025878), (894, 0.09786548735254935), (3417, 0.09786370863096247), (3498, 0.09786199443711047), (636, 0.09785226344171233), (1173, 0.09784925169432239), (2491, 0.09783189008816943), (3129, 0.09782360095031892), (4708, 0.0978220217328766), (1347, 0.09781156113347109), (1060, 0.09780591191659677), (2773, 0.0978057668545964), (1895, 0.09780513719164023), (740, 0.09780156782904163), (2826, 0.0977893399128111), (1572, 0.0977868118648963), (2062, 0.09778233058493238), (287, 0.0977818469007192), (4542, 0.09777876404676847), (4381, 0.09776781252595586), (1568, 0.09776617912578589), (3706, 0.09775993063462483), (3478, 0.0977518586170107), (4004, 0.09774203264473122), (2033, 0.09773818645703375), (1827, 0.09773432790659953), (1632, 0.09771584531564721), (1830, 0.0977103640821432), (57, 0.09770699664516451), (4528, 0.09770600302082441), (2108, 0.09769700462071458), (2445, 0.09768870407352491), (2396, 0.0976863068335359), (3597, 0.09768418902510005), (4413, 0.0976811532505556), (4472, 0.09767369165470008), (2979, 0.0976722626712035), (3522, 0.0976689126199395), (972, 0.09766819590869646), (542, 0.09766388494542941), (2687, 0.09764599252773953), (1297, 0.09764261646472336), (1378, 0.09763459019438496), (4623, 0.09761282117129559), (1010, 0.09761173855829361), (1610, 0.09759890254271489), (1573, 0.09758484809840726), (3908, 0.09758422803761019), (1539, 0.0975805937826401), (1960, 0.0975803761186806), (719, 0.09757163555844581), (2898, 0.0975610233945471), (864, 0.09755590154982492), (1512, 0.09755562199581107), (433, 0.0975551886556332), (3393, 0.09755466535727501), (3923, 0.09754994678475863), (652, 0.09754506947409927), (2705, 0.09754302224046527), (4590, 0.09753818305613873), (3773, 0.09751336112578868), (1992, 0.09751223774290219), (477, 0.09750895659437024), (2170, 0.09750113749476044), (902, 0.0974978430922327), (3474, 0.09749769503775733), (3063, 0.09749350720799767), (4685, 0.09748497079345891), (1894, 0.09747858754558762), (1905, 0.09747403140545484), (1354, 0.09745625081485122), (1022, 0.0974512257004361), (885, 0.09743500509401705), (1113, 0.09742582969689571), (1618, 0.09741275538516189), (306, 0.09740539127491014), (1944, 0.0974039154149964), (2011, 0.09739640814552514), (4083, 0.09738673440152272), (2442, 0.09737840913716245), (3712, 0.09737791395724764), (4491, 0.09736836095834704), (2213, 0.09735522952010607), (1908, 0.09735222177064154), (3885, 0.09734994062678948), (4734, 0.09734903993813931), (4133, 0.09731690167978631), (1018, 0.09731344935879666), (1266, 0.0972949201950859), (3490, 0.09728452667779335), (3144, 0.09727680523834718), (2004, 0.09727191920588303), (2969, 0.09726481965929545), (2398, 0.09726240773782302), (625, 0.0972514763461238), (1847, 0.0972465777208052), (1239, 0.09724336299276341), (798, 0.0972268805690912), (2718, 0.09721002483362953), (871, 0.09719444420244229), (534, 0.09718762849454407), (4563, 0.0971725515993993), (653, 0.0971706215131687), (3705, 0.09717006926291516), (1159, 0.09716702111538479), (1857, 0.0971584282838535), (2501, 0.09715336656087085), (2202, 0.09714876958590772), (3150, 0.09714329317514483), (2599, 0.0971313415029467), (3579, 0.09712801237703393), (2960, 0.09712566655381501), (3369, 0.09711974640445051), (762, 0.09711662769364023), (3920, 0.09711475101393158), (4300, 0.09711365185119551), (328, 0.09711124181943265), (2246, 0.0971057066365416), (1921, 0.09710395000554582), (242, 0.09710362841350076), (210, 0.09710239951218992), (2880, 0.0971021738604416), (4742, 0.0971004074654467), (2631, 0.097099355916848), (883, 0.09709155046777193), (2087, 0.09707970460506887), (1987, 0.09707190003867035), (211, 0.09704307711333869), (152, 0.09703467925211497), (4363, 0.0970308065655411), (1920, 0.09701734523679133), (3855, 0.09699762674043791), (1218, 0.09699694481023226), (1468, 0.09699615555562381), (3400, 0.0969932644556933), (1867, 0.09698510407483345), (291, 0.09696759740282447), (2867, 0.09696308519078788), (2475, 0.0969606654420866), (2632, 0.0969565373831937), (1245, 0.09695133986669963), (1661, 0.09694688787105359), (4722, 0.09694477538323464), (2681, 0.09693347903870168), (2000, 0.09693169733852491), (3402, 0.09692470159459386), (800, 0.09692313856386281), (1281, 0.09692283976024053), (723, 0.09692174334697091), (3549, 0.09692126548051966), (3875, 0.09691536635632443), (1238, 0.09690762775423242), (1674, 0.09689030730867519), (4540, 0.09688721065779828), (221, 0.09688129226104496), (4634, 0.09687800204791121), (3392, 0.09686936388390005), (1814, 0.09684834518260116), (2888, 0.09684662719059495), (1075, 0.0968445227640402), (3136, 0.0968434405319888), (4093, 0.09683597638788904), (2508, 0.09683489139241114), (1137, 0.09682577564773485), (1370, 0.09681278582081182), (3823, 0.09680353078577733), (358, 0.09679058060459815), (1430, 0.09678544406314078), (1033, 0.0967785904820167), (1202, 0.09677356289624468), (1988, 0.09676539463132248), (927, 0.09675965538278711), (892, 0.09675259450188806), (8, 0.09674652904408271), (1299, 0.09674221531918434), (175, 0.09674129769980301), (4325, 0.09672812756209521), (3174, 0.09671757535795507), (2634, 0.09670911218630966), (479, 0.09669042619169575), (1044, 0.09668436815577727), (4161, 0.0966826911014923), (4487, 0.09668223134765351), (684, 0.09667690450597752), (573, 0.09667501760597132), (1270, 0.09666563609729745), (2243, 0.09666307136750026), (966, 0.09665908493379727), (366, 0.09665903174770593), (1315, 0.09665488000256171), (3047, 0.0966396788295457), (3784, 0.09663454638734537), (4143, 0.09662955335490626), (3966, 0.09662787832038937), (4435, 0.09662655389914253), (1981, 0.09662638696430152), (4405, 0.0966249455952977), (3059, 0.09662444811072896), (331, 0.09661335137936587), (3134, 0.09660564799720534), (4012, 0.0965890415565954), (1576, 0.09657844747606073), (1995, 0.09657565384704979), (669, 0.09656398166221215), (4266, 0.09654731315671716), (3224, 0.09654130192377885), (4131, 0.09653158742422899), (1268, 0.09652936624198413), (1212, 0.0965211118011752), (4581, 0.09651965557949584), (4176, 0.09650536581822237), (66, 0.09645968789536412), (1392, 0.09645889539492083), (3896, 0.09645840141114817), (1467, 0.09644293080748362), (272, 0.09643302865610408), (2309, 0.09643241838085118), (2035, 0.0964200578575404), (4367, 0.0964128487928465), (1645, 0.09640945109393272), (1807, 0.09640032940643525), (1732, 0.09639908636623296), (3002, 0.09639894393612901), (4657, 0.09637415994529162), (2965, 0.09637152717158672), (1453, 0.09636822975774843), (3210, 0.09636741483414488), (2169, 0.0963610503755838), (3904, 0.09635728861118317), (2533, 0.09635386690585529), (1446, 0.0963467437223674), (3126, 0.0963393201306571), (2811, 0.09633637029105291), (2899, 0.09632677621941428), (3985, 0.09632611264022514), (2205, 0.09632438531390793), (85, 0.09632202896406172), (2786, 0.09631997188275217), (2008, 0.09631494530195277), (504, 0.09631107311298487), (4399, 0.09629968750504675), (285, 0.09629619764141818), (2211, 0.0962850184345515), (1587, 0.09628478191504151), (3994, 0.09627979961750875), (3583, 0.09627751306840089), (3209, 0.09627268263567207), (649, 0.09625807641897689), (3155, 0.09625697583476414), (4231, 0.09625029666324449), (4616, 0.09624653785138874), (2489, 0.09624171799276549), (3491, 0.09623829444917012), (2429, 0.09623301017015805), (2912, 0.09623297534943957), (1630, 0.09622998191452573), (276, 0.09621674140933026), (4212, 0.09621507418004421), (1117, 0.09621469720922832), (2463, 0.09620570060416059), (2278, 0.096189583049212), (3007, 0.09618574418429689), (4743, 0.09616709575858086), (3879, 0.09615382728792177), (1612, 0.09614884628785161), (2930, 0.09614765028411101), (2970, 0.09612791977139391), (4098, 0.09611823154942774), (4252, 0.09609291468709583), (1676, 0.09608917674738818), (3045, 0.09608297723447871), (240, 0.09607580838495408), (1313, 0.09605796627544722), (1399, 0.09603179810575428), (3068, 0.09603007916545565), (269, 0.0960290299046601), (4315, 0.09602534899277292), (467, 0.09601530021958499), (815, 0.09601461215445789), (3023, 0.09600594665594347), (3456, 0.09600348500791284), (4615, 0.09600036238703406), (1863, 0.09600023159425246), (3114, 0.09598393059900742), (3071, 0.09598022197671169), (3937, 0.09597853944305217), (2779, 0.09597765921739743), (1694, 0.0959768055888033), (826, 0.09597413551300459), (3602, 0.09596977203511187), (1199, 0.09596695583060305), (877, 0.09595850497379531), (4159, 0.09594312657481482), (1817, 0.09594305576483868), (4056, 0.09593454449040342), (492, 0.09593207638745896), (4568, 0.09589003127918819), (1802, 0.09589000477270582), (3067, 0.09588365467374421), (4153, 0.09588015852908746), (783, 0.09587622271086436), (1125, 0.09586173165453787), (3987, 0.09586088587033345), (2900, 0.09585669646155334), (1207, 0.09584964334554548), (4517, 0.09584683737858905), (2699, 0.09584540787947243), (1128, 0.09584392648558086), (2551, 0.09582333320850099), (4622, 0.09580054161121243), (1937, 0.09579045457198232), (4071, 0.09578808172628756), (3993, 0.09578796429293704), (3590, 0.09577371428967418), (829, 0.09576033373830137), (1161, 0.0957548792733242), (2994, 0.0957359885114992), (132, 0.09572921387638858), (997, 0.0957286972418729), (378, 0.09572722799851179), (1203, 0.09572099897355221), (1933, 0.09571191721374284), (3563, 0.09569901169383228), (1707, 0.0956950560939631), (1825, 0.09569327431324934), (75, 0.09568831751367288), (1290, 0.09568551145794994), (720, 0.09567710596123899), (963, 0.09567358848158913), (2693, 0.09567115513599143), (4109, 0.09566755519264362), (2762, 0.09566483278679407), (776, 0.0956433556138983), (4564, 0.09563305711702319), (1856, 0.09563218180192473), (330, 0.09562103204455216), (4079, 0.09561992270787958), (1411, 0.09561506084318629), (3107, 0.0956093001914329), (2148, 0.0956061386564389), (2523, 0.0956046733980585), (244, 0.09558961067924103), (3940, 0.09558567165703875), (1945, 0.09558552609057415), (3881, 0.0955795106400791), (3430, 0.09557489969198874), (1528, 0.09555740072499394), (4556, 0.09555133815423296), (1990, 0.09554703658388952), (3048, 0.09554352522117315), (3434, 0.09554135963876491), (2288, 0.09551724660563886), (767, 0.09551287921497242), (3328, 0.09550934710024148), (4069, 0.0955059325623233), (3399, 0.09550142153817975), (4560, 0.09549025343041576), (557, 0.09548729178674147), (2849, 0.09546727283455417), (1869, 0.09545998288002792), (2067, 0.09545113979544739), (280, 0.09544622652439955), (2043, 0.09543565966337107), (2065, 0.09543003332108883), (2981, 0.09542070553961128), (1146, 0.09539475948021219), (1853, 0.09539253334152573), (2992, 0.09538964235743926), (692, 0.09537481592479766), (1708, 0.09537369362740442), (2268, 0.09537043658209862), (1692, 0.09536872753841913), (343, 0.09536870397132069), (1000, 0.09536423636687887), (4060, 0.0953624443297912), (4205, 0.09536144753955172), (610, 0.09536001055017054), (2361, 0.09535791668027789), (718, 0.09535644085519172), (65, 0.09534916093415641), (1045, 0.09534508562325547), (3037, 0.09534498023844348), (2063, 0.09534063772291577), (2630, 0.09533959415377082), (1012, 0.09533057437010527), (2517, 0.09532901436271261), (874, 0.09531287476219549), (1526, 0.09529358942862992), (2036, 0.09528098071249537), (4727, 0.0952787649374854), (3014, 0.09527638701161321), (818, 0.09527524187595102), (1620, 0.09526393296554969), (3211, 0.09526331847039762), (3595, 0.0952592499202608), (4502, 0.09523980979741331), (468, 0.0952339889508558), (1750, 0.09523341647413136), (3658, 0.09523154467765425), (3082, 0.09523145543461467), (4320, 0.09521250677952936), (4318, 0.09519779190692941), (4683, 0.09518826968439098), (3731, 0.0951871749166411), (4471, 0.0951862088583448), (1274, 0.09518566495990219), (2394, 0.09517962879169255), (3057, 0.09517319613543855), (1422, 0.09516790923638381), (119, 0.09515513765794714), (163, 0.09515280434412114), (1684, 0.09514716789457733), (1214, 0.09514219530374571), (1822, 0.09514042463620175), (3318, 0.0951337196634661), (2294, 0.09512897295611775), (3978, 0.0951271321638999), (3856, 0.09511419959693572), (983, 0.09510941940517918), (1756, 0.09510930733596704), (3840, 0.09510795882284086), (112, 0.0950911664199463), (29, 0.09508299038378157), (1346, 0.09507577885994462), (3814, 0.09507154900101078), (1884, 0.0950593223283949), (1066, 0.09505918639750896), (4278, 0.09505841755519692), (138, 0.09505725799592389), (2057, 0.09505551722452835), (3244, 0.09505081543636949), (1545, 0.0950342077838382), (1742, 0.0950271892164895), (519, 0.09499737505916475), (2382, 0.09499465134676591), (323, 0.09497544889640565), (1978, 0.09497034017643052), (3742, 0.09496058181389391), (400, 0.09495471219281922), (1824, 0.09495395182224682), (1974, 0.09495350072367026), (2377, 0.0949347408371128), (1709, 0.09491114574944999), (4553, 0.09490599456272532), (1622, 0.09490420513404865), (2862, 0.0948947197854991), (2973, 0.09487601510609166), (2497, 0.09486214115551087), (2431, 0.09485956484162407), (1749, 0.09485848582235921), (2023, 0.09485557465818324), (3407, 0.09484770783112523), (558, 0.09482959184765144), (1653, 0.0948173579408319), (1457, 0.09481165239714372), (801, 0.09476837131902423), (1449, 0.09476656530348812), (1353, 0.09476503356431491), (1372, 0.09476372169277886), (3466, 0.09476344811400901), (3614, 0.09474699693032172), (2068, 0.09473705444527747), (397, 0.09473366506295298), (2620, 0.09473014834708789), (2566, 0.09472274243293367), (4428, 0.09471648635141812), (19, 0.09471103758608211), (2534, 0.0947038979382232), (2791, 0.09470196926566493), (3029, 0.0946984150839699), (1964, 0.09469564309208289), (539, 0.09468907939886968), (3513, 0.0946883009426615), (2119, 0.09467944711733883), (3065, 0.09467719828216169), (2399, 0.09467061012547685), (4144, 0.09465768566157771), (412, 0.09465687798889058), (3637, 0.09465274016446354), (2412, 0.09464906998307104), (2754, 0.0946422056133069), (1342, 0.09463035748078812), (1904, 0.0946081712640022), (158, 0.09460463198543477), (396, 0.09459238497582756), (2002, 0.09459227862860699), (2446, 0.09458305354898669), (790, 0.09458242927561566), (437, 0.09457927367550056), (1696, 0.09457453341608604), (3038, 0.09457037680516334), (1739, 0.0945494921147029), (2611, 0.09454219048241608), (3641, 0.09453970278810693), (2759, 0.09453371721731547), (3372, 0.09452314513139655), (4614, 0.09451998214483943), (616, 0.09451379998499249), (1030, 0.09451202622555982), (1417, 0.09450054638204025), (4000, 0.09449910420233286), (799, 0.09449107490824236), (67, 0.09448552211208615), (1388, 0.09446836804819439), (650, 0.09446400831253815), (24, 0.09444181220869595), (571, 0.09442902373420943), (172, 0.09442012854027058), (2622, 0.0944080326366038), (2985, 0.09437841605207638), (527, 0.09436246439505641), (1685, 0.09435371741360497), (1197, 0.09435171499180028), (4664, 0.09434343717359725), (3644, 0.09433391382219397), (3028, 0.0943293653254135), (1728, 0.09431512129418686), (824, 0.09431478779277883), (3319, 0.09431162772456259), (1323, 0.09430972740584341), (564, 0.09430624231576172), (2042, 0.09430454868504366), (1695, 0.09429014570942089), (837, 0.09428981700252576), (2524, 0.09428342730168382), (4264, 0.09426539388811031), (77, 0.09424917623200674), (2976, 0.09423144046055332), (2336, 0.09421084363566619), (2380, 0.0941838801846834), (4029, 0.09418225258656394), (127, 0.09417194958956615), (311, 0.0941683171712886), (3622, 0.09414659228716571), (260, 0.09413690479072381), (2056, 0.09410959192444421), (2926, 0.09410801224666794), (562, 0.0941005217581814), (4272, 0.09409554183761736), (1631, 0.09409447242855772), (3147, 0.09409335532308502), (1922, 0.09408289033283329), (2954, 0.09405902232458085), (464, 0.0940590094363977), (4257, 0.094047686010504), (482, 0.09404569553982957), (1743, 0.09404429484841341), (325, 0.0940414537529495), (4217, 0.09403795523854803), (556, 0.09403148522581233), (4253, 0.09402389164402501), (3113, 0.09402259590806003), (906, 0.09401852587363177), (4180, 0.0940165048144119), (2586, 0.09401115580646197), (4441, 0.09400071948636145), (3416, 0.09399053320022935), (13, 0.09397445634014562), (3854, 0.09396610534438182), (1852, 0.09396404434493494), (3582, 0.09396192171729897), (4383, 0.09396066319314893), (1823, 0.09394747453491681), (667, 0.09393903691457249), (1408, 0.093936207100513), (1147, 0.0939311601751065), (641, 0.09392958377648546), (1642, 0.09392519301607624), (3433, 0.09391718868025149), (4586, 0.09389033698608201), (506, 0.09388153279645556), (3859, 0.09385539457714596), (376, 0.09384366516892707), (3349, 0.09381624355699157), (2929, 0.09381161564800092), (1680, 0.09379282205839697), (3932, 0.09378241785006496), (3342, 0.0937767334245524), (2345, 0.09375410534013535), (3853, 0.09375389897626266), (4419, 0.09373467175868201), (329, 0.09372868153661733), (2238, 0.09371257117275814), (213, 0.09370928265596928), (80, 0.09370764567026313), (3056, 0.09369624408204266), (1882, 0.0936838201687301), (3917, 0.09368361502845496), (3077, 0.09368252386675653), (3432, 0.09368110090556028), (319, 0.0936781889735462), (975, 0.0936766935760898), (1772, 0.09367586615075431), (2828, 0.09367260116148336), (372, 0.0936680815927646), (4357, 0.09366133253296616), (321, 0.09366092314551125), (2692, 0.09365140340838977), (3786, 0.09364478979208349), (1149, 0.09363769469291247), (473, 0.093629859248478), (4350, 0.0936284689512024), (1746, 0.09361344937992745), (1957, 0.09360784689886226), (1686, 0.09358299267054745), (1633, 0.09358199234504883), (2141, 0.09356696626336575), (555, 0.09355435267468173), (3902, 0.09355212528861144), (3684, 0.09354722093846035), (4726, 0.09354039053437464), (3426, 0.09353277540232405), (2274, 0.09352467222332833), (3527, 0.09352324283757697), (2225, 0.09352118009035973), (1287, 0.0935182463821321), (3872, 0.09350395349546951), (2481, 0.09350313554341524), (4689, 0.09350241471002121), (3214, 0.09348565467788726), (2906, 0.09348165346156849), (2545, 0.09346844938953845), (1034, 0.09346800385825724), (2859, 0.09346400753484048), (538, 0.09344978136345884), (4533, 0.09344652106308887), (1819, 0.09343222691354505), (2369, 0.09343171340851782), (1571, 0.0934210261368136), (92, 0.0934124689730557), (2538, 0.09340932363207362), (2107, 0.09339659520155143), (4310, 0.09338965752472246), (2120, 0.09337065460984012), (147, 0.09336963374988907), (3929, 0.09336860598836025), (3338, 0.09336049047226605), (1303, 0.0933589349841749), (746, 0.09333749358766417), (3250, 0.09332147144613555), (2955, 0.09332043946194186), (1654, 0.09330920352345157), (3860, 0.09330646515775202), (394, 0.09329682782241037), (4402, 0.09329636991186631), (568, 0.09329260021416083), (155, 0.09328067542414564), (4182, 0.0932784400304735), (2024, 0.09327745199232092), (953, 0.0932752726753425), (1567, 0.09327113806678848), (4154, 0.09326347144294142), (2942, 0.09325863888940333), (2905, 0.0932205186309227), (4354, 0.09319132918111675), (2801, 0.09318276534433045), (288, 0.09316859736600061), (1093, 0.09315577248251053), (3636, 0.09314949775851579), (1838, 0.09314897178975609), (393, 0.09313883760767554), (4249, 0.093126849188128), (1317, 0.09311354459613032), (1831, 0.0931103801366118), (2542, 0.09310135782380986), (2679, 0.09307220692167052), (1693, 0.0930634456972393), (1729, 0.09305055366069952), (784, 0.09301579124694183), (241, 0.0930003946007613), (958, 0.09298534884647587), (3070, 0.09297642848710198), (3528, 0.09296936515399465), (3465, 0.09296819622723992), (2520, 0.09296795912419514), (3331, 0.09296115090017978), (364, 0.09295877241017216), (2984, 0.09295787691399754), (4309, 0.09295030714981659), (4247, 0.09294974740923555), (734, 0.09294298247655527), (3767, 0.09294029775487553), (1156, 0.0929392031825158), (3989, 0.09290920883983574), (4390, 0.09290492187986284), (4232, 0.09290292733347034), (1556, 0.09288964948529263), (2338, 0.09287632351528281), (789, 0.09285507389235118), (851, 0.09284768485580182), (1083, 0.09284258530769302), (3021, 0.09281032904293249), (759, 0.09280729641718001), (1993, 0.09279247891199278), (3974, 0.09277200151043807), (2641, 0.09276975324402191), (265, 0.09276891397761752), (3311, 0.09275048291748866), (2265, 0.09274349609769648), (2587, 0.09274215638745203), (1966, 0.09273986884828596), (3543, 0.09273941057492015), (4366, 0.09272667340366557), (763, 0.09271059878666629), (3698, 0.09270980514289501), (2820, 0.09270667819451335), (2048, 0.0926941064330871), (565, 0.09267599582023162), (382, 0.09266805724269642), (4670, 0.09266514098160333), (3646, 0.09266107514277422), (1641, 0.0926508020846436), (234, 0.0926395932225809), (3156, 0.09263865669954853), (1773, 0.0926316788458999), (1917, 0.0926272390418754), (4279, 0.09262582956428615), (661, 0.09262340061010577), (503, 0.09261920507146765), (3568, 0.09261674658226784), (1293, 0.09261602649644156), (2204, 0.09261587725439584), (639, 0.09261129180436191), (3941, 0.09261009614154211), (4672, 0.09260683550346989), (4052, 0.09260547995127502), (1249, 0.09259977364858303), (46, 0.09259666864010925), (408, 0.09256756374306335), (295, 0.09256671707944479), (3842, 0.09255453262772374), (609, 0.09254542539658014), (1671, 0.09253631829271627), (1553, 0.09253359640387014), (933, 0.09252635961748347), (4509, 0.09248576926696239), (4409, 0.09245752523974263), (2076, 0.09245588240555346), (4738, 0.0924544120817832), (2594, 0.09245086099178063), (1832, 0.09244404611070674), (1123, 0.0924288271049151), (3016, 0.09242068224733062), (3530, 0.09240541248972671), (831, 0.0923991210330226), (4059, 0.09238819105193169), (93, 0.0923317888864805), (2323, 0.0923237727361451), (2071, 0.09232209853489592), (1649, 0.09230801298598659), (1367, 0.09229863566456277), (3589, 0.09228453569713635), (3664, 0.09227886645805158), (1068, 0.09227823824536079), (4536, 0.09227339351702903), (2129, 0.09227012772061335), (3691, 0.0922621312096718), (9, 0.09224377849623314), (786, 0.09223219679110257), (411, 0.0922260850320265), (2052, 0.09221407048577841), (1035, 0.09220019021282358), (1462, 0.09219907555233578), (812, 0.09219879622784356), (1764, 0.09219350416532733), (3567, 0.09219081712338699), (2386, 0.09218889285954672), (733, 0.09218229139472903), (1519, 0.09218108601394892), (617, 0.09218019356038946), (108, 0.09216664193943283), (338, 0.09216638726911158), (944, 0.09216503896851086), (3707, 0.09215423440022792), (1639, 0.09214581226757594), (3293, 0.09213264103952104), (4234, 0.09211083569775687), (4290, 0.09208554913406916), (106, 0.09208356924153253), (2866, 0.09206397934493328), (4057, 0.09205530234966093), (2347, 0.09205466165410728), (4437, 0.09205461413964258), (886, 0.09203361385578257), (593, 0.09200793341409776), (1730, 0.09200339071259361), (618, 0.09198207796670879), (3559, 0.09197521362043923), (510, 0.09196346135634942), (36, 0.0919630876425344), (974, 0.0919468445696617), (333, 0.09190535802194888), (2902, 0.09189338459333113), (133, 0.09188900906007773), (4591, 0.09187723377115628), (4053, 0.09186193555738172), (1397, 0.09185801546787016), (273, 0.09183375454330014), (827, 0.09182255084574575), (2064, 0.09181069272461792), (3733, 0.09178933789834814), (4274, 0.09178748868293758), (90, 0.09177170187946324), (2174, 0.09177045192512832), (4504, 0.09175801526199649), (25, 0.09175657225818647), (1797, 0.09175570012676064), (1215, 0.09174604731113516), (3570, 0.09174094053823832), (471, 0.09173932362195371), (1360, 0.09173741669198811), (1721, 0.09172485343599661), (449, 0.09171986268102272), (893, 0.09167608332444209), (4014, 0.09166743764517826), (129, 0.0916661842502767), (1624, 0.09165815567671011), (495, 0.09165251353966455), (3676, 0.09163667132670662), (3320, 0.09162369556773188), (2935, 0.09162034431087898), (3576, 0.09160608770844499), (1210, 0.09158868609838496), (3300, 0.09155213217650542), (3738, 0.09154296282988234), (2270, 0.09153703407858443), (2482, 0.0915344120678243), (2950, 0.09153168865417466), (4588, 0.09153012796121965), (608, 0.0915029572476985), (251, 0.0914682762326332), (4063, 0.09145462840696132), (134, 0.09145187731748754), (3231, 0.09139946657990494), (3215, 0.09136365658127765), (52, 0.09135531954190566), (611, 0.09135408469175509), (97, 0.09132407439000675), (1635, 0.09124450625625018), (33, 0.09123086960860767), (3980, 0.0912029813567573), (2331, 0.09119727943857767), (1186, 0.09118522572648795), (1994, 0.09118167953797308), (1190, 0.09117684215765756), (3195, 0.09117662499638718), (4712, 0.09115964201837333), (200, 0.09111692407801371), (4585, 0.0911149706658836), (2206, 0.09111258176628964), (3075, 0.0910727239719903), (2991, 0.09106389277809789), (1677, 0.0910633092648211), (2285, 0.0910611876310259), (921, 0.09105844655755699), (3495, 0.0910414288655978), (1144, 0.09098611004177598), (1211, 0.09097780053460813), (1914, 0.09096934087544886), (1283, 0.09094946085935209), (113, 0.09094575927831834), (866, 0.09094282397894461), (2344, 0.09093345715588615), (2149, 0.09090627790490083), (3542, 0.09089524428131181), (191, 0.09087487978904978), (3245, 0.0908603131825877), (4543, 0.09083652061592909), (3723, 0.09081598974420803), (1259, 0.09080670736346351), (4328, 0.09078857593258546), (1221, 0.09078552740954376), (2114, 0.09078132993939819), (3819, 0.09077662974774586), (2934, 0.0907758567585438), (1183, 0.0907360763067757), (3099, 0.09072726359568965), (1665, 0.09069788934681845), (3279, 0.09068546809551446), (2348, 0.09067447498131746), (1546, 0.09067021357522473), (130, 0.0906646788509024), (943, 0.0906518227073442), (76, 0.09064910717122088), (4322, 0.0906336330409303), (1752, 0.09061713649744964), (2279, 0.09059246023447137), (4690, 0.09056763289983177), (3887, 0.09056370691459975), (1032, 0.090486925346984), (44, 0.09048303666901168), (4733, 0.0904455834152324), (3006, 0.09043951001481508), (986, 0.0904240499372936), (761, 0.09041864791912506), (268, 0.09041124101086435), (4391, 0.09037357886605303), (435, 0.09036059102757275), (294, 0.09035798586257851), (1595, 0.09032963932309954), (559, 0.09032668634774126), (4598, 0.09031833388405305), (2777, 0.09030998724243072), (3609, 0.09030897476829759), (3598, 0.09029705400287703), (1796, 0.09029522908475907), (1340, 0.09028578144154759), (3418, 0.09025204768975399), (1795, 0.09022275494618373), (2139, 0.09021528955593719), (469, 0.09020320299055032), (2289, 0.09019035098815067), (775, 0.09017647728129095), (3720, 0.0901615322681166), (60, 0.09014614952584858), (3452, 0.0901041568565845), (4165, 0.09009822008929748), (3278, 0.09009782477443021), (2424, 0.0900778908791646), (862, 0.0900751018616841), (94, 0.09006714393283279), (1136, 0.09006192610019022), (1982, 0.0900502112518615), (1558, 0.09003405617719389), (4171, 0.09002991891460754), (2660, 0.0900270328958364), (2943, 0.09001301606969477), (82, 0.09000016702815873), (3726, 0.0899981250796646), (2823, 0.08997738707801048), (3411, 0.08996482600602053), (2496, 0.08995982766963051), (566, 0.08995614054012314), (248, 0.08994701849818333), (1493, 0.08993054776659455), (3668, 0.08991257533693209), (4620, 0.0899123544758453), (1115, 0.08990809608745436), (598, 0.0899002970087763), (515, 0.08986180639700315), (3295, 0.0898552290111056), (3558, 0.08985385083215262), (1652, 0.08983896401387853), (2827, 0.08982336492482894), (3876, 0.08982267150541975), (357, 0.08980749305596904), (3953, 0.08980717285724618), (1514, 0.08979793394137987), (3135, 0.0897961478028646), (3727, 0.08977460571794302), (2548, 0.08976591166508922), (359, 0.089763837658217), (3480, 0.08976209398367542), (4468, 0.08976091636535485), (3405, 0.08970901186335334), (907, 0.08970401603490971), (4156, 0.08968203270574074), (116, 0.08966560410959105), (3280, 0.08964297195801849), (4228, 0.08964153256524904), (1448, 0.08964063450575387), (2578, 0.08963957127900772), (632, 0.08963790358493447), (3894, 0.08963543864733363), (3340, 0.0896332934311301), (1444, 0.08962878786385531), (414, 0.0896229914932685), (4525, 0.08961872584358857), (2366, 0.08960855365529585), (2471, 0.08959854828274319), (1809, 0.08959527950274541), (2362, 0.08957391944904038), (2917, 0.0895659766005841), (1086, 0.08955791263133756), (1801, 0.08954544113347988), (3669, 0.08953275965893966), (1623, 0.08952276880358695), (604, 0.08949100861038642), (2876, 0.08949001692830663), (2526, 0.08947901000656025), (1900, 0.08947370484473517), (1200, 0.08944176346075593), (3626, 0.0894395488466481), (4520, 0.08942914740902017), (2173, 0.08942201297781438), (1651, 0.08939055884263732), (1331, 0.08938699421093219), (4438, 0.0893751502810676), (2946, 0.08933992815816123), (3630, 0.0893267572716338), (1559, 0.08930504985306506), (4220, 0.08929338559980739), (2240, 0.08928713356860922), (1181, 0.08925442097763725), (4668, 0.08925358014245602), (3957, 0.08924495609150687), (438, 0.08923519296190079), (174, 0.08921602063622669), (1177, 0.08919113643624899), (3954, 0.0891820516832631), (3827, 0.08914345870970893), (1273, 0.08909611107016649), (267, 0.0890898110063419), (648, 0.08906903239638032), (3821, 0.08902259486322943), (2621, 0.08901954867172533), (2389, 0.08900302983952549), (4305, 0.0889942381325282), (828, 0.0889734501047923), (647, 0.08896229205187031), (4476, 0.08894593146735862), (668, 0.08894514169054249), (3333, 0.08894423716888071), (2256, 0.0889224368152338), (3836, 0.08891768656448013), (1055, 0.08890528477451246), (316, 0.0888684965467063), (672, 0.08885878381392648), (2432, 0.0888523671319012), (4304, 0.08882051382824961), (3105, 0.08882050536787345), (3788, 0.08881377582411372), (2132, 0.08881060209004106), (796, 0.08877979888819547), (3100, 0.08875258734815307), (387, 0.08873555985259178), (3719, 0.08872785303573939), (2098, 0.08872211820088889), (3118, 0.0887161111005818), (1135, 0.08870953054455019), (149, 0.08868257958139009), (1989, 0.08864955819690738), (156, 0.08861331921833965), (480, 0.08859897488915702), (3625, 0.08856782538924651), (1672, 0.0885650252317228), (2163, 0.08851869604136842), (779, 0.08849123037862018), (1213, 0.08847494154865655), (644, 0.08844226950337751), (4693, 0.08839602215523562), (1350, 0.08836624868017018), (770, 0.08835034989201651), (1081, 0.08834437976787309), (4667, 0.08833375342951329), (416, 0.08832215039091898), (3909, 0.08830616514679537), (3674, 0.08830049285774486), (2457, 0.08829898985728218), (4450, 0.08829068325509212), (195, 0.08827330159734745), (3700, 0.08825418558247201), (4573, 0.08823230639891291), (710, 0.08820914727738773), (2093, 0.08818643024165713), (2961, 0.08814803714930691), (1605, 0.08813294847012096), (4044, 0.08811556934032434), (4513, 0.08809568748579785), (2607, 0.08809083355138961), (1899, 0.08807950367901403), (3801, 0.0880400332565215), (2761, 0.08799201861395742), (4129, 0.08798887306611511), (290, 0.087973529287815), (3916, 0.08796966871317585), (4235, 0.08793992200628449), (4638, 0.08792067962872324), (3693, 0.08791484596603502), (4229, 0.08791472097509034), (4292, 0.08788783182398001), (2080, 0.08787982799706748), (2747, 0.08787970144589008), (1471, 0.08780243453436617), (3247, 0.08778869336941361), (2608, 0.08778784119270451), (3093, 0.08774703437344963), (2736, 0.08773392590282851), (194, 0.08772123248610575), (3619, 0.08771968607587972), (970, 0.08770040319676543), (547, 0.08768605950553862), (3725, 0.08766416835062271), (1160, 0.08766321282207858), (88, 0.08766146199210331), (99, 0.08765118301642884), (4193, 0.08763872806667822), (4461, 0.08763685646052423), (4035, 0.08761042017566587), (4577, 0.08761013477381425), (2110, 0.08756487195448859), (2871, 0.08753464649596031), (3500, 0.08752219010014464), (403, 0.08752177285018298), (1414, 0.0875181671336521), (4236, 0.08751604605973282), (165, 0.0874921898981253), (4729, 0.0874549965577422), (442, 0.08738545500773812), (4080, 0.08736018295057851), (2842, 0.0873548788652624), (417, 0.08731604766395255), (861, 0.08731333582016976), (2805, 0.08727131527254893), (4751, 0.08724554788172395), (3795, 0.08710870992231827), (3160, 0.08704846485226135), (487, 0.08704769326945133), (766, 0.08703526500114148), (314, 0.08703347926006648), (1657, 0.08700997935395706), (4353, 0.08700571265756062), (2439, 0.08694995732306958), (202, 0.0869317400688953), (4254, 0.08693044532442577), (3268, 0.08692516173182552), (2355, 0.08690380170911913), (4661, 0.08689174581131044), (3222, 0.08687967167825054), (1369, 0.08687376754319767), (186, 0.08686723317337547), (3732, 0.08686575437870639), (4610, 0.08684349325888012), (942, 0.08681386968528648), (2886, 0.08679043034858215), (1316, 0.08678721872858343), (3900, 0.08673508624673629), (1763, 0.08671501242532359), (3409, 0.08671014015649298), (1020, 0.0867075888122338), (3035, 0.08668853136112642), (157, 0.08668271349962897), (4748, 0.08667629681546998), (968, 0.08667185109900889), (3170, 0.08665724234368212), (505, 0.08664720138862272), (1934, 0.08662933869491742), (2596, 0.08661563237691242), (3880, 0.086614209838282), (3171, 0.08660193721039602), (2318, 0.0865985511056086), (1312, 0.08653183096565191), (2220, 0.08646776775692201), (4213, 0.08644212043871652), (2426, 0.08635782407644828), (3799, 0.086326306911153), (3898, 0.08627737760492496), (3309, 0.08624596217574335), (3645, 0.08623466924283263), (1781, 0.08621196359788562), (2997, 0.08612211158192791), (1747, 0.0860760330252172), (4141, 0.0860598844126849), (3024, 0.08602720213748231), (979, 0.08601902785552892), (4385, 0.08600195037704146), (838, 0.0859307701762011), (4151, 0.0859106039621839), (1019, 0.08585050714260697), (197, 0.08579470774537054), (1194, 0.08579120571273147), (3304, 0.08578801450104966), (3667, 0.08578503768870188), (32, 0.08575427797730564), (4652, 0.08574369013044336), (2767, 0.08570748155947248), (3958, 0.08569050601564608), (2287, 0.08568315927740763), (4343, 0.08566620020256818), (964, 0.08564744937529559), (722, 0.08558221497290389), (3200, 0.08555961234242884), (2627, 0.08554866638519505), (1098, 0.08553050876906408), (4498, 0.08551375481849621), (78, 0.08549109895599463), (941, 0.08547734124485863), (256, 0.08545967407781038), (3394, 0.08544767222507947), (924, 0.08538402364251033), (1627, 0.08533571738065517), (2774, 0.08529207010826233), (4373, 0.08524633503540487), (903, 0.08524523794851412), (2152, 0.0852395115115379), (2971, 0.08523287888828608), (4261, 0.08518919930834903), (1980, 0.08517028480938046), (3362, 0.08516242882493841), (3525, 0.08513065360893338), (4532, 0.08511890846780693), (3983, 0.08511380753205047), (3534, 0.0850871374507534), (63, 0.0846911995011757), (1153, 0.08468304362458105), (3538, 0.08463658729760133), (1565, 0.08461063246850478), (4636, 0.08460665593000319), (3205, 0.08446979307013425), (4603, 0.08445180390233442), (190, 0.08439302334471872), (4679, 0.08437637444883186), (2556, 0.08424978189326737), (3254, 0.08419702053886555), (3657, 0.08417362494659457), (452, 0.08412796021699631), (3634, 0.08395267765770334), (1209, 0.08393279646790287), (2573, 0.08390679739687211), (707, 0.08389487813705956), (4326, 0.08378779164390025), (475, 0.08373880865007186), (4445, 0.08371900748915358), (3199, 0.08370130939650526), (3079, 0.08370105470152191), (3455, 0.08365308628367336), (1699, 0.08360640811013875), (1434, 0.08348750228369473), (3946, 0.08342153959639616), (3347, 0.08336724960169423), (1065, 0.08334849766647312), (2674, 0.08332231244056573), (4439, 0.08330268175645927), (4095, 0.08321053761483181), (243, 0.08317460115046896), (159, 0.08310461976310303), (2933, 0.08310435941627098), (4473, 0.0829997041884712), (2735, 0.08298804919741429), (1042, 0.08298636892656087), (1289, 0.08298604205119721), (3895, 0.08295923274145979), (3575, 0.08293575900673299), (4072, 0.08290907842447584), (1628, 0.08287391705502381), (336, 0.08287333533256044), (4018, 0.08286392702303942), (3050, 0.08271369683906002), (2885, 0.08269683400861641), (1892, 0.08264108711312748), (2020, 0.08260232402543188), (1745, 0.08249666671493575), (575, 0.08246279730494567), (2697, 0.08235613700627574), (1648, 0.08229231074243008), (1377, 0.0822645182860193), (2686, 0.08215600201466082), (1395, 0.08212102565467626), (3927, 0.08204385344555679), (1826, 0.08191777560480568), (951, 0.08184009710630523), (2227, 0.08183394747344128), (4475, 0.0817526933268329), (2248, 0.08172493792001533), (917, 0.08172397062453327), (168, 0.08168427399314085), (2373, 0.08166448972621564), (816, 0.08165646346446512), (1078, 0.08161644802207861), (4674, 0.0816022909741409), (3806, 0.0814690156706807), (1040, 0.08141755648734308), (2025, 0.08129831321390928), (4608, 0.0812470872625824), (1753, 0.08123564715171618), (645, 0.08121262332680806), (3285, 0.08119448218058506), (1418, 0.08109479747728952), (2127, 0.08087970212084816), (1938, 0.08080115451071881), (3755, 0.0807590072284413), (1005, 0.08071846823479555), (1535, 0.0805993889712871), (103, 0.0805936253212768), (2034, 0.08053904146282027), (2018, 0.08039904809167464), (3548, 0.08037651274961485), (252, 0.08035400570469828), (289, 0.08032084232199077), (4626, 0.08018493857280574), (7, 0.07990187907966527), (4296, 0.07987537500480588), (4745, 0.07966984333723763), (4429, 0.07942902477193631), (1164, 0.07937250749993777), (2602, 0.07937089187206796), (1320, 0.07936020451871807), (4386, 0.079182243606343), (4415, 0.07905766265435388), (3152, 0.07900865838995502), (16, 0.078989379781162), (4565, 0.07836342753828969), (3928, 0.07832315106359646), (1070, 0.0782611742680979), (2326, 0.07824111452197538), (2743, 0.07812259714507437), (3546, 0.07798661278859564), (3629, 0.0778925325642117), (2146, 0.07783500984707606), (3713, 0.07749801726981252), (4414, 0.07740303974309934), (293, 0.07726071167311056), (1037, 0.07719769308301468), (3750, 0.07689886428713827), (2469, 0.07665551244649096), (3944, 0.07632687870456206), (296, 0.07566297934585463), (1277, 0.07564879695120727), (1415, 0.07542373940870514), (2013, 0.07540865262640217), (4311, 0.07477698229618558), (224, 0.07430158132105948), (3365, 0.07391901770549743), (3431, 0.0738694854404189), (4744, 0.07370803224116913), (453, 0.0724194595745602), (3301, 0.0722604861187654), (2010, 0.07219302649490539), (4752, 0.07180146655756325), (4651, 0.07112187297115778), (3835, 0.07010640121493866), (929, 0.06996118159925283), (3429, 0.06942412614358179), (4301, 0.0685560707512277), (2544, 0.06795123801233272), (3608, 0.06295202729224758)]\n"
          ]
        }
      ]
    },
    {
      "cell_type": "code",
      "source": [
        "print('Top 30 movies suggested for you: \\n ')\n",
        "\n",
        "i = 1\n",
        "\n",
        "for movie in sorted_similar_movies:\n",
        "    index = movie[0]\n",
        "    title_from_index = movies[movies.index==index]['Movie_Title'].values[0]\n",
        "    if (i<31):\n",
        "        print(i,'.',title_from_index)\n",
        "        i+=1"
      ],
      "metadata": {
        "colab": {
          "base_uri": "https://localhost:8080/"
        },
        "id": "Ep7xD19tZb6j",
        "outputId": "a6424973-6180-4a6a-a606-5f8cb53bdc7b"
      },
      "execution_count": 203,
      "outputs": [
        {
          "output_type": "stream",
          "name": "stdout",
          "text": [
            "Top 30 movies suggested for you: \n",
            " \n",
            "1 . Finding Nemo\n",
            "2 . Running Forever\n",
            "3 . Me You and Five Bucks\n",
            "4 . Amidst the Devil's Wings\n",
            "5 . Down & Out With The Dolls\n",
            "6 . I Want Your Money\n",
            "7 . Sex With Strangers\n",
            "8 . The Helix... Loaded\n",
            "9 . John Carter\n",
            "10 . The Muse\n",
            "11 . Fabled\n",
            "12 . Barney's Great Adventure\n",
            "13 . Death Sentence\n",
            "14 . WALL·E\n",
            "15 . 2016: Obama's America\n",
            "16 . The Last Temptation of Christ\n",
            "17 . Call + Response\n",
            "18 . Big Fish\n",
            "19 . Bending Steel\n",
            "20 . Flight of the Intruder\n",
            "21 . ATL\n",
            "22 . The Hadza:  Last of the First\n",
            "23 . The Case of the Grinning Cat\n",
            "24 . American Dreamz\n",
            "25 . Straight Out of Brooklyn\n",
            "26 . Silent Movie\n",
            "27 . The Shaggy Dog\n",
            "28 . Butterfly Girl\n",
            "29 . Out of the Furnace\n",
            "30 . Atlantis: The Lost Empire\n"
          ]
        }
      ]
    },
    {
      "cell_type": "markdown",
      "source": [
        "# **Top 10 Movie Recommendations**"
      ],
      "metadata": {
        "id": "nqyO8oHIjUxV"
      }
    },
    {
      "cell_type": "code",
      "source": [
        "movie_Name = input('Enter your favourite movie name : ')\n",
        "list_of_all_titles = movies['Movie_Title'].tolist()\n",
        "find_close_match = difflib.get_close_matches(movie_Name, list_of_all_titles)\n",
        "close_match = find_close_match[0]\n",
        "index_of_movie = movies[movies.Movie_Title == close_match]['Movie_ID'].values[0]\n",
        "recommendation_score = list(enumerate(sim_score[index_of_movie]))\n",
        "sorted_similar_movies = sorted(recommendation_score, key = lambda x:x[1], reverse = True)\n",
        "print('Top 10 movies suggested for you: \\n')\n",
        "\n",
        "i=1\n",
        "\n",
        "for movie in sorted_similar_movies:\n",
        "    index = movie[0]\n",
        "    title_from_index = movies[movies.Movie_ID==index]['Movie_Title'].values\n",
        "    if(i<11):\n",
        "        print(i,'.',title_from_index)\n",
        "        i+=1"
      ],
      "metadata": {
        "colab": {
          "base_uri": "https://localhost:8080/"
        },
        "id": "WpNZ4_YXaL8C",
        "outputId": "2f088ceb-9863-4dd7-a02a-97ceeee66fd4"
      },
      "execution_count": 214,
      "outputs": [
        {
          "output_type": "stream",
          "name": "stdout",
          "text": [
            "Enter your favourite movie name : star trek\n",
            "Top 10 movies suggested for you: \n",
            "\n",
            "1 . ['Star Trek']\n",
            "2 . ['Lights Out']\n",
            "3 . [\"Should've Been Romeo\"]\n",
            "4 . ['Rotor DR1']\n",
            "5 . ['She Done Him Wrong']\n",
            "6 . ['A Tale of Three Cities']\n",
            "7 . ['Faithful']\n",
            "8 . ['Dead Man Down']\n",
            "9 . ['Smoke Signals']\n",
            "10 . ['The Helix... Loaded']\n"
          ]
        }
      ]
    },
    {
      "cell_type": "code",
      "source": [],
      "metadata": {
        "id": "_6qN7YXpkC1f"
      },
      "execution_count": null,
      "outputs": []
    }
  ]
}